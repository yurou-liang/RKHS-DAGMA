version https://git-lfs.github.com/spec/v1
oid sha256:d1a4c89e4fc50b7dd4f0a20039183e5d756808ab6c88cbd0a11d87d4548ee3c6
size 47789822
