{
 "cells": [
  {
   "cell_type": "code",
   "execution_count": 1,
   "metadata": {},
   "outputs": [
    {
     "name": "stderr",
     "output_type": "stream",
     "text": [
      "Detecting 1 CUDA device(s).\n"
     ]
    }
   ],
   "source": [
    "import utils, RKHS_DAGMA_extractj\n",
    "import torch\n",
    "import time\n",
    "import numpy as np\n",
    "import matplotlib.pyplot as plt\n",
    "from CausalDisco.analytics import r2_sortability, var_sortability\n",
    "from CausalDisco.baselines import r2_sort_regress, var_sort_regress\n",
    "from cdt.metrics import SID, SHD\n",
    "import seaborn as sns\n",
    "import cdt\n",
    "import multiprocessing\n",
    "import threading\n",
    "import json"
   ]
  },
  {
   "cell_type": "code",
   "execution_count": 2,
   "metadata": {},
   "outputs": [],
   "source": [
    "sns.set_context(\"paper\")\n",
    "\n",
    "torch.set_default_dtype(torch.float64)\n",
    "\n",
    "device= torch.device('cuda' if torch.cuda.is_available() else 'cpu')\n",
    "torch.set_default_device(device)\n",
    "\n",
    "utils.set_random_seed(0)\n",
    "torch.manual_seed(0)\n",
    "\n",
    "cdt.SETTINGS.rpath= 'C:\\Program Files\\R\\R-4.3.3\\\\bin\\Rscript'\n",
    "\n",
    "num_cores = multiprocessing.cpu_count()\n",
    "\n",
    "# Print the number of CPU cores\n",
    "# print(\"Number of CPU cores:\", num_cores)\n",
    "# print(torch.__version__)"
   ]
  },
  {
   "cell_type": "markdown",
   "metadata": {},
   "source": [
    "# Generate Data"
   ]
  },
  {
   "cell_type": "code",
   "execution_count": 78,
   "metadata": {},
   "outputs": [],
   "source": [
    "n, d, s0, graph_type, sem_type = 100, 10, 40, 'ER', 'gp-add' # s0 = expected number of edges\n",
    "B_true = utils.simulate_dag(d, s0, graph_type) # [d, d] binary adj matrix of DAG\n",
    "X = utils.simulate_nonlinear_sem(B_true, n, sem_type) # [n, d] sample matrix\n",
    "results_var_sort_regress = var_sort_regress(X)\n",
    "X = torch.from_numpy(X)"
   ]
  },
  {
   "cell_type": "code",
   "execution_count": 79,
   "metadata": {},
   "outputs": [],
   "source": [
    "n, d, s0, graph_type, sem_type = 100, 10, 40, 'ER', 'gp' # s0 = expected number of edges\n",
    "B_true2 = utils.simulate_dag(d, s0, graph_type) # [d, d] binary adj matrix of DAG\n",
    "X2 = utils.simulate_nonlinear_sem(B_true2, n, sem_type) # [n, d] sample matrix\n",
    "X2 = torch.from_numpy(X2)"
   ]
  },
  {
   "cell_type": "code",
   "execution_count": 80,
   "metadata": {},
   "outputs": [],
   "source": [
    "n, d, s0, graph_type, sem_type = 100, 10, 40, 'ER', 'mlp' # s0 = expected number of edges\n",
    "B_true3 = utils.simulate_dag(d, s0, graph_type) # [d, d] binary adj matrix of DAG\n",
    "X3 = utils.simulate_nonlinear_sem(B_true3, n, sem_type) # [n, d] sample matrix\n",
    "X3 = torch.from_numpy(X3)"
   ]
  },
  {
   "cell_type": "code",
   "execution_count": 3,
   "metadata": {},
   "outputs": [],
   "source": [
    "n, d, s0, graph_type, sem_type = 100, 10, 20, 'ER', 'mlp' # s0 = expected number of edges\n",
    "B_true4 = utils.simulate_dag(d, s0, graph_type) # [d, d] binary adj matrix of DAG\n",
    "X4 = utils.simulate_nonlinear_sem(B_true4, n, sem_type) # [n, d] sample matrix\n",
    "X4 = torch.from_numpy(X4)"
   ]
  },
  {
   "cell_type": "code",
   "execution_count": 91,
   "metadata": {},
   "outputs": [],
   "source": [
    "n, d, s0, graph_type, sem_type = 100, 10, 20, 'ER', 'gp' # s0 = expected number of edges\n",
    "B_true5 = utils.simulate_dag(d, s0, graph_type) # [d, d] binary adj matrix of DAG\n",
    "X5 = utils.simulate_nonlinear_sem(B_true5, n, sem_type) # [n, d] sample matrix\n",
    "X5 = torch.from_numpy(X5)"
   ]
  },
  {
   "cell_type": "markdown",
   "metadata": {},
   "source": [
    "# Do RKHS_DAGMA Discovery"
   ]
  },
  {
   "cell_type": "markdown",
   "metadata": {},
   "source": [
    "## Find best hyperparameter "
   ]
  },
  {
   "cell_type": "code",
   "execution_count": 7,
   "metadata": {},
   "outputs": [],
   "source": [
    "def run_model(lambda1, tau, X, device, B_true):\n",
    "    #device = torch.device(\"cuda\" if torch.cuda.is_available() else \"cpu\")\n",
    "    results = {}\n",
    "    \n",
    "    eq_model = RKHS_DAGMA_extractj.DagmaRKHS(n, d, \"gaussian\").to(device)\n",
    "    model = RKHS_DAGMA_extractj.DagmaRKHS_nonlinear(eq_model)\n",
    "    X = X.to(device)\n",
    "    start_mse = eq_model.mse(X).detach().cpu().numpy()\n",
    "    time_start = time.time()\n",
    "    W_est_no_thresh, output = model.fit(X, lambda1=lambda1, tau=tau, lr=0.03, w_threshold=0.0)\n",
    "    time_end = time.time()\n",
    "\n",
    "    thresh_values = [0.005, 0.01, 0.05, 0.1, 0.15, 0.2, 0.25, 0.3]\n",
    "    for thresh in thresh_values:\n",
    "        try:\n",
    "            W_est_dagma = abs(W_est_no_thresh) * (abs(W_est_no_thresh) > thresh)\n",
    "            acc_dagma = utils.count_accuracy(B_true, W_est_dagma != 0)\n",
    "            valid = \"yes\"\n",
    "        #sid_dagma = SID(B_true, W_est_dagma != 0).item()\n",
    "        except Exception as e:\n",
    "            W_est_dagma = results_var_sort_regress\n",
    "            acc_dagma = utils.count_accuracy(B_true, W_est_dagma != 0)\n",
    "            valid = \"no\"\n",
    "            \n",
    "        diff_dagma = np.linalg.norm(W_est_dagma - abs(B_true))\n",
    "        mse_dagma = eq_model.mse(X).detach().cpu().numpy()\n",
    "        h_val = eq_model.h_func(X, s=1).detach().cpu().numpy()\n",
    "        W_est_dagma = W_est_dagma.tolist()\n",
    "        B = B_true.tolist()\n",
    "        key = f'lambda_{lambda1}_tau_{tau}_thresh_{thresh}'\n",
    "        results[key] = {\n",
    "            'SHD': acc_dagma['shd'],\n",
    "            'TPR': acc_dagma['tpr'],\n",
    "            'Time Elapsed': time_end - time_start,\n",
    "            'F1': acc_dagma['f1'],\n",
    "            'diff': diff_dagma,\n",
    "            'mse': mse_dagma.item(),\n",
    "            'valid': valid,\n",
    "            'h_val': h_val,\n",
    "            'start mse': start_mse\n",
    "            #'W_est_dagma': W_est_dagma,\n",
    "            #'B_true': B\n",
    "        }\n",
    "\n",
    "    torch.cuda.empty_cache()\n",
    "\n",
    "    # filename = f'model_results_lambda_{lambda1}_tau_{tau}.txt'\n",
    "\n",
    "    # with open(filename, 'w') as file:\n",
    "    #     json.dump(results, file, indent=4) \n",
    "\n",
    "    return results"
   ]
  },
  {
   "cell_type": "code",
   "execution_count": 5,
   "metadata": {},
   "outputs": [
    {
     "name": "stdout",
     "output_type": "stream",
     "text": [
      "device: cuda\n"
     ]
    }
   ],
   "source": [
    "device= torch.device('cuda' if torch.cuda.is_available() else 'cpu')\n",
    "#device = 'cpu'\n",
    "print('device:', device)\n",
    "torch.set_default_device(device)"
   ]
  },
  {
   "cell_type": "code",
   "execution_count": 46,
   "metadata": {},
   "outputs": [
    {
     "data": {
      "application/vnd.jupyter.widget-view+json": {
       "model_id": "448db2aed9514390bc3718932fd8115f",
       "version_major": 2,
       "version_minor": 0
      },
      "text/plain": [
       "  0%|          | 0/23000.0 [00:00<?, ?it/s]"
      ]
     },
     "metadata": {},
     "output_type": "display_data"
    },
    {
     "name": "stdout",
     "output_type": "stream",
     "text": [
      "{'lambda_0.001_tau_0.001_thresh_0.005': {'SHD': 24, 'TPR': 0.425, 'Time Elapsed': 210.4406533241272, 'F1': 0.5666666666666667, 'diff': 6.4358218841446275, 'mse': 2.759302481270854, 'valid': 'no'}, 'lambda_0.001_tau_0.001_thresh_0.01': {'SHD': 24, 'TPR': 0.425, 'Time Elapsed': 210.4406533241272, 'F1': 0.5666666666666667, 'diff': 6.4358218841446275, 'mse': 2.759302481270854, 'valid': 'no'}, 'lambda_0.001_tau_0.001_thresh_0.05': {'SHD': 24, 'TPR': 0.45, 'Time Elapsed': 210.4406533241272, 'F1': 0.5538461538461539, 'diff': 5.9727437247036725, 'mse': 2.759302481270854, 'valid': 'yes'}, 'lambda_0.001_tau_0.001_thresh_0.1': {'SHD': 27, 'TPR': 0.35, 'Time Elapsed': 210.4406533241272, 'F1': 0.4999999999999999, 'diff': 6.017062395145129, 'mse': 2.759302481270854, 'valid': 'yes'}, 'lambda_0.001_tau_0.001_thresh_0.15': {'SHD': 36, 'TPR': 0.125, 'Time Elapsed': 210.4406533241272, 'F1': 0.21739130434782608, 'diff': 6.178023065643537, 'mse': 2.759302481270854, 'valid': 'yes'}, 'lambda_0.001_tau_0.001_thresh_0.2': {'SHD': 39, 'TPR': 0.05, 'Time Elapsed': 210.4406533241272, 'F1': 0.09302325581395349, 'diff': 6.2570752152678635, 'mse': 2.759302481270854, 'valid': 'yes'}, 'lambda_0.001_tau_0.001_thresh_0.25': {'SHD': 40, 'TPR': 0.025, 'Time Elapsed': 210.4406533241272, 'F1': 0.047619047619047616, 'diff': 6.290307216385346, 'mse': 2.759302481270854, 'valid': 'yes'}, 'lambda_0.001_tau_0.001_thresh_0.3': {'SHD': 40, 'TPR': 0.0, 'Time Elapsed': 210.4406533241272, 'F1': 0.0, 'diff': 6.324555320336759, 'mse': 2.759302481270854, 'valid': 'yes'}}\n"
     ]
    }
   ],
   "source": [
    "results = run_model(lambda1 = 1e-3, tau = 1e-3, X = X, device = device, B_true = B_true)\n",
    "print(results)"
   ]
  },
  {
   "cell_type": "code",
   "execution_count": 47,
   "metadata": {},
   "outputs": [
    {
     "data": {
      "application/vnd.jupyter.widget-view+json": {
       "model_id": "d83c705fed434477aa163b285509ee38",
       "version_major": 2,
       "version_minor": 0
      },
      "text/plain": [
       "  0%|          | 0/23000.0 [00:00<?, ?it/s]"
      ]
     },
     "metadata": {},
     "output_type": "display_data"
    },
    {
     "name": "stdout",
     "output_type": "stream",
     "text": [
      "{'lambda_0.001_tau_0.0001_thresh_0.005': {'SHD': 24, 'TPR': 0.425, 'Time Elapsed': 180.84269857406616, 'F1': 0.5666666666666667, 'diff': 6.4358218841446275, 'mse': 2.755426866017596, 'valid': 'no'}, 'lambda_0.001_tau_0.0001_thresh_0.01': {'SHD': 14, 'TPR': 0.775, 'Time Elapsed': 180.84269857406616, 'F1': 0.7380952380952381, 'diff': 5.834193380400272, 'mse': 2.755426866017596, 'valid': 'yes'}, 'lambda_0.001_tau_0.0001_thresh_0.05': {'SHD': 20, 'TPR': 0.6, 'Time Elapsed': 180.84269857406616, 'F1': 0.64, 'diff': 5.880015334999827, 'mse': 2.755426866017596, 'valid': 'yes'}, 'lambda_0.001_tau_0.0001_thresh_0.1': {'SHD': 26, 'TPR': 0.375, 'Time Elapsed': 180.84269857406616, 'F1': 0.5263157894736842, 'diff': 5.966769141733165, 'mse': 2.755426866017596, 'valid': 'yes'}, 'lambda_0.001_tau_0.0001_thresh_0.15': {'SHD': 34, 'TPR': 0.175, 'Time Elapsed': 180.84269857406616, 'F1': 0.29166666666666663, 'diff': 6.119084044361985, 'mse': 2.755426866017596, 'valid': 'yes'}, 'lambda_0.001_tau_0.0001_thresh_0.2': {'SHD': 37, 'TPR': 0.1, 'Time Elapsed': 180.84269857406616, 'F1': 0.1777777777777778, 'diff': 6.192773012329572, 'mse': 2.755426866017596, 'valid': 'yes'}, 'lambda_0.001_tau_0.0001_thresh_0.25': {'SHD': 39, 'TPR': 0.05, 'Time Elapsed': 180.84269857406616, 'F1': 0.09302325581395349, 'diff': 6.253491626659814, 'mse': 2.755426866017596, 'valid': 'yes'}, 'lambda_0.001_tau_0.0001_thresh_0.3': {'SHD': 39, 'TPR': 0.025, 'Time Elapsed': 180.84269857406616, 'F1': 0.04878048780487806, 'diff': 6.282747045392193, 'mse': 2.755426866017596, 'valid': 'yes'}}\n"
     ]
    }
   ],
   "source": [
    "results = run_model(lambda1 = 1e-3, tau = 1e-4, X = X, device = device, B_true = B_true)\n",
    "print(results)"
   ]
  },
  {
   "cell_type": "code",
   "execution_count": 86,
   "metadata": {},
   "outputs": [
    {
     "data": {
      "application/vnd.jupyter.widget-view+json": {
       "model_id": "1fd986af6d22454f88ad9afbb6a7dc2a",
       "version_major": 2,
       "version_minor": 0
      },
      "text/plain": [
       "  0%|          | 0/23000.0 [00:00<?, ?it/s]"
      ]
     },
     "metadata": {},
     "output_type": "display_data"
    },
    {
     "name": "stdout",
     "output_type": "stream",
     "text": [
      "{'lambda_0.001_tau_0.001_thresh_0.005': {'SHD': 35, 'TPR': 0.2, 'Time Elapsed': 181.4742386341095, 'F1': 0.26666666666666666, 'diff': 6.502116972713525, 'mse': 1.1107244185459668, 'valid': 'no', 'h_val': array(8.61615871e-09)}, 'lambda_0.001_tau_0.001_thresh_0.01': {'SHD': 35, 'TPR': 0.2, 'Time Elapsed': 181.4742386341095, 'F1': 0.26666666666666666, 'diff': 6.502116972713525, 'mse': 1.1107244185459668, 'valid': 'no', 'h_val': array(8.61615871e-09)}, 'lambda_0.001_tau_0.001_thresh_0.05': {'SHD': 18, 'TPR': 0.575, 'Time Elapsed': 181.4742386341095, 'F1': 0.6865671641791045, 'diff': 6.0667231735690965, 'mse': 1.1107244185459668, 'valid': 'yes', 'h_val': array(8.61615871e-09)}, 'lambda_0.001_tau_0.001_thresh_0.1': {'SHD': 36, 'TPR': 0.1, 'Time Elapsed': 181.4742386341095, 'F1': 0.18181818181818182, 'diff': 6.252252898571511, 'mse': 1.1107244185459668, 'valid': 'yes', 'h_val': array(8.61615871e-09)}, 'lambda_0.001_tau_0.001_thresh_0.15': {'SHD': 40, 'TPR': 0.0, 'Time Elapsed': 181.4742386341095, 'F1': 0.0, 'diff': 6.324555320336759, 'mse': 1.1107244185459668, 'valid': 'yes', 'h_val': array(8.61615871e-09)}, 'lambda_0.001_tau_0.001_thresh_0.2': {'SHD': 40, 'TPR': 0.0, 'Time Elapsed': 181.4742386341095, 'F1': 0.0, 'diff': 6.324555320336759, 'mse': 1.1107244185459668, 'valid': 'yes', 'h_val': array(8.61615871e-09)}, 'lambda_0.001_tau_0.001_thresh_0.25': {'SHD': 40, 'TPR': 0.0, 'Time Elapsed': 181.4742386341095, 'F1': 0.0, 'diff': 6.324555320336759, 'mse': 1.1107244185459668, 'valid': 'yes', 'h_val': array(8.61615871e-09)}, 'lambda_0.001_tau_0.001_thresh_0.3': {'SHD': 40, 'TPR': 0.0, 'Time Elapsed': 181.4742386341095, 'F1': 0.0, 'diff': 6.324555320336759, 'mse': 1.1107244185459668, 'valid': 'yes', 'h_val': array(8.61615871e-09)}}\n"
     ]
    }
   ],
   "source": [
    "results2 = run_model(lambda1 = 1e-3, tau = 1e-3, X = X2, device = device, B_true = B_true2)\n",
    "print(results2)"
   ]
  },
  {
   "cell_type": "code",
   "execution_count": 87,
   "metadata": {},
   "outputs": [
    {
     "data": {
      "application/vnd.jupyter.widget-view+json": {
       "model_id": "2433d6971b094222abcd3b28dd625c51",
       "version_major": 2,
       "version_minor": 0
      },
      "text/plain": [
       "  0%|          | 0/23000.0 [00:00<?, ?it/s]"
      ]
     },
     "metadata": {},
     "output_type": "display_data"
    },
    {
     "name": "stdout",
     "output_type": "stream",
     "text": [
      "{'lambda_0.001_tau_0.0001_thresh_0.005': {'SHD': 35, 'TPR': 0.2, 'Time Elapsed': 163.8069553375244, 'F1': 0.26666666666666666, 'diff': 6.502116972713525, 'mse': 1.1084216716992488, 'valid': 'no', 'h_val': array(8.1489209e-09)}, 'lambda_0.001_tau_0.0001_thresh_0.01': {'SHD': 35, 'TPR': 0.2, 'Time Elapsed': 163.8069553375244, 'F1': 0.26666666666666666, 'diff': 6.502116972713525, 'mse': 1.1084216716992488, 'valid': 'no', 'h_val': array(8.1489209e-09)}, 'lambda_0.001_tau_0.0001_thresh_0.05': {'SHD': 14, 'TPR': 0.675, 'Time Elapsed': 163.8069553375244, 'F1': 0.75, 'diff': 5.973745884875571, 'mse': 1.1084216716992488, 'valid': 'yes', 'h_val': array(8.1489209e-09)}, 'lambda_0.001_tau_0.0001_thresh_0.1': {'SHD': 36, 'TPR': 0.1, 'Time Elapsed': 163.8069553375244, 'F1': 0.18181818181818182, 'diff': 6.240759172032432, 'mse': 1.1084216716992488, 'valid': 'yes', 'h_val': array(8.1489209e-09)}, 'lambda_0.001_tau_0.0001_thresh_0.15': {'SHD': 39, 'TPR': 0.025, 'Time Elapsed': 163.8069553375244, 'F1': 0.04878048780487806, 'diff': 6.301685942471221, 'mse': 1.1084216716992488, 'valid': 'yes', 'h_val': array(8.1489209e-09)}, 'lambda_0.001_tau_0.0001_thresh_0.2': {'SHD': 40, 'TPR': 0.0, 'Time Elapsed': 163.8069553375244, 'F1': 0.0, 'diff': 6.324555320336759, 'mse': 1.1084216716992488, 'valid': 'yes', 'h_val': array(8.1489209e-09)}, 'lambda_0.001_tau_0.0001_thresh_0.25': {'SHD': 40, 'TPR': 0.0, 'Time Elapsed': 163.8069553375244, 'F1': 0.0, 'diff': 6.324555320336759, 'mse': 1.1084216716992488, 'valid': 'yes', 'h_val': array(8.1489209e-09)}, 'lambda_0.001_tau_0.0001_thresh_0.3': {'SHD': 40, 'TPR': 0.0, 'Time Elapsed': 163.8069553375244, 'F1': 0.0, 'diff': 6.324555320336759, 'mse': 1.1084216716992488, 'valid': 'yes', 'h_val': array(8.1489209e-09)}}\n"
     ]
    }
   ],
   "source": [
    "results2 = run_model(lambda1 = 1e-3, tau = 1e-4, X = X2, device = device, B_true = B_true2)\n",
    "print(results2)"
   ]
  },
  {
   "cell_type": "code",
   "execution_count": 88,
   "metadata": {},
   "outputs": [
    {
     "data": {
      "application/vnd.jupyter.widget-view+json": {
       "model_id": "e86ba2b611b64667be04cb83bb1147fd",
       "version_major": 2,
       "version_minor": 0
      },
      "text/plain": [
       "  0%|          | 0/23000.0 [00:00<?, ?it/s]"
      ]
     },
     "metadata": {},
     "output_type": "display_data"
    },
    {
     "name": "stdout",
     "output_type": "stream",
     "text": [
      "{'lambda_0.001_tau_0.001_thresh_0.005': {'SHD': 24, 'TPR': 0.525, 'Time Elapsed': 319.3255410194397, 'F1': 0.49411764705882355, 'diff': 6.709012980221802, 'mse': 41.38616093191087, 'valid': 'yes', 'h_val': array(3.6323078e-07)}, 'lambda_0.001_tau_0.001_thresh_0.01': {'SHD': 24, 'TPR': 0.525, 'Time Elapsed': 319.3255410194397, 'F1': 0.49411764705882355, 'diff': 6.709012980221802, 'mse': 41.38616093191087, 'valid': 'yes', 'h_val': array(3.6323078e-07)}, 'lambda_0.001_tau_0.001_thresh_0.05': {'SHD': 24, 'TPR': 0.525, 'Time Elapsed': 319.3255410194397, 'F1': 0.49411764705882355, 'diff': 6.709012980221802, 'mse': 41.38616093191087, 'valid': 'yes', 'h_val': array(3.6323078e-07)}, 'lambda_0.001_tau_0.001_thresh_0.1': {'SHD': 24, 'TPR': 0.525, 'Time Elapsed': 319.3255410194397, 'F1': 0.49411764705882355, 'diff': 6.709012980221802, 'mse': 41.38616093191087, 'valid': 'yes', 'h_val': array(3.6323078e-07)}, 'lambda_0.001_tau_0.001_thresh_0.15': {'SHD': 24, 'TPR': 0.5, 'Time Elapsed': 319.3255410194397, 'F1': 0.48192771084337355, 'diff': 6.722631074962924, 'mse': 41.38616093191087, 'valid': 'yes', 'h_val': array(3.6323078e-07)}, 'lambda_0.001_tau_0.001_thresh_0.2': {'SHD': 25, 'TPR': 0.475, 'Time Elapsed': 319.3255410194397, 'F1': 0.46341463414634143, 'diff': 6.747093513673113, 'mse': 41.38616093191087, 'valid': 'yes', 'h_val': array(3.6323078e-07)}, 'lambda_0.001_tau_0.001_thresh_0.25': {'SHD': 26, 'TPR': 0.45, 'Time Elapsed': 319.3255410194397, 'F1': 0.4444444444444445, 'diff': 6.77738245465561, 'mse': 41.38616093191087, 'valid': 'yes', 'h_val': array(3.6323078e-07)}, 'lambda_0.001_tau_0.001_thresh_0.3': {'SHD': 29, 'TPR': 0.375, 'Time Elapsed': 319.3255410194397, 'F1': 0.3846153846153846, 'diff': 6.883897796352564, 'mse': 41.38616093191087, 'valid': 'yes', 'h_val': array(3.6323078e-07)}}\n"
     ]
    }
   ],
   "source": [
    "results3 = run_model(lambda1 = 1e-3, tau = 1e-3, X = X3, device = device, B_true = B_true3)\n",
    "print(results3)"
   ]
  },
  {
   "cell_type": "code",
   "execution_count": 89,
   "metadata": {},
   "outputs": [
    {
     "data": {
      "application/vnd.jupyter.widget-view+json": {
       "model_id": "29ff36d26a8a4dfc875666508b6e2ff1",
       "version_major": 2,
       "version_minor": 0
      },
      "text/plain": [
       "  0%|          | 0/23000.0 [00:00<?, ?it/s]"
      ]
     },
     "metadata": {},
     "output_type": "display_data"
    },
    {
     "name": "stdout",
     "output_type": "stream",
     "text": [
      "{'lambda_0.001_tau_0.0001_thresh_0.005': {'SHD': 24, 'TPR': 0.525, 'Time Elapsed': 319.1279761791229, 'F1': 0.49411764705882355, 'diff': 6.7527533788326, 'mse': 41.35045746484701, 'valid': 'yes', 'h_val': array(4.03358675e-07)}, 'lambda_0.001_tau_0.0001_thresh_0.01': {'SHD': 24, 'TPR': 0.525, 'Time Elapsed': 319.1279761791229, 'F1': 0.49411764705882355, 'diff': 6.7527533788326, 'mse': 41.35045746484701, 'valid': 'yes', 'h_val': array(4.03358675e-07)}, 'lambda_0.001_tau_0.0001_thresh_0.05': {'SHD': 24, 'TPR': 0.525, 'Time Elapsed': 319.1279761791229, 'F1': 0.49411764705882355, 'diff': 6.7527533788326, 'mse': 41.35045746484701, 'valid': 'yes', 'h_val': array(4.03358675e-07)}, 'lambda_0.001_tau_0.0001_thresh_0.1': {'SHD': 24, 'TPR': 0.525, 'Time Elapsed': 319.1279761791229, 'F1': 0.49411764705882355, 'diff': 6.7527533788326, 'mse': 41.35045746484701, 'valid': 'yes', 'h_val': array(4.03358675e-07)}, 'lambda_0.001_tau_0.0001_thresh_0.15': {'SHD': 24, 'TPR': 0.5, 'Time Elapsed': 319.1279761791229, 'F1': 0.48192771084337355, 'diff': 6.7678280118954905, 'mse': 41.35045746484701, 'valid': 'yes', 'h_val': array(4.03358675e-07)}, 'lambda_0.001_tau_0.0001_thresh_0.2': {'SHD': 25, 'TPR': 0.475, 'Time Elapsed': 319.1279761791229, 'F1': 0.46341463414634143, 'diff': 6.793732623831119, 'mse': 41.35045746484701, 'valid': 'yes', 'h_val': array(4.03358675e-07)}, 'lambda_0.001_tau_0.0001_thresh_0.25': {'SHD': 26, 'TPR': 0.45, 'Time Elapsed': 319.1279761791229, 'F1': 0.4444444444444445, 'diff': 6.82551061621758, 'mse': 41.35045746484701, 'valid': 'yes', 'h_val': array(4.03358675e-07)}, 'lambda_0.001_tau_0.0001_thresh_0.3': {'SHD': 27, 'TPR': 0.425, 'Time Elapsed': 319.1279761791229, 'F1': 0.425, 'diff': 6.860350115335575, 'mse': 41.35045746484701, 'valid': 'yes', 'h_val': array(4.03358675e-07)}}\n"
     ]
    }
   ],
   "source": [
    "results3 = run_model(lambda1 = 1e-3, tau = 1e-4, X = X3, device = device, B_true = B_true3)\n",
    "print(results3)"
   ]
  },
  {
   "cell_type": "code",
   "execution_count": 8,
   "metadata": {},
   "outputs": [
    {
     "data": {
      "application/vnd.jupyter.widget-view+json": {
       "model_id": "8a334a893e104967b9a1d362deb40cf1",
       "version_major": 2,
       "version_minor": 0
      },
      "text/plain": [
       "  0%|          | 0/23000.0 [00:00<?, ?it/s]"
      ]
     },
     "metadata": {},
     "output_type": "display_data"
    },
    {
     "name": "stdout",
     "output_type": "stream",
     "text": [
      "{'lambda_0.001_tau_0.0001_thresh_0.005': {'SHD': 28, 'TPR': 0.8, 'Time Elapsed': 182.41072154045105, 'F1': 0.5079365079365079, 'diff': 4.752326674047887, 'mse': 23.245976640421173, 'valid': 'yes', 'h_val': array(2.86495487e-07), 'start mse': array(215.07703297)}, 'lambda_0.001_tau_0.0001_thresh_0.01': {'SHD': 27, 'TPR': 0.8, 'Time Elapsed': 182.41072154045105, 'F1': 0.5161290322580645, 'diff': 4.752323601027349, 'mse': 23.245976640421173, 'valid': 'yes', 'h_val': array(2.86495487e-07), 'start mse': array(215.07703297)}, 'lambda_0.001_tau_0.0001_thresh_0.05': {'SHD': 27, 'TPR': 0.55, 'Time Elapsed': 182.41072154045105, 'F1': 0.42307692307692313, 'diff': 4.787476152994474, 'mse': 23.245976640421173, 'valid': 'yes', 'h_val': array(2.86495487e-07), 'start mse': array(215.07703297)}, 'lambda_0.001_tau_0.0001_thresh_0.1': {'SHD': 27, 'TPR': 0.4, 'Time Elapsed': 182.41072154045105, 'F1': 0.34782608695652173, 'diff': 4.832813844551872, 'mse': 23.245976640421173, 'valid': 'yes', 'h_val': array(2.86495487e-07), 'start mse': array(215.07703297)}, 'lambda_0.001_tau_0.0001_thresh_0.15': {'SHD': 22, 'TPR': 0.3, 'Time Elapsed': 182.41072154045105, 'F1': 0.33333333333333326, 'diff': 4.863854945854323, 'mse': 23.245976640421173, 'valid': 'yes', 'h_val': array(2.86495487e-07), 'start mse': array(215.07703297)}, 'lambda_0.001_tau_0.0001_thresh_0.2': {'SHD': 21, 'TPR': 0.3, 'Time Elapsed': 182.41072154045105, 'F1': 0.34285714285714286, 'diff': 4.860942743388502, 'mse': 23.245976640421173, 'valid': 'yes', 'h_val': array(2.86495487e-07), 'start mse': array(215.07703297)}, 'lambda_0.001_tau_0.0001_thresh_0.25': {'SHD': 19, 'TPR': 0.3, 'Time Elapsed': 182.41072154045105, 'F1': 0.3636363636363637, 'diff': 4.851056124586985, 'mse': 23.245976640421173, 'valid': 'yes', 'h_val': array(2.86495487e-07), 'start mse': array(215.07703297)}, 'lambda_0.001_tau_0.0001_thresh_0.3': {'SHD': 18, 'TPR': 0.25, 'Time Elapsed': 182.41072154045105, 'F1': 0.3333333333333333, 'diff': 4.881834377527267, 'mse': 23.245976640421173, 'valid': 'yes', 'h_val': array(2.86495487e-07), 'start mse': array(215.07703297)}}\n"
     ]
    }
   ],
   "source": [
    "results4 = run_model(lambda1 = 1e-3, tau = 1e-4, X = X4, device = device, B_true = B_true4)\n",
    "print(results4)"
   ]
  },
  {
   "cell_type": "code",
   "execution_count": 92,
   "metadata": {},
   "outputs": [
    {
     "data": {
      "application/vnd.jupyter.widget-view+json": {
       "model_id": "927e3ab094264a0aa1605b99a2a66450",
       "version_major": 2,
       "version_minor": 0
      },
      "text/plain": [
       "  0%|          | 0/23000.0 [00:00<?, ?it/s]"
      ]
     },
     "metadata": {},
     "output_type": "display_data"
    },
    {
     "name": "stdout",
     "output_type": "stream",
     "text": [
      "{'lambda_0.001_tau_0.0001_thresh_0.005': {'SHD': 27, 'TPR': 0.2, 'Time Elapsed': 194.50261282920837, 'F1': 0.19999999999999998, 'diff': 4.916404823149671, 'mse': 0.9406119373725568, 'valid': 'no', 'h_val': array(3.49188014e-08)}, 'lambda_0.001_tau_0.0001_thresh_0.01': {'SHD': 27, 'TPR': 0.2, 'Time Elapsed': 194.50261282920837, 'F1': 0.19999999999999998, 'diff': 4.916404823149671, 'mse': 0.9406119373725568, 'valid': 'no', 'h_val': array(3.49188014e-08)}, 'lambda_0.001_tau_0.0001_thresh_0.05': {'SHD': 27, 'TPR': 0.2, 'Time Elapsed': 194.50261282920837, 'F1': 0.19999999999999998, 'diff': 4.916404823149671, 'mse': 0.9406119373725568, 'valid': 'no', 'h_val': array(3.49188014e-08)}, 'lambda_0.001_tau_0.0001_thresh_0.1': {'SHD': 26, 'TPR': 0.3, 'Time Elapsed': 194.50261282920837, 'F1': 0.28571428571428564, 'diff': 4.311830584090073, 'mse': 0.9406119373725568, 'valid': 'yes', 'h_val': array(3.49188014e-08)}, 'lambda_0.001_tau_0.0001_thresh_0.15': {'SHD': 19, 'TPR': 0.15, 'Time Elapsed': 194.50261282920837, 'F1': 0.22222222222222224, 'diff': 4.3754187260421595, 'mse': 0.9406119373725568, 'valid': 'yes', 'h_val': array(3.49188014e-08)}, 'lambda_0.001_tau_0.0001_thresh_0.2': {'SHD': 20, 'TPR': 0.0, 'Time Elapsed': 194.50261282920837, 'F1': 0.0, 'diff': 4.47213595499958, 'mse': 0.9406119373725568, 'valid': 'yes', 'h_val': array(3.49188014e-08)}, 'lambda_0.001_tau_0.0001_thresh_0.25': {'SHD': 20, 'TPR': 0.0, 'Time Elapsed': 194.50261282920837, 'F1': 0.0, 'diff': 4.47213595499958, 'mse': 0.9406119373725568, 'valid': 'yes', 'h_val': array(3.49188014e-08)}, 'lambda_0.001_tau_0.0001_thresh_0.3': {'SHD': 20, 'TPR': 0.0, 'Time Elapsed': 194.50261282920837, 'F1': 0.0, 'diff': 4.47213595499958, 'mse': 0.9406119373725568, 'valid': 'yes', 'h_val': array(3.49188014e-08)}}\n"
     ]
    }
   ],
   "source": [
    "results5 = run_model(lambda1 = 1e-3, tau = 1e-4, X = X5, device = device, B_true = B_true5)\n",
    "print(results5)"
   ]
  },
  {
   "cell_type": "code",
   "execution_count": 61,
   "metadata": {},
   "outputs": [
    {
     "data": {
      "application/vnd.jupyter.widget-view+json": {
       "model_id": "64577e2010884701a7bdeb413095633f",
       "version_major": 2,
       "version_minor": 0
      },
      "text/plain": [
       "  0%|          | 0/23000.0 [00:00<?, ?it/s]"
      ]
     },
     "metadata": {},
     "output_type": "display_data"
    },
    {
     "data": {
      "application/vnd.jupyter.widget-view+json": {
       "model_id": "9f761a8bffbd4355a6b53fb894b88457",
       "version_major": 2,
       "version_minor": 0
      },
      "text/plain": [
       "  0%|          | 0/23000.0 [00:00<?, ?it/s]"
      ]
     },
     "metadata": {},
     "output_type": "display_data"
    },
    {
     "data": {
      "application/vnd.jupyter.widget-view+json": {
       "model_id": "9b36fd564a41470a86375c0ecce1b683",
       "version_major": 2,
       "version_minor": 0
      },
      "text/plain": [
       "  0%|          | 0/23000.0 [00:00<?, ?it/s]"
      ]
     },
     "metadata": {},
     "output_type": "display_data"
    },
    {
     "data": {
      "application/vnd.jupyter.widget-view+json": {
       "model_id": "af9f9890cdb549429d75d6e95ae60481",
       "version_major": 2,
       "version_minor": 0
      },
      "text/plain": [
       "  0%|          | 0/23000.0 [00:00<?, ?it/s]"
      ]
     },
     "metadata": {},
     "output_type": "display_data"
    },
    {
     "data": {
      "application/vnd.jupyter.widget-view+json": {
       "model_id": "8b30fead5bd445e499f3011e21006051",
       "version_major": 2,
       "version_minor": 0
      },
      "text/plain": [
       "  0%|          | 0/23000.0 [00:00<?, ?it/s]"
      ]
     },
     "metadata": {},
     "output_type": "display_data"
    },
    {
     "data": {
      "application/vnd.jupyter.widget-view+json": {
       "model_id": "447aa63a7e5e4b84b294688e050500ff",
       "version_major": 2,
       "version_minor": 0
      },
      "text/plain": [
       "  0%|          | 0/23000.0 [00:00<?, ?it/s]"
      ]
     },
     "metadata": {},
     "output_type": "display_data"
    },
    {
     "data": {
      "application/vnd.jupyter.widget-view+json": {
       "model_id": "23ee7ebdf427466bba1d24d8b8da2b82",
       "version_major": 2,
       "version_minor": 0
      },
      "text/plain": [
       "  0%|          | 0/23000.0 [00:00<?, ?it/s]"
      ]
     },
     "metadata": {},
     "output_type": "display_data"
    },
    {
     "data": {
      "application/vnd.jupyter.widget-view+json": {
       "model_id": "269a8c94d287456580ac0d046cb50bd4",
       "version_major": 2,
       "version_minor": 0
      },
      "text/plain": [
       "  0%|          | 0/23000.0 [00:00<?, ?it/s]"
      ]
     },
     "metadata": {},
     "output_type": "display_data"
    },
    {
     "data": {
      "application/vnd.jupyter.widget-view+json": {
       "model_id": "4f08cbe8e8134857b2c70b0aefa5b77a",
       "version_major": 2,
       "version_minor": 0
      },
      "text/plain": [
       "  0%|          | 0/23000.0 [00:00<?, ?it/s]"
      ]
     },
     "metadata": {},
     "output_type": "display_data"
    },
    {
     "data": {
      "application/vnd.jupyter.widget-view+json": {
       "model_id": "70dba73807294932b1b13dd942b7620d",
       "version_major": 2,
       "version_minor": 0
      },
      "text/plain": [
       "  0%|          | 0/23000.0 [00:00<?, ?it/s]"
      ]
     },
     "metadata": {},
     "output_type": "display_data"
    },
    {
     "data": {
      "application/vnd.jupyter.widget-view+json": {
       "model_id": "e327baec13314895a781551341adcb2b",
       "version_major": 2,
       "version_minor": 0
      },
      "text/plain": [
       "  0%|          | 0/23000.0 [00:00<?, ?it/s]"
      ]
     },
     "metadata": {},
     "output_type": "display_data"
    },
    {
     "data": {
      "application/vnd.jupyter.widget-view+json": {
       "model_id": "5dfc6e98e7164bcea59af7d9050ff9a5",
       "version_major": 2,
       "version_minor": 0
      },
      "text/plain": [
       "  0%|          | 0/23000.0 [00:00<?, ?it/s]"
      ]
     },
     "metadata": {},
     "output_type": "display_data"
    },
    {
     "data": {
      "application/vnd.jupyter.widget-view+json": {
       "model_id": "53e8fea98fb54bb8870c6e09d1acaae7",
       "version_major": 2,
       "version_minor": 0
      },
      "text/plain": [
       "  0%|          | 0/23000.0 [00:00<?, ?it/s]"
      ]
     },
     "metadata": {},
     "output_type": "display_data"
    },
    {
     "data": {
      "application/vnd.jupyter.widget-view+json": {
       "model_id": "d79524ff17b444f2b1739e2274c1f485",
       "version_major": 2,
       "version_minor": 0
      },
      "text/plain": [
       "  0%|          | 0/23000.0 [00:00<?, ?it/s]"
      ]
     },
     "metadata": {},
     "output_type": "display_data"
    },
    {
     "data": {
      "application/vnd.jupyter.widget-view+json": {
       "model_id": "eb71e887cc954e5cb72d7a07efeb207e",
       "version_major": 2,
       "version_minor": 0
      },
      "text/plain": [
       "  0%|          | 0/23000.0 [00:00<?, ?it/s]"
      ]
     },
     "metadata": {},
     "output_type": "display_data"
    },
    {
     "data": {
      "application/vnd.jupyter.widget-view+json": {
       "model_id": "f6cbd16f6fd843d8a2d6e873ffcdb21b",
       "version_major": 2,
       "version_minor": 0
      },
      "text/plain": [
       "  0%|          | 0/23000.0 [00:00<?, ?it/s]"
      ]
     },
     "metadata": {},
     "output_type": "display_data"
    },
    {
     "data": {
      "application/vnd.jupyter.widget-view+json": {
       "model_id": "e2eee5ff5f5a40a4a3d2d9ccae7dd161",
       "version_major": 2,
       "version_minor": 0
      },
      "text/plain": [
       "  0%|          | 0/23000.0 [00:00<?, ?it/s]"
      ]
     },
     "metadata": {},
     "output_type": "display_data"
    },
    {
     "data": {
      "application/vnd.jupyter.widget-view+json": {
       "model_id": "6a2c73088d7241e4908e84f150b00e0e",
       "version_major": 2,
       "version_minor": 0
      },
      "text/plain": [
       "  0%|          | 0/23000.0 [00:00<?, ?it/s]"
      ]
     },
     "metadata": {},
     "output_type": "display_data"
    },
    {
     "data": {
      "application/vnd.jupyter.widget-view+json": {
       "model_id": "39fca515856648b8b4cea5abcc07e559",
       "version_major": 2,
       "version_minor": 0
      },
      "text/plain": [
       "  0%|          | 0/23000.0 [00:00<?, ?it/s]"
      ]
     },
     "metadata": {},
     "output_type": "display_data"
    },
    {
     "data": {
      "application/vnd.jupyter.widget-view+json": {
       "model_id": "902dbeeb603543efba2550643d439e01",
       "version_major": 2,
       "version_minor": 0
      },
      "text/plain": [
       "  0%|          | 0/23000.0 [00:00<?, ?it/s]"
      ]
     },
     "metadata": {},
     "output_type": "display_data"
    },
    {
     "data": {
      "application/vnd.jupyter.widget-view+json": {
       "model_id": "c8f041e1383e4497b567d280391ad02e",
       "version_major": 2,
       "version_minor": 0
      },
      "text/plain": [
       "  0%|          | 0/23000.0 [00:00<?, ?it/s]"
      ]
     },
     "metadata": {},
     "output_type": "display_data"
    },
    {
     "data": {
      "application/vnd.jupyter.widget-view+json": {
       "model_id": "08d317577da9497da3d070558bd3f540",
       "version_major": 2,
       "version_minor": 0
      },
      "text/plain": [
       "  0%|          | 0/23000.0 [00:00<?, ?it/s]"
      ]
     },
     "metadata": {},
     "output_type": "display_data"
    },
    {
     "data": {
      "application/vnd.jupyter.widget-view+json": {
       "model_id": "1eb5e3261dce47a0a6dd66a45fa1097b",
       "version_major": 2,
       "version_minor": 0
      },
      "text/plain": [
       "  0%|          | 0/23000.0 [00:00<?, ?it/s]"
      ]
     },
     "metadata": {},
     "output_type": "display_data"
    },
    {
     "data": {
      "application/vnd.jupyter.widget-view+json": {
       "model_id": "7aa81d41b2d74c2eb62ab64beaddc526",
       "version_major": 2,
       "version_minor": 0
      },
      "text/plain": [
       "  0%|          | 0/23000.0 [00:00<?, ?it/s]"
      ]
     },
     "metadata": {},
     "output_type": "display_data"
    },
    {
     "data": {
      "application/vnd.jupyter.widget-view+json": {
       "model_id": "5f945c842494486793c63e05ed984ff4",
       "version_major": 2,
       "version_minor": 0
      },
      "text/plain": [
       "  0%|          | 0/23000.0 [00:00<?, ?it/s]"
      ]
     },
     "metadata": {},
     "output_type": "display_data"
    },
    {
     "name": "stdout",
     "output_type": "stream",
     "text": [
      "Gride search complete.\n"
     ]
    }
   ],
   "source": [
    "lambda1_values = [0, 1e-4, 1e-3, 1e-2, 1e-1]\n",
    "tau_values = [0, 1e-4, 1e-3, 1e-2, 1e-1]\n",
    "for lambda1 in lambda1_values:\n",
    "    for tau in tau_values:\n",
    "        run_model(lambda1, tau, X, device)\n",
    "print(\"Gride search complete.\")"
   ]
  },
  {
   "cell_type": "code",
   "execution_count": null,
   "metadata": {},
   "outputs": [],
   "source": []
  },
  {
   "cell_type": "code",
   "execution_count": null,
   "metadata": {},
   "outputs": [],
   "source": []
  },
  {
   "cell_type": "code",
   "execution_count": null,
   "metadata": {},
   "outputs": [],
   "source": []
  },
  {
   "cell_type": "code",
   "execution_count": 32,
   "metadata": {},
   "outputs": [
    {
     "data": {
      "application/vnd.jupyter.widget-view+json": {
       "model_id": "4ed23410f87d469f80356040b4759160",
       "version_major": 2,
       "version_minor": 0
      },
      "text/plain": [
       "  0%|          | 0/23000.0 [00:00<?, ?it/s]"
      ]
     },
     "metadata": {},
     "output_type": "display_data"
    },
    {
     "ename": "AttributeError",
     "evalue": "'numpy.ndarray' object has no attribute 'detach'",
     "output_type": "error",
     "traceback": [
      "\u001b[0;31m---------------------------------------------------------------------------\u001b[0m",
      "\u001b[0;31mAttributeError\u001b[0m                            Traceback (most recent call last)",
      "Cell \u001b[0;32mIn[32], line 1\u001b[0m\n\u001b[0;32m----> 1\u001b[0m \u001b[43mrun_model\u001b[49m\u001b[43m(\u001b[49m\u001b[43mlambda1\u001b[49m\u001b[43m \u001b[49m\u001b[38;5;241;43m=\u001b[39;49m\u001b[43m \u001b[49m\u001b[38;5;241;43m1e-4\u001b[39;49m\u001b[43m,\u001b[49m\u001b[43m \u001b[49m\u001b[43mtau\u001b[49m\u001b[43m \u001b[49m\u001b[38;5;241;43m=\u001b[39;49m\u001b[43m \u001b[49m\u001b[38;5;241;43m0\u001b[39;49m\u001b[43m,\u001b[49m\u001b[43m \u001b[49m\u001b[43mX\u001b[49m\u001b[43m \u001b[49m\u001b[38;5;241;43m=\u001b[39;49m\u001b[43m \u001b[49m\u001b[43mX\u001b[49m\u001b[43m,\u001b[49m\u001b[43m \u001b[49m\u001b[43mdevice\u001b[49m\u001b[38;5;241;43m=\u001b[39;49m\u001b[43mdevice\u001b[49m\u001b[43m)\u001b[49m\n",
      "Cell \u001b[0;32mIn[30], line 21\u001b[0m, in \u001b[0;36mrun_model\u001b[0;34m(lambda1, tau, X, device)\u001b[0m\n\u001b[1;32m     19\u001b[0m diff_dagma \u001b[38;5;241m=\u001b[39m np\u001b[38;5;241m.\u001b[39mlinalg\u001b[38;5;241m.\u001b[39mnorm(W_est_dagma \u001b[38;5;241m-\u001b[39m \u001b[38;5;28mabs\u001b[39m(B_true))\n\u001b[1;32m     20\u001b[0m mse_dagma \u001b[38;5;241m=\u001b[39m eq_model\u001b[38;5;241m.\u001b[39mmse(X)\u001b[38;5;241m.\u001b[39mdetach()\u001b[38;5;241m.\u001b[39mcpu()\u001b[38;5;241m.\u001b[39mnumpy()\n\u001b[0;32m---> 21\u001b[0m W_est_dagma \u001b[38;5;241m=\u001b[39m \u001b[43mW_est_dagma\u001b[49m\u001b[38;5;241;43m.\u001b[39;49m\u001b[43mdetach\u001b[49m()\u001b[38;5;241m.\u001b[39mcpu()\u001b[38;5;241m.\u001b[39mnumpy()\u001b[38;5;241m.\u001b[39mtolist()\n\u001b[1;32m     22\u001b[0m B \u001b[38;5;241m=\u001b[39m B_true\u001b[38;5;241m.\u001b[39mdetach()\u001b[38;5;241m.\u001b[39mcpu()\u001b[38;5;241m.\u001b[39mnumpy()\u001b[38;5;241m.\u001b[39mtolist()\n\u001b[1;32m     23\u001b[0m key \u001b[38;5;241m=\u001b[39m \u001b[38;5;124mf\u001b[39m\u001b[38;5;124m'\u001b[39m\u001b[38;5;124mlambda_\u001b[39m\u001b[38;5;132;01m{\u001b[39;00mlambda1\u001b[38;5;132;01m}\u001b[39;00m\u001b[38;5;124m_tau_\u001b[39m\u001b[38;5;132;01m{\u001b[39;00mtau\u001b[38;5;132;01m}\u001b[39;00m\u001b[38;5;124m_thresh_\u001b[39m\u001b[38;5;132;01m{\u001b[39;00mthresh\u001b[38;5;132;01m}\u001b[39;00m\u001b[38;5;124m'\u001b[39m\n",
      "\u001b[0;31mAttributeError\u001b[0m: 'numpy.ndarray' object has no attribute 'detach'"
     ]
    }
   ],
   "source": [
    "run_model(lambda1 = 1e-4, tau = 0, X = X, device=device)"
   ]
  },
  {
   "cell_type": "code",
   "execution_count": null,
   "metadata": {},
   "outputs": [
    {
     "data": {
      "application/vnd.jupyter.widget-view+json": {
       "model_id": "03c436647e3f40a5a68bde2884748790",
       "version_major": 2,
       "version_minor": 0
      },
      "text/plain": [
       "  0%|          | 0/23000.0 [00:00<?, ?it/s]"
      ]
     },
     "metadata": {},
     "output_type": "display_data"
    },
    {
     "data": {
      "application/vnd.jupyter.widget-view+json": {
       "model_id": "793c0c57bbd24f0f8affc15c283dbc16",
       "version_major": 2,
       "version_minor": 0
      },
      "text/plain": [
       "  0%|          | 0/23000.0 [00:00<?, ?it/s]"
      ]
     },
     "metadata": {},
     "output_type": "display_data"
    },
    {
     "data": {
      "application/vnd.jupyter.widget-view+json": {
       "model_id": "d3733772e8da41c587c6aa6280464b14",
       "version_major": 2,
       "version_minor": 0
      },
      "text/plain": [
       "  0%|          | 0/23000.0 [00:00<?, ?it/s]"
      ]
     },
     "metadata": {},
     "output_type": "display_data"
    },
    {
     "data": {
      "application/vnd.jupyter.widget-view+json": {
       "model_id": "444655ae0476457cb7ebd2f82b95016d",
       "version_major": 2,
       "version_minor": 0
      },
      "text/plain": [
       "  0%|          | 0/23000.0 [00:00<?, ?it/s]"
      ]
     },
     "metadata": {},
     "output_type": "display_data"
    },
    {
     "data": {
      "application/vnd.jupyter.widget-view+json": {
       "model_id": "d9f0da97a4634941924fdb68ed1b80cd",
       "version_major": 2,
       "version_minor": 0
      },
      "text/plain": [
       "  0%|          | 0/23000.0 [00:00<?, ?it/s]"
      ]
     },
     "metadata": {},
     "output_type": "display_data"
    },
    {
     "data": {
      "application/vnd.jupyter.widget-view+json": {
       "model_id": "83cd696feacb4cf69afa93f24125910d",
       "version_major": 2,
       "version_minor": 0
      },
      "text/plain": [
       "  0%|          | 0/23000.0 [00:00<?, ?it/s]"
      ]
     },
     "metadata": {},
     "output_type": "display_data"
    },
    {
     "data": {
      "application/vnd.jupyter.widget-view+json": {
       "model_id": "c46e02ffec83455792f9a7ff7ed28559",
       "version_major": 2,
       "version_minor": 0
      },
      "text/plain": [
       "  0%|          | 0/23000.0 [00:00<?, ?it/s]"
      ]
     },
     "metadata": {},
     "output_type": "display_data"
    },
    {
     "data": {
      "application/vnd.jupyter.widget-view+json": {
       "model_id": "8dc1616bcbf440f4996bba79e999baaf",
       "version_major": 2,
       "version_minor": 0
      },
      "text/plain": [
       "  0%|          | 0/23000.0 [00:00<?, ?it/s]"
      ]
     },
     "metadata": {},
     "output_type": "display_data"
    },
    {
     "data": {
      "application/vnd.jupyter.widget-view+json": {
       "model_id": "3f44bcb7cd654042a6857582121a1d85",
       "version_major": 2,
       "version_minor": 0
      },
      "text/plain": [
       "  0%|          | 0/23000.0 [00:00<?, ?it/s]"
      ]
     },
     "metadata": {},
     "output_type": "display_data"
    },
    {
     "data": {
      "application/vnd.jupyter.widget-view+json": {
       "model_id": "85dc3b318dc04ca9975a4d7f3b85b461",
       "version_major": 2,
       "version_minor": 0
      },
      "text/plain": [
       "  0%|          | 0/23000.0 [00:00<?, ?it/s]"
      ]
     },
     "metadata": {},
     "output_type": "display_data"
    },
    {
     "data": {
      "application/vnd.jupyter.widget-view+json": {
       "model_id": "18e4336779bc4e12a010966725371f68",
       "version_major": 2,
       "version_minor": 0
      },
      "text/plain": [
       "  0%|          | 0/23000.0 [00:00<?, ?it/s]"
      ]
     },
     "metadata": {},
     "output_type": "display_data"
    },
    {
     "data": {
      "application/vnd.jupyter.widget-view+json": {
       "model_id": "d60033cad2e04287be00214fc9938457",
       "version_major": 2,
       "version_minor": 0
      },
      "text/plain": [
       "  0%|          | 0/23000.0 [00:00<?, ?it/s]"
      ]
     },
     "metadata": {},
     "output_type": "display_data"
    },
    {
     "data": {
      "application/vnd.jupyter.widget-view+json": {
       "model_id": "460d93785ea9495587180b20c809e340",
       "version_major": 2,
       "version_minor": 0
      },
      "text/plain": [
       "  0%|          | 0/23000.0 [00:00<?, ?it/s]"
      ]
     },
     "metadata": {},
     "output_type": "display_data"
    },
    {
     "data": {
      "application/vnd.jupyter.widget-view+json": {
       "model_id": "f0de9d194581480cbe930eb6f6815103",
       "version_major": 2,
       "version_minor": 0
      },
      "text/plain": [
       "  0%|          | 0/23000.0 [00:00<?, ?it/s]"
      ]
     },
     "metadata": {},
     "output_type": "display_data"
    },
    {
     "data": {
      "application/vnd.jupyter.widget-view+json": {
       "model_id": "a3f9848ed8a84ffabc527773f6e5a1e4",
       "version_major": 2,
       "version_minor": 0
      },
      "text/plain": [
       "  0%|          | 0/23000.0 [00:00<?, ?it/s]"
      ]
     },
     "metadata": {},
     "output_type": "display_data"
    },
    {
     "data": {
      "application/vnd.jupyter.widget-view+json": {
       "model_id": "0fc597d4547542aab2c8fbdfe6fc706e",
       "version_major": 2,
       "version_minor": 0
      },
      "text/plain": [
       "  0%|          | 0/23000.0 [00:00<?, ?it/s]"
      ]
     },
     "metadata": {},
     "output_type": "display_data"
    },
    {
     "data": {
      "application/vnd.jupyter.widget-view+json": {
       "model_id": "07980538730440819d52d0027e9a9716",
       "version_major": 2,
       "version_minor": 0
      },
      "text/plain": [
       "  0%|          | 0/23000.0 [00:00<?, ?it/s]"
      ]
     },
     "metadata": {},
     "output_type": "display_data"
    },
    {
     "data": {
      "application/vnd.jupyter.widget-view+json": {
       "model_id": "7779ed2d92b34cbd9b95dd36057b6d5f",
       "version_major": 2,
       "version_minor": 0
      },
      "text/plain": [
       "  0%|          | 0/23000.0 [00:00<?, ?it/s]"
      ]
     },
     "metadata": {},
     "output_type": "display_data"
    },
    {
     "data": {
      "application/vnd.jupyter.widget-view+json": {
       "model_id": "e61ed7725982426ca83edb7fc9bba060",
       "version_major": 2,
       "version_minor": 0
      },
      "text/plain": [
       "  0%|          | 0/23000.0 [00:00<?, ?it/s]"
      ]
     },
     "metadata": {},
     "output_type": "display_data"
    },
    {
     "data": {
      "application/vnd.jupyter.widget-view+json": {
       "model_id": "bc7ccc54876e491fb97d3f97f812b8a0",
       "version_major": 2,
       "version_minor": 0
      },
      "text/plain": [
       "  0%|          | 0/23000.0 [00:00<?, ?it/s]"
      ]
     },
     "metadata": {},
     "output_type": "display_data"
    },
    {
     "data": {
      "application/vnd.jupyter.widget-view+json": {
       "model_id": "249b9f22982441c4b712aec0e81a7818",
       "version_major": 2,
       "version_minor": 0
      },
      "text/plain": [
       "  0%|          | 0/23000.0 [00:00<?, ?it/s]"
      ]
     },
     "metadata": {},
     "output_type": "display_data"
    },
    {
     "data": {
      "application/vnd.jupyter.widget-view+json": {
       "model_id": "095c6fb4e1734c9b997a8ebb3d61527f",
       "version_major": 2,
       "version_minor": 0
      },
      "text/plain": [
       "  0%|          | 0/23000.0 [00:00<?, ?it/s]"
      ]
     },
     "metadata": {},
     "output_type": "display_data"
    },
    {
     "data": {
      "application/vnd.jupyter.widget-view+json": {
       "model_id": "470964576e47495499407cb6791c4c11",
       "version_major": 2,
       "version_minor": 0
      },
      "text/plain": [
       "  0%|          | 0/23000.0 [00:00<?, ?it/s]"
      ]
     },
     "metadata": {},
     "output_type": "display_data"
    },
    {
     "data": {
      "application/vnd.jupyter.widget-view+json": {
       "model_id": "81906adfa5d34a64a2a0dec43810f79c",
       "version_major": 2,
       "version_minor": 0
      },
      "text/plain": [
       "  0%|          | 0/23000.0 [00:00<?, ?it/s]"
      ]
     },
     "metadata": {},
     "output_type": "display_data"
    },
    {
     "data": {
      "application/vnd.jupyter.widget-view+json": {
       "model_id": "cfdf9e44f9af4c4ab49ee8f72d61534a",
       "version_major": 2,
       "version_minor": 0
      },
      "text/plain": [
       "  0%|          | 0/23000.0 [00:00<?, ?it/s]"
      ]
     },
     "metadata": {},
     "output_type": "display_data"
    }
   ],
   "source": [
    "\n",
    "lambda1_values = [0, 1e-4, 1e-3, 1e-2, 1e-1]\n",
    "tau_values = [0, 1e-4, 1e-3, 1e-2, 1e-1]\n",
    "#tau_values = [0]\n",
    "\n",
    "threads = []\n",
    "results = {}\n",
    "\n",
    "# Create a thread for each combination of lambda1 and tau\n",
    "for lambda1 in lambda1_values:\n",
    "    for tau in tau_values:\n",
    "        thread = threading.Thread(target=run_model, args=(lambda1, tau, X, device))\n",
    "        threads.append(thread)\n",
    "        thread.start()\n",
    "\n",
    "# Wait for all threads to complete\n",
    "for thread in threads:\n",
    "    thread.join()\n",
    "\n",
    "print(\"Gride search complete.\")"
   ]
  },
  {
   "cell_type": "code",
   "execution_count": null,
   "metadata": {},
   "outputs": [],
   "source": [
    "lambda1_values = [0, 1e-4, 1e-3, 1e-2, 1e-1]\n",
    "tau_values = [0, 1e-4, 1e-3, 1e-2, 1e-1]\n",
    "processes = []\n",
    "for lambda1 in lambda1_values:\n",
    "    for tau in tau_values:\n",
    "        # Create a Process\n",
    "        p = multiprocessing.Process(target=run_model, args=(lambda1, tau, X, device))\n",
    "        processes.append(p)\n",
    "        p.start()\n",
    "\n",
    "# Wait for all processes to complete\n",
    "for process in processes:\n",
    "    process.join()\n",
    "\n",
    "print(\"Grid search complete.\")"
   ]
  },
  {
   "cell_type": "code",
   "execution_count": null,
   "metadata": {},
   "outputs": [],
   "source": []
  }
 ],
 "metadata": {
  "kernelspec": {
   "display_name": "Python 3 (ipykernel)",
   "language": "python",
   "name": "python3"
  },
  "language_info": {
   "codemirror_mode": {
    "name": "ipython",
    "version": 3
   },
   "file_extension": ".py",
   "mimetype": "text/x-python",
   "name": "python",
   "nbconvert_exporter": "python",
   "pygments_lexer": "ipython3",
   "version": "3.10.8"
  }
 },
 "nbformat": 4,
 "nbformat_minor": 4
}
