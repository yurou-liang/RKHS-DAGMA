{
 "cells": [
  {
   "cell_type": "code",
   "execution_count": 1,
   "metadata": {},
   "outputs": [],
   "source": [
    "import sys\n",
    "import os\n",
    "import json\n",
    "import utils\n",
    "sys.path.append('c:\\\\Users\\\\yurou\\\\Desktop\\\\Master thesis\\\\Non-parametric-Learning-of-DAG-by-RKHS\\\\Final')\n",
    "from RKHS import RKHS_DAGMA_extractj\n",
    "import sys\n",
    "from notears import NotearsMLP, notears_nonlinear, NotearsSobolev, notears_linear\n",
    "import torch\n",
    "import numpy as np\n",
    "import json\n",
    "import argparse"
   ]
  },
  {
   "cell_type": "code",
   "execution_count": 2,
   "metadata": {},
   "outputs": [],
   "source": [
    "torch.set_default_dtype(torch.double)\n",
    "\n",
    "torch.backends.cudnn.benchmark = False\n",
    "\n",
    "torch.use_deterministic_algorithms(True)"
   ]
  },
  {
   "cell_type": "code",
   "execution_count": 3,
   "metadata": {},
   "outputs": [],
   "source": [
    "def squared_loss(output, target):\n",
    "    n = target.shape[0]\n",
    "    loss = 0.5 / n * torch.sum((output - target) ** 2)\n",
    "    return loss\n",
    "\n",
    "\n",
    "def NOTEARS_MLP(X, B_true, function_type, d, seed):\n",
    "    results = {}\n",
    "    model = NotearsMLP(dims=[d, 10, 1], bias=True)\n",
    "    W_est, output = notears_nonlinear(model, X, lambda1=2e-2)\n",
    "    acc = utils.count_accuracy(B_true, W_est != 0)\n",
    "    diff = np.linalg.norm(W_est - abs(B_true))\n",
    "    X_torch = torch.from_numpy(X)\n",
    "    x_est = model.forward(X_torch)\n",
    "    mse = squared_loss(x_est, X_torch)\n",
    "    h_val = model.h_func().detach().cpu().numpy()\n",
    "    filename = f'NOTEARS_MLP_function_type_{function_type}_d{d}_seed{seed}'\n",
    "    results = {\n",
    "    'SHD': acc['shd'],\n",
    "    'TPR': acc['tpr'],\n",
    "    'F1': acc['f1'],\n",
    "    'diff': diff,\n",
    "    'mse': mse.item(),\n",
    "    'h_val': h_val.item(),\n",
    "    'W_est': W_est.tolist(),\n",
    "    'B_true': B_true.tolist(),\n",
    "    'X': X.tolist()}\n",
    "\n",
    "    with open(filename, 'w') as file:\n",
    "        json.dump(results, file, indent=4) "
   ]
  },
  {
   "cell_type": "code",
   "execution_count": 7,
   "metadata": {},
   "outputs": [
    {
     "data": {
      "text/plain": [
       "'c:\\\\Users\\\\yurou\\\\Desktop\\\\Master thesis\\\\Non-parametric-Learning-of-DAG-by-RKHS\\\\Final\\\\experiments\\\\T6'"
      ]
     },
     "execution_count": 7,
     "metadata": {},
     "output_type": "execute_result"
    }
   ],
   "source": [
    "import os\n",
    "\n",
    "# Current directory where the script is running\n",
    "current_directory = os.getcwd()\n",
    "\n",
    "# Relative path to the file\n",
    "relative_path = 'T6'\n",
    "\n",
    "# Full path to the file\n",
    "full_path = os.path.join(current_directory, relative_path)\n",
    "full_path"
   ]
  },
  {
   "cell_type": "code",
   "execution_count": 9,
   "metadata": {},
   "outputs": [],
   "source": [
    "import json\n",
    "import numpy as np\n",
    "from concurrent.futures import ProcessPoolExecutor\n",
    "\n",
    "def process_NOTEARS_MLP(d, seed):\n",
    "    function_type = 'gp'\n",
    "    filename = f'RKHS_function_type_{function_type}_d{d}_seed{seed}'\n",
    "    file_path = os.path.join(full_path, filename)\n",
    "    with open(file_path, 'r') as file:\n",
    "        data = json.load(file)\n",
    "        B_true = np.array(data['B_true'])\n",
    "        X = np.array(data['X'])\n",
    "    \n",
    "    # Call the NOTEARS_MLP function (assumed to be defined elsewhere)\n",
    "    NOTEARS_MLP(X, B_true, function_type, d, seed)\n"
   ]
  },
  {
   "cell_type": "code",
   "execution_count": 11,
   "metadata": {},
   "outputs": [],
   "source": [
    "process_NOTEARS_MLP(10, 0)"
   ]
  },
  {
   "cell_type": "code",
   "execution_count": 14,
   "metadata": {},
   "outputs": [],
   "source": [
    "import multiprocessing\n",
    "d = 10\n",
    "seeds_range = range(10)\n",
    "with multiprocessing.Pool() as pool:\n",
    "        # Map worker function to available seeds, pass `d` as the fixed argument\n",
    "    pool.starmap(process_NOTEARS_MLP, [(d, seed) for seed in seeds_range])\n"
   ]
  }
 ],
 "metadata": {
  "kernelspec": {
   "display_name": "RKHS",
   "language": "python",
   "name": "python3"
  },
  "language_info": {
   "codemirror_mode": {
    "name": "ipython",
    "version": 3
   },
   "file_extension": ".py",
   "mimetype": "text/x-python",
   "name": "python",
   "nbconvert_exporter": "python",
   "pygments_lexer": "ipython3",
   "version": "3.11.5"
  }
 },
 "nbformat": 4,
 "nbformat_minor": 2
}
