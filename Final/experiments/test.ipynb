{
 "cells": [
  {
   "cell_type": "code",
   "execution_count": 21,
   "metadata": {},
   "outputs": [],
   "source": [
    "import torch\n",
    "import numpy as np\n",
    "import os\n",
    "import json"
   ]
  },
  {
   "cell_type": "code",
   "execution_count": 22,
   "metadata": {},
   "outputs": [],
   "source": [
    "torch.set_default_dtype(torch.float64)"
   ]
  },
  {
   "cell_type": "code",
   "execution_count": 23,
   "metadata": {},
   "outputs": [
    {
     "name": "stdout",
     "output_type": "stream",
     "text": [
      "c:\\Users\\yurou\\Desktop\\Master thesis\\RKHS-DAGMA\\Final\\experiments\\results\n"
     ]
    }
   ],
   "source": [
    "print(os.getcwd())"
   ]
  },
  {
   "cell_type": "code",
   "execution_count": 37,
   "metadata": {},
   "outputs": [],
   "source": [
    "def h_spectral(d, weight: torch.tensor):\n",
    "    w = torch.ones(d)\n",
    "    for _ in range(30):\n",
    "        w = weight @ w\n",
    "        w = w / (torch.norm(w) + 1e-8)\n",
    "    return w @ weight @ w"
   ]
  },
  {
   "cell_type": "code",
   "execution_count": 12,
   "metadata": {},
   "outputs": [],
   "source": [
    "def h_logdet(d, weight: torch.tensor, t = 1):\n",
    "    I = torch.eye(d)\n",
    "    A = t*I - weight\n",
    "    sign, logabsdet = torch.linalg.slogdet(A)\n",
    "    h = -logabsdet + d * np.log(t)\n",
    "    return h"
   ]
  },
  {
   "cell_type": "code",
   "execution_count": 30,
   "metadata": {},
   "outputs": [],
   "source": [
    "def h_logdet(d, weight: torch.tensor, s = 1):\n",
    "    s = torch.tensor(s, dtype=torch.float64)\n",
    "    I = torch.eye(d)\n",
    "    A = s*I - weight\n",
    "    sign, logabsdet = torch.linalg.slogdet(A)\n",
    "    h = -logabsdet + d * torch.log(s)\n",
    "    return h"
   ]
  },
  {
   "cell_type": "code",
   "execution_count": 39,
   "metadata": {},
   "outputs": [],
   "source": [
    "#os.chdir('./results')\n",
    "function_type = \"mlp\"\n",
    "d = 40\n",
    "seed = 1\n",
    "filename = f'RKHS_function_type_{function_type}_d{d}_seed{seed}'\n",
    "#filename = f'RKHS_function_type_gp_d10_seed0'\n",
    "with open(filename, 'r') as file:\n",
    "    data = json.load(file)\n",
    "    weight = np.array(data['W_est_no_thresh'])\n",
    "    weight = torch.from_numpy(weight)"
   ]
  },
  {
   "cell_type": "code",
   "execution_count": 40,
   "metadata": {},
   "outputs": [
    {
     "data": {
      "text/plain": [
       "tensor([[0.0000e+00, 2.1880e-02, 4.8260e-02,  ..., 2.9618e-01, 2.6702e-03,\n",
       "         2.5416e-02],\n",
       "        [1.1626e-02, 0.0000e+00, 5.8902e-02,  ..., 4.0913e-01, 1.5200e-03,\n",
       "         2.6992e-02],\n",
       "        [7.0079e-03, 1.4849e-02, 0.0000e+00,  ..., 2.7210e-01, 8.8663e-04,\n",
       "         1.6135e-02],\n",
       "        ...,\n",
       "        [9.8593e-04, 1.4450e-03, 4.6916e-03,  ..., 0.0000e+00, 1.1925e-04,\n",
       "         9.9725e-04],\n",
       "        [1.9415e-02, 5.0176e-02, 8.2631e-02,  ..., 4.5436e-01, 0.0000e+00,\n",
       "         5.7155e-02],\n",
       "        [7.6143e-03, 1.8324e-02, 4.6547e-02,  ..., 4.4041e-01, 1.8367e-03,\n",
       "         0.0000e+00]])"
      ]
     },
     "execution_count": 40,
     "metadata": {},
     "output_type": "execute_result"
    }
   ],
   "source": [
    "weight"
   ]
  },
  {
   "cell_type": "code",
   "execution_count": 41,
   "metadata": {},
   "outputs": [
    {
     "data": {
      "text/plain": [
       "tensor(0.0116)"
      ]
     },
     "execution_count": 41,
     "metadata": {},
     "output_type": "execute_result"
    }
   ],
   "source": [
    "h_spectral(d, weight*weight)"
   ]
  },
  {
   "cell_type": "code",
   "execution_count": 42,
   "metadata": {},
   "outputs": [
    {
     "data": {
      "text/plain": [
       "tensor(6.8755e-05)"
      ]
     },
     "execution_count": 42,
     "metadata": {},
     "output_type": "execute_result"
    }
   ],
   "source": [
    "h_logdet(d, weight*weight)"
   ]
  },
  {
   "cell_type": "code",
   "execution_count": null,
   "metadata": {},
   "outputs": [],
   "source": []
  }
 ],
 "metadata": {
  "kernelspec": {
   "display_name": "RKHS",
   "language": "python",
   "name": "python3"
  },
  "language_info": {
   "codemirror_mode": {
    "name": "ipython",
    "version": 3
   },
   "file_extension": ".py",
   "mimetype": "text/x-python",
   "name": "python",
   "nbconvert_exporter": "python",
   "pygments_lexer": "ipython3",
   "version": "3.11.5"
  }
 },
 "nbformat": 4,
 "nbformat_minor": 2
}
