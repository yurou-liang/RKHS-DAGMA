{
 "cells": [
  {
   "cell_type": "code",
   "execution_count": 1,
   "metadata": {},
   "outputs": [
    {
     "name": "stderr",
     "output_type": "stream",
     "text": [
      "Detecting 1 CUDA device(s).\n"
     ]
    }
   ],
   "source": [
    "import utils, RKHS_DAGMA_extractj\n",
    "import torch\n",
    "import time\n",
    "import numpy as np\n",
    "import matplotlib.pyplot as plt\n",
    "from CausalDisco.analytics import r2_sortability, var_sortability\n",
    "from CausalDisco.baselines import r2_sort_regress, var_sort_regress\n",
    "from cdt.metrics import SID, SHD\n",
    "import seaborn as sns\n",
    "import cdt\n",
    "import multiprocessing\n",
    "import threading\n",
    "import json"
   ]
  },
  {
   "cell_type": "code",
   "execution_count": 2,
   "metadata": {},
   "outputs": [],
   "source": [
    "sns.set_context(\"paper\")\n",
    "\n",
    "torch.set_default_dtype(torch.float64)\n",
    "\n",
    "device= torch.device('cuda' if torch.cuda.is_available() else 'cpu')\n",
    "torch.set_default_device(device)\n",
    "\n",
    "# utils.set_random_seed(1)\n",
    "# torch.manual_seed(1)\n",
    "\n",
    "cdt.SETTINGS.rpath= 'C:\\Program Files\\R\\R-4.3.3\\\\bin\\Rscript'\n",
    "\n",
    "num_cores = multiprocessing.cpu_count()\n",
    "\n",
    "# Print the number of CPU cores\n",
    "# print(\"Number of CPU cores:\", num_cores)\n",
    "# print(torch.__version__)"
   ]
  },
  {
   "cell_type": "markdown",
   "metadata": {},
   "source": [
    "# Do RKHS_DAGMA Discovery"
   ]
  },
  {
   "cell_type": "code",
   "execution_count": 3,
   "metadata": {},
   "outputs": [],
   "source": [
    "def run_model(lambda1, tau, X, device, B_true, gamma, T=6, lr = 0.03):\n",
    "    #device = torch.device(\"cuda\" if torch.cuda.is_available() else \"cpu\")\n",
    "    results = {}\n",
    "    \n",
    "    X = X.to(device)\n",
    "    eq_model = RKHS_DAGMA_extractj.DagmaRKHS(X, gamma = gamma).to(device)\n",
    "    model = RKHS_DAGMA_extractj.DagmaRKHS_nonlinear(eq_model)\n",
    "    \n",
    "    x_est_start = eq_model.forward()\n",
    "    start_mse = eq_model.mse(x_est_start).detach().cpu().numpy()\n",
    "    time_start = time.time()\n",
    "    W_est_no_thresh, output = model.fit(X, lambda1=lambda1, tau=tau, T = T, mu_init = 1.0, lr=lr, w_threshold=0.0)\n",
    "    time_end = time.time()\n",
    "\n",
    "    thresh_values = [0.005, 0.01, 0.05, 0.1, 0.15, 0.2, 0.25, 0.3]\n",
    "    for thresh in thresh_values:\n",
    "        try:\n",
    "            W_est_dagma = abs(W_est_no_thresh) * (abs(W_est_no_thresh) > thresh)\n",
    "            acc_dagma = utils.count_accuracy(B_true, W_est_dagma != 0)\n",
    "            valid = \"yes\"\n",
    "        #sid_dagma = SID(B_true, W_est_dagma != 0).item()\n",
    "        except Exception as e:\n",
    "            W_est_dagma = results_var_sort_regress\n",
    "            acc_dagma = utils.count_accuracy(B_true, W_est_dagma != 0)\n",
    "            valid = \"no\"\n",
    "            \n",
    "        diff_dagma = np.linalg.norm(W_est_dagma - abs(B_true))\n",
    "        x_est = eq_model.forward()\n",
    "        mse_dagma = eq_model.mse(x_est).detach().cpu().numpy()\n",
    "        W_est = eq_model.fc1_to_adj()\n",
    "        h_val = eq_model.h_func(W_est, s=1).detach().cpu().numpy()\n",
    "        #parameters = eq_model.get_parameters()\n",
    "        W_est_dagma = W_est_dagma.tolist()\n",
    "        B = B_true.tolist()\n",
    "        key = f'lambda_{lambda1}_tau_{tau}_thresh_{thresh}_gamma_{gamma}'\n",
    "        results[key] = {\n",
    "            'SHD': acc_dagma['shd'],\n",
    "            'TPR': acc_dagma['tpr'],\n",
    "            'Time Elapsed': time_end - time_start,\n",
    "            'F1': acc_dagma['f1'],\n",
    "            'diff': diff_dagma,\n",
    "            'mse': mse_dagma.item(),\n",
    "            'valid': valid,\n",
    "            'h_val': h_val.item(),\n",
    "            'start mse': start_mse,\n",
    "            #'W_est_dagma': W_est_dagma,\n",
    "            #'parameters': parameters,\n",
    "            #'eq_model': eq_model,\n",
    "            #'W_est_no_thresh': W_est_no_thresh,\n",
    "            #'B_true': B\n",
    "        }\n",
    "\n",
    "    torch.cuda.empty_cache()\n",
    "\n",
    "    # filename = f'model_results_lambda_{lambda1}_tau_{tau}.txt'\n",
    "\n",
    "    # with open(filename, 'w') as file:\n",
    "    #     json.dump(results, file, indent=4) \n",
    "\n",
    "    return results"
   ]
  },
  {
   "cell_type": "code",
   "execution_count": 4,
   "metadata": {},
   "outputs": [
    {
     "name": "stdout",
     "output_type": "stream",
     "text": [
      "device: cuda\n"
     ]
    }
   ],
   "source": [
    "device= torch.device('cuda' if torch.cuda.is_available() else 'cpu')\n",
    "#device = 'cpu'\n",
    "print('device:', device)\n",
    "torch.set_default_device(device)"
   ]
  },
  {
   "cell_type": "markdown",
   "metadata": {},
   "source": [
    "## d = 10"
   ]
  },
  {
   "cell_type": "code",
   "execution_count": 9,
   "metadata": {},
   "outputs": [],
   "source": [
    "utils.set_random_seed(0)\n",
    "torch.manual_seed(0)\n",
    "n, d, s0, graph_type, sem_type = 100, 10, 40, 'ER', 'gp-add' # s0 = expected number of edges\n",
    "B_true = utils.simulate_dag(d, s0, graph_type) # [d, d] binary adj matrix of DAG\n",
    "X = utils.simulate_nonlinear_sem(B_true, n, sem_type) # [n, d] sample matrix\n",
    "results_var_sort_regress = var_sort_regress(X)\n",
    "X = torch.from_numpy(X)"
   ]
  },
  {
   "cell_type": "code",
   "execution_count": 10,
   "metadata": {},
   "outputs": [
    {
     "data": {
      "application/vnd.jupyter.widget-view+json": {
       "model_id": "7f2c215869d14e739623f333d98674f7",
       "version_major": 2,
       "version_minor": 0
      },
      "text/plain": [
       "  0%|          | 0/33000.0 [00:00<?, ?it/s]"
      ]
     },
     "metadata": {},
     "output_type": "display_data"
    },
    {
     "name": "stdout",
     "output_type": "stream",
     "text": [
      "{'lambda_0.001_tau_0.0001_thresh_0.005_gamma_4': {'SHD': 26, 'TPR': 0.375, 'Time Elapsed': 209.1312313079834, 'F1': 0.5172413793103448, 'diff': 6.568632232423043, 'mse': 7.909538475310949, 'valid': 'no', 'h_val': 1.6008679725677286e-06, 'start mse': array(25.30947959)}, 'lambda_0.001_tau_0.0001_thresh_0.01_gamma_4': {'SHD': 10, 'TPR': 0.875, 'Time Elapsed': 209.1312313079834, 'F1': 0.823529411764706, 'diff': 5.13587751273438, 'mse': 7.909538475310949, 'valid': 'yes', 'h_val': 1.6008679725677286e-06, 'start mse': array(25.30947959)}, 'lambda_0.001_tau_0.0001_thresh_0.05_gamma_4': {'SHD': 16, 'TPR': 0.725, 'Time Elapsed': 209.1312313079834, 'F1': 0.7341772151898733, 'diff': 5.165622246521774, 'mse': 7.909538475310949, 'valid': 'yes', 'h_val': 1.6008679725677286e-06, 'start mse': array(25.30947959)}, 'lambda_0.001_tau_0.0001_thresh_0.1_gamma_4': {'SHD': 18, 'TPR': 0.675, 'Time Elapsed': 209.1312313079834, 'F1': 0.7012987012987014, 'diff': 5.194646505816487, 'mse': 7.909538475310949, 'valid': 'yes', 'h_val': 1.6008679725677286e-06, 'start mse': array(25.30947959)}, 'lambda_0.001_tau_0.0001_thresh_0.15_gamma_4': {'SHD': 24, 'TPR': 0.5, 'Time Elapsed': 209.1312313079834, 'F1': 0.5970149253731343, 'diff': 5.3384039275571755, 'mse': 7.909538475310949, 'valid': 'yes', 'h_val': 1.6008679725677286e-06, 'start mse': array(25.30947959)}, 'lambda_0.001_tau_0.0001_thresh_0.2_gamma_4': {'SHD': 23, 'TPR': 0.45, 'Time Elapsed': 209.1312313079834, 'F1': 0.6, 'diff': 5.380993294202592, 'mse': 7.909538475310949, 'valid': 'yes', 'h_val': 1.6008679725677286e-06, 'start mse': array(25.30947959)}, 'lambda_0.001_tau_0.0001_thresh_0.25_gamma_4': {'SHD': 24, 'TPR': 0.425, 'Time Elapsed': 209.1312313079834, 'F1': 0.5862068965517241, 'diff': 5.411530872906628, 'mse': 7.909538475310949, 'valid': 'yes', 'h_val': 1.6008679725677286e-06, 'start mse': array(25.30947959)}, 'lambda_0.001_tau_0.0001_thresh_0.3_gamma_4': {'SHD': 29, 'TPR': 0.3, 'Time Elapsed': 209.1312313079834, 'F1': 0.4528301886792453, 'diff': 5.621475750083802, 'mse': 7.909538475310949, 'valid': 'yes', 'h_val': 1.6008679725677286e-06, 'start mse': array(25.30947959)}}\n"
     ]
    }
   ],
   "source": [
    "results = run_model(lambda1 = 1e-3, tau = 1e-4, X = X, device = device, B_true = B_true, gamma = 4, T=6, lr= 0.03)\n",
    "print(results)"
   ]
  },
  {
   "cell_type": "code",
   "execution_count": 13,
   "metadata": {},
   "outputs": [],
   "source": [
    "utils.set_random_seed(0)\n",
    "torch.manual_seed(0)\n",
    "n, d, s0, graph_type, sem_type = 100, 10, 40, 'ER', 'gp' # s0 = expected number of edges\n",
    "B_true = utils.simulate_dag(d, s0, graph_type) # [d, d] binary adj matrix of DAG\n",
    "X = utils.simulate_nonlinear_sem(B_true, n, sem_type) # [n, d] sample matrix\n",
    "results_var_sort_regress = var_sort_regress(X)\n",
    "X = torch.from_numpy(X)"
   ]
  },
  {
   "cell_type": "code",
   "execution_count": 14,
   "metadata": {},
   "outputs": [
    {
     "data": {
      "application/vnd.jupyter.widget-view+json": {
       "model_id": "1f48904c6fba4777963b230699a4304c",
       "version_major": 2,
       "version_minor": 0
      },
      "text/plain": [
       "  0%|          | 0/33000.0 [00:00<?, ?it/s]"
      ]
     },
     "metadata": {},
     "output_type": "display_data"
    },
    {
     "name": "stdout",
     "output_type": "stream",
     "text": [
      "{'lambda_0.001_tau_0.0001_thresh_0.005_gamma_4': {'SHD': 40, 'TPR': 0.025, 'Time Elapsed': 201.6461842060089, 'F1': 0.047619047619047616, 'diff': 6.269630453113852, 'mse': 6.361944944035654, 'valid': 'no', 'h_val': 8.547414355054411e-07, 'start mse': array(8.48563398)}, 'lambda_0.001_tau_0.0001_thresh_0.01_gamma_4': {'SHD': 17, 'TPR': 0.7, 'Time Elapsed': 201.6461842060089, 'F1': 0.6588235294117647, 'diff': 5.763713175934845, 'mse': 6.361944944035654, 'valid': 'yes', 'h_val': 8.547414355054411e-07, 'start mse': array(8.48563398)}, 'lambda_0.001_tau_0.0001_thresh_0.05_gamma_4': {'SHD': 18, 'TPR': 0.625, 'Time Elapsed': 201.6461842060089, 'F1': 0.6666666666666666, 'diff': 5.772436609811687, 'mse': 6.361944944035654, 'valid': 'yes', 'h_val': 8.547414355054411e-07, 'start mse': array(8.48563398)}, 'lambda_0.001_tau_0.0001_thresh_0.1_gamma_4': {'SHD': 25, 'TPR': 0.425, 'Time Elapsed': 201.6461842060089, 'F1': 0.5573770491803278, 'diff': 5.869786957683098, 'mse': 6.361944944035654, 'valid': 'yes', 'h_val': 8.547414355054411e-07, 'start mse': array(8.48563398)}, 'lambda_0.001_tau_0.0001_thresh_0.15_gamma_4': {'SHD': 33, 'TPR': 0.2, 'Time Elapsed': 201.6461842060089, 'F1': 0.32000000000000006, 'diff': 6.040173107135314, 'mse': 6.361944944035654, 'valid': 'yes', 'h_val': 8.547414355054411e-07, 'start mse': array(8.48563398)}, 'lambda_0.001_tau_0.0001_thresh_0.2_gamma_4': {'SHD': 35, 'TPR': 0.125, 'Time Elapsed': 201.6461842060089, 'F1': 0.2222222222222222, 'diff': 6.115194435345255, 'mse': 6.361944944035654, 'valid': 'yes', 'h_val': 8.547414355054411e-07, 'start mse': array(8.48563398)}, 'lambda_0.001_tau_0.0001_thresh_0.25_gamma_4': {'SHD': 35, 'TPR': 0.125, 'Time Elapsed': 201.6461842060089, 'F1': 0.2222222222222222, 'diff': 6.115194435345255, 'mse': 6.361944944035654, 'valid': 'yes', 'h_val': 8.547414355054411e-07, 'start mse': array(8.48563398)}, 'lambda_0.001_tau_0.0001_thresh_0.3_gamma_4': {'SHD': 37, 'TPR': 0.075, 'Time Elapsed': 201.6461842060089, 'F1': 0.13953488372093023, 'diff': 6.18737651901715, 'mse': 6.361944944035654, 'valid': 'yes', 'h_val': 8.547414355054411e-07, 'start mse': array(8.48563398)}}\n"
     ]
    }
   ],
   "source": [
    "results = run_model(lambda1 = 1e-3, tau = 1e-4, X = X, device = device, B_true = B_true, gamma = 4, T=6, lr= 0.03)\n",
    "print(results)"
   ]
  },
  {
   "cell_type": "code",
   "execution_count": 15,
   "metadata": {},
   "outputs": [],
   "source": [
    "utils.set_random_seed(0)\n",
    "torch.manual_seed(0)\n",
    "n, d, s0, graph_type, sem_type = 100, 10, 40, 'ER', 'mlp' # s0 = expected number of edges\n",
    "B_true = utils.simulate_dag(d, s0, graph_type) # [d, d] binary adj matrix of DAG\n",
    "X = utils.simulate_nonlinear_sem(B_true, n, sem_type) # [n, d] sample matrix\n",
    "results_var_sort_regress = var_sort_regress(X)\n",
    "X = torch.from_numpy(X)"
   ]
  },
  {
   "cell_type": "code",
   "execution_count": 16,
   "metadata": {},
   "outputs": [
    {
     "data": {
      "application/vnd.jupyter.widget-view+json": {
       "model_id": "77f749734f1744b8a475393efe8c7abe",
       "version_major": 2,
       "version_minor": 0
      },
      "text/plain": [
       "  0%|          | 0/33000.0 [00:00<?, ?it/s]"
      ]
     },
     "metadata": {},
     "output_type": "display_data"
    },
    {
     "name": "stdout",
     "output_type": "stream",
     "text": [
      "{'lambda_0.001_tau_0.0001_thresh_0.005_gamma_4': {'SHD': 11, 'TPR': 0.85, 'Time Elapsed': 259.5287575721741, 'F1': 0.7999999999999998, 'diff': 4.715235982059768, 'mse': 21.08543219133373, 'valid': 'yes', 'h_val': 8.829247121200368e-07, 'start mse': array(233.45203392)}, 'lambda_0.001_tau_0.0001_thresh_0.01_gamma_4': {'SHD': 11, 'TPR': 0.85, 'Time Elapsed': 259.5287575721741, 'F1': 0.7999999999999998, 'diff': 4.715235982059768, 'mse': 21.08543219133373, 'valid': 'yes', 'h_val': 8.829247121200368e-07, 'start mse': array(233.45203392)}, 'lambda_0.001_tau_0.0001_thresh_0.05_gamma_4': {'SHD': 13, 'TPR': 0.8, 'Time Elapsed': 259.5287575721741, 'F1': 0.7710843373493975, 'diff': 4.72934054134763, 'mse': 21.08543219133373, 'valid': 'yes', 'h_val': 8.829247121200368e-07, 'start mse': array(233.45203392)}, 'lambda_0.001_tau_0.0001_thresh_0.1_gamma_4': {'SHD': 14, 'TPR': 0.775, 'Time Elapsed': 259.5287575721741, 'F1': 0.7560975609756099, 'diff': 4.740442265928565, 'mse': 21.08543219133373, 'valid': 'yes', 'h_val': 8.829247121200368e-07, 'start mse': array(233.45203392)}, 'lambda_0.001_tau_0.0001_thresh_0.15_gamma_4': {'SHD': 15, 'TPR': 0.75, 'Time Elapsed': 259.5287575721741, 'F1': 0.7407407407407408, 'diff': 4.7665821577612455, 'mse': 21.08543219133373, 'valid': 'yes', 'h_val': 8.829247121200368e-07, 'start mse': array(233.45203392)}, 'lambda_0.001_tau_0.0001_thresh_0.2_gamma_4': {'SHD': 19, 'TPR': 0.65, 'Time Elapsed': 259.5287575721741, 'F1': 0.6842105263157895, 'diff': 4.897980503382905, 'mse': 21.08543219133373, 'valid': 'yes', 'h_val': 8.829247121200368e-07, 'start mse': array(233.45203392)}, 'lambda_0.001_tau_0.0001_thresh_0.25_gamma_4': {'SHD': 21, 'TPR': 0.575, 'Time Elapsed': 259.5287575721741, 'F1': 0.6388888888888888, 'diff': 5.006720645230909, 'mse': 21.08543219133373, 'valid': 'yes', 'h_val': 8.829247121200368e-07, 'start mse': array(233.45203392)}, 'lambda_0.001_tau_0.0001_thresh_0.3_gamma_4': {'SHD': 24, 'TPR': 0.475, 'Time Elapsed': 259.5287575721741, 'F1': 0.5757575757575758, 'diff': 5.180193010567421, 'mse': 21.08543219133373, 'valid': 'yes', 'h_val': 8.829247121200368e-07, 'start mse': array(233.45203392)}}\n"
     ]
    }
   ],
   "source": [
    "results = run_model(lambda1 = 1e-3, tau = 1e-4, X = X, device = device, B_true = B_true, gamma = 4, T=6, lr= 0.03)\n",
    "print(results)"
   ]
  },
  {
   "cell_type": "markdown",
   "metadata": {},
   "source": [
    "## d = 20"
   ]
  },
  {
   "cell_type": "code",
   "execution_count": 7,
   "metadata": {},
   "outputs": [],
   "source": [
    "utils.set_random_seed(0)\n",
    "torch.manual_seed(0)\n",
    "n, d, s0, graph_type, sem_type = 100, 20, 80, 'ER', 'gp-add' # s0 = expected number of edges\n",
    "B_true = utils.simulate_dag(d, s0, graph_type) # [d, d] binary adj matrix of DAG\n",
    "X = utils.simulate_nonlinear_sem(B_true, n, sem_type) # [n, d] sample matrix\n",
    "results_var_sort_regress = var_sort_regress(X)\n",
    "X = torch.from_numpy(X)"
   ]
  },
  {
   "cell_type": "code",
   "execution_count": 8,
   "metadata": {},
   "outputs": [
    {
     "data": {
      "application/vnd.jupyter.widget-view+json": {
       "model_id": "a1be31b8328b4fd7ba8451071442c233",
       "version_major": 2,
       "version_minor": 0
      },
      "text/plain": [
       "  0%|          | 0/33000.0 [00:00<?, ?it/s]"
      ]
     },
     "metadata": {},
     "output_type": "display_data"
    },
    {
     "name": "stdout",
     "output_type": "stream",
     "text": [
      "{'lambda_0.001_tau_0.0001_thresh_0.005_gamma_8': {'SHD': 64, 'TPR': 0.3375, 'Time Elapsed': 349.5824701786041, 'F1': 0.43200000000000005, 'diff': 9.568051707117414, 'mse': 21.088015354556916, 'valid': 'no', 'h_val': 1.1306787610895247e-05, 'start mse': array(45.54741618)}, 'lambda_0.001_tau_0.0001_thresh_0.01_gamma_8': {'SHD': 64, 'TPR': 0.3375, 'Time Elapsed': 349.5824701786041, 'F1': 0.43200000000000005, 'diff': 9.568051707117414, 'mse': 21.088015354556916, 'valid': 'no', 'h_val': 1.1306787610895247e-05, 'start mse': array(45.54741618)}, 'lambda_0.001_tau_0.0001_thresh_0.05_gamma_8': {'SHD': 76, 'TPR': 0.475, 'Time Elapsed': 349.5824701786041, 'F1': 0.4840764331210191, 'diff': 8.420834580843083, 'mse': 21.088015354556916, 'valid': 'yes', 'h_val': 1.1306787610895247e-05, 'start mse': array(45.54741618)}, 'lambda_0.001_tau_0.0001_thresh_0.1_gamma_8': {'SHD': 74, 'TPR': 0.25, 'Time Elapsed': 349.5824701786041, 'F1': 0.3508771929824561, 'diff': 8.558906100809642, 'mse': 21.088015354556916, 'valid': 'yes', 'h_val': 1.1306787610895247e-05, 'start mse': array(45.54741618)}, 'lambda_0.001_tau_0.0001_thresh_0.15_gamma_8': {'SHD': 74, 'TPR': 0.15, 'Time Elapsed': 349.5824701786041, 'F1': 0.24489795918367346, 'diff': 8.659403911176383, 'mse': 21.088015354556916, 'valid': 'yes', 'h_val': 1.1306787610895247e-05, 'start mse': array(45.54741618)}, 'lambda_0.001_tau_0.0001_thresh_0.2_gamma_8': {'SHD': 74, 'TPR': 0.0875, 'Time Elapsed': 349.5824701786041, 'F1': 0.15909090909090906, 'diff': 8.739499889079184, 'mse': 21.088015354556916, 'valid': 'yes', 'h_val': 1.1306787610895247e-05, 'start mse': array(45.54741618)}, 'lambda_0.001_tau_0.0001_thresh_0.25_gamma_8': {'SHD': 75, 'TPR': 0.0625, 'Time Elapsed': 349.5824701786041, 'F1': 0.11764705882352941, 'diff': 8.777777302315398, 'mse': 21.088015354556916, 'valid': 'yes', 'h_val': 1.1306787610895247e-05, 'start mse': array(45.54741618)}, 'lambda_0.001_tau_0.0001_thresh_0.3_gamma_8': {'SHD': 77, 'TPR': 0.0375, 'Time Elapsed': 349.5824701786041, 'F1': 0.07228915662650602, 'diff': 8.83023240343887, 'mse': 21.088015354556916, 'valid': 'yes', 'h_val': 1.1306787610895247e-05, 'start mse': array(45.54741618)}}\n"
     ]
    }
   ],
   "source": [
    "results = run_model(lambda1 = 1e-3, tau = 1e-4, X = X, device = device, B_true = B_true, gamma = 8, T=6, lr= 0.03)\n",
    "print(results)"
   ]
  },
  {
   "cell_type": "code",
   "execution_count": 13,
   "metadata": {},
   "outputs": [],
   "source": [
    "utils.set_random_seed(0)\n",
    "torch.manual_seed(0)\n",
    "n, d, s0, graph_type, sem_type = 100, 20, 80, 'ER', 'gp' # s0 = expected number of edges\n",
    "B_true = utils.simulate_dag(d, s0, graph_type) # [d, d] binary adj matrix of DAG\n",
    "X = utils.simulate_nonlinear_sem(B_true, n, sem_type) # [n, d] sample matrix\n",
    "results_var_sort_regress = var_sort_regress(X)\n",
    "X = torch.from_numpy(X)"
   ]
  },
  {
   "cell_type": "code",
   "execution_count": 14,
   "metadata": {},
   "outputs": [
    {
     "data": {
      "application/vnd.jupyter.widget-view+json": {
       "model_id": "a0d9b4448ff741209dff2c546c79a05d",
       "version_major": 2,
       "version_minor": 0
      },
      "text/plain": [
       "  0%|          | 0/33000.0 [00:00<?, ?it/s]"
      ]
     },
     "metadata": {},
     "output_type": "display_data"
    },
    {
     "name": "stdout",
     "output_type": "stream",
     "text": [
      "{'lambda_0.001_tau_0.0001_thresh_0.005_gamma_8': {'SHD': 77, 'TPR': 0.075, 'Time Elapsed': 358.0812156200409, 'F1': 0.1348314606741573, 'diff': 9.018154120229605, 'mse': 13.202065018402735, 'valid': 'no', 'h_val': 2.8511056450403172e-06, 'start mse': array(16.40777158)}, 'lambda_0.001_tau_0.0001_thresh_0.01_gamma_8': {'SHD': 77, 'TPR': 0.075, 'Time Elapsed': 358.0812156200409, 'F1': 0.1348314606741573, 'diff': 9.018154120229605, 'mse': 13.202065018402735, 'valid': 'no', 'h_val': 2.8511056450403172e-06, 'start mse': array(16.40777158)}, 'lambda_0.001_tau_0.0001_thresh_0.05_gamma_8': {'SHD': 81, 'TPR': 0.25, 'Time Elapsed': 358.0812156200409, 'F1': 0.31496062992125984, 'diff': 8.672618224686337, 'mse': 13.202065018402735, 'valid': 'yes', 'h_val': 2.8511056450403172e-06, 'start mse': array(16.40777158)}, 'lambda_0.001_tau_0.0001_thresh_0.1_gamma_8': {'SHD': 76, 'TPR': 0.15, 'Time Elapsed': 358.0812156200409, 'F1': 0.2352941176470588, 'diff': 8.729205286079237, 'mse': 13.202065018402735, 'valid': 'yes', 'h_val': 2.8511056450403172e-06, 'start mse': array(16.40777158)}, 'lambda_0.001_tau_0.0001_thresh_0.15_gamma_8': {'SHD': 74, 'TPR': 0.1, 'Time Elapsed': 358.0812156200409, 'F1': 0.1777777777777778, 'diff': 8.77815291443299, 'mse': 13.202065018402735, 'valid': 'yes', 'h_val': 2.8511056450403172e-06, 'start mse': array(16.40777158)}, 'lambda_0.001_tau_0.0001_thresh_0.2_gamma_8': {'SHD': 77, 'TPR': 0.05, 'Time Elapsed': 358.0812156200409, 'F1': 0.09411764705882354, 'diff': 8.849264676639757, 'mse': 13.202065018402735, 'valid': 'yes', 'h_val': 2.8511056450403172e-06, 'start mse': array(16.40777158)}, 'lambda_0.001_tau_0.0001_thresh_0.25_gamma_8': {'SHD': 78, 'TPR': 0.025, 'Time Elapsed': 358.0812156200409, 'F1': 0.04878048780487806, 'diff': 8.891602783877007, 'mse': 13.202065018402735, 'valid': 'yes', 'h_val': 2.8511056450403172e-06, 'start mse': array(16.40777158)}, 'lambda_0.001_tau_0.0001_thresh_0.3_gamma_8': {'SHD': 80, 'TPR': 0.0, 'Time Elapsed': 358.0812156200409, 'F1': 0.0, 'diff': 8.94427190999916, 'mse': 13.202065018402735, 'valid': 'yes', 'h_val': 2.8511056450403172e-06, 'start mse': array(16.40777158)}}\n"
     ]
    }
   ],
   "source": [
    "results = run_model(lambda1 = 1e-3, tau = 1e-4, X = X, device = device, B_true = B_true, gamma = 8, T=6, lr= 0.03)\n",
    "print(results)"
   ]
  },
  {
   "cell_type": "code",
   "execution_count": 15,
   "metadata": {},
   "outputs": [],
   "source": [
    "utils.set_random_seed(0)\n",
    "torch.manual_seed(0)\n",
    "n, d, s0, graph_type, sem_type = 100, 20, 80, 'ER', 'mlp' # s0 = expected number of edges\n",
    "B_true = utils.simulate_dag(d, s0, graph_type) # [d, d] binary adj matrix of DAG\n",
    "X = utils.simulate_nonlinear_sem(B_true, n, sem_type) # [n, d] sample matrix\n",
    "results_var_sort_regress = var_sort_regress(X)\n",
    "X = torch.from_numpy(X)"
   ]
  },
  {
   "cell_type": "code",
   "execution_count": 16,
   "metadata": {},
   "outputs": [
    {
     "data": {
      "application/vnd.jupyter.widget-view+json": {
       "model_id": "36526016088f4b96af48e771634cfd2c",
       "version_major": 2,
       "version_minor": 0
      },
      "text/plain": [
       "  0%|          | 0/33000.0 [00:00<?, ?it/s]"
      ]
     },
     "metadata": {},
     "output_type": "display_data"
    },
    {
     "name": "stdout",
     "output_type": "stream",
     "text": [
      "{'lambda_0.001_tau_0.0001_thresh_0.005_gamma_8': {'SHD': 89, 'TPR': 0.3125, 'Time Elapsed': 417.28156876564026, 'F1': 0.32258064516129037, 'diff': 11.57340103047146, 'mse': 157.45458406430626, 'valid': 'no', 'h_val': 0.0001286312577131111, 'start mse': array(566.18164828)}, 'lambda_0.001_tau_0.0001_thresh_0.01_gamma_8': {'SHD': 89, 'TPR': 0.3125, 'Time Elapsed': 417.28156876564026, 'F1': 0.32258064516129037, 'diff': 11.57340103047146, 'mse': 157.45458406430626, 'valid': 'no', 'h_val': 0.0001286312577131111, 'start mse': array(566.18164828)}, 'lambda_0.001_tau_0.0001_thresh_0.05_gamma_8': {'SHD': 114, 'TPR': 0.325, 'Time Elapsed': 417.28156876564026, 'F1': 0.2653061224489796, 'diff': 8.885367590658824, 'mse': 157.45458406430626, 'valid': 'yes', 'h_val': 0.0001286312577131111, 'start mse': array(566.18164828)}, 'lambda_0.001_tau_0.0001_thresh_0.1_gamma_8': {'SHD': 98, 'TPR': 0.1375, 'Time Elapsed': 417.28156876564026, 'F1': 0.16176470588235295, 'diff': 8.975071126464346, 'mse': 157.45458406430626, 'valid': 'yes', 'h_val': 0.0001286312577131111, 'start mse': array(566.18164828)}, 'lambda_0.001_tau_0.0001_thresh_0.15_gamma_8': {'SHD': 89, 'TPR': 0.075, 'Time Elapsed': 417.28156876564026, 'F1': 0.11214953271028037, 'diff': 9.01833352451652, 'mse': 157.45458406430626, 'valid': 'yes', 'h_val': 0.0001286312577131111, 'start mse': array(566.18164828)}, 'lambda_0.001_tau_0.0001_thresh_0.2_gamma_8': {'SHD': 89, 'TPR': 0.05, 'Time Elapsed': 417.28156876564026, 'F1': 0.07766990291262137, 'diff': 9.049755177292019, 'mse': 157.45458406430626, 'valid': 'yes', 'h_val': 0.0001286312577131111, 'start mse': array(566.18164828)}, 'lambda_0.001_tau_0.0001_thresh_0.25_gamma_8': {'SHD': 88, 'TPR': 0.0375, 'Time Elapsed': 417.28156876564026, 'F1': 0.06060606060606061, 'diff': 9.060935275456474, 'mse': 157.45458406430626, 'valid': 'yes', 'h_val': 0.0001286312577131111, 'start mse': array(566.18164828)}, 'lambda_0.001_tau_0.0001_thresh_0.3_gamma_8': {'SHD': 87, 'TPR': 0.025, 'Time Elapsed': 417.28156876564026, 'F1': 0.04166666666666667, 'diff': 9.080072242667203, 'mse': 157.45458406430626, 'valid': 'yes', 'h_val': 0.0001286312577131111, 'start mse': array(566.18164828)}}\n"
     ]
    }
   ],
   "source": [
    "results = run_model(lambda1 = 1e-3, tau = 1e-4, X = X, device = device, B_true = B_true, gamma = 8, T=6, lr= 0.03)\n",
    "print(results)"
   ]
  },
  {
   "cell_type": "markdown",
   "metadata": {},
   "source": [
    "## d = 30"
   ]
  },
  {
   "cell_type": "code",
   "execution_count": 17,
   "metadata": {},
   "outputs": [],
   "source": [
    "utils.set_random_seed(0)\n",
    "torch.manual_seed(0)\n",
    "n, d, s0, graph_type, sem_type = 100, 30, 120, 'ER', 'gp-add' # s0 = expected number of edges\n",
    "B_true = utils.simulate_dag(d, s0, graph_type) # [d, d] binary adj matrix of DAG\n",
    "X = utils.simulate_nonlinear_sem(B_true, n, sem_type) # [n, d] sample matrix\n",
    "results_var_sort_regress = var_sort_regress(X)\n",
    "X = torch.from_numpy(X)"
   ]
  },
  {
   "cell_type": "code",
   "execution_count": 18,
   "metadata": {},
   "outputs": [
    {
     "data": {
      "application/vnd.jupyter.widget-view+json": {
       "model_id": "a8813a21cf4841789158f4f18ca7b575",
       "version_major": 2,
       "version_minor": 0
      },
      "text/plain": [
       "  0%|          | 0/33000.0 [00:00<?, ?it/s]"
      ]
     },
     "metadata": {},
     "output_type": "display_data"
    },
    {
     "name": "stdout",
     "output_type": "stream",
     "text": [
      "{'lambda_0.001_tau_0.0001_thresh_0.005_gamma_12': {'SHD': 103, 'TPR': 0.35, 'Time Elapsed': 753.0553665161133, 'F1': 0.43523316062176165, 'diff': 11.229162064543418, 'mse': 36.44354150093772, 'valid': 'no', 'h_val': 2.8843992515349805e-05, 'start mse': array(81.20259934)}, 'lambda_0.001_tau_0.0001_thresh_0.01_gamma_12': {'SHD': 103, 'TPR': 0.35, 'Time Elapsed': 753.0553665161133, 'F1': 0.43523316062176165, 'diff': 11.229162064543418, 'mse': 36.44354150093772, 'valid': 'no', 'h_val': 2.8843992515349805e-05, 'start mse': array(81.20259934)}, 'lambda_0.001_tau_0.0001_thresh_0.05_gamma_12': {'SHD': 137, 'TPR': 0.35833333333333334, 'Time Elapsed': 753.0553665161133, 'F1': 0.3659574468085106, 'diff': 10.558407680107765, 'mse': 36.44354150093772, 'valid': 'yes', 'h_val': 2.8843992515349805e-05, 'start mse': array(81.20259934)}, 'lambda_0.001_tau_0.0001_thresh_0.1_gamma_12': {'SHD': 111, 'TPR': 0.175, 'Time Elapsed': 753.0553665161133, 'F1': 0.2675159235668789, 'diff': 10.68296720381211, 'mse': 36.44354150093772, 'valid': 'yes', 'h_val': 2.8843992515349805e-05, 'start mse': array(81.20259934)}, 'lambda_0.001_tau_0.0001_thresh_0.15_gamma_12': {'SHD': 115, 'TPR': 0.06666666666666667, 'Time Elapsed': 753.0553665161133, 'F1': 0.12030075187969924, 'diff': 10.811871934900875, 'mse': 36.44354150093772, 'valid': 'yes', 'h_val': 2.8843992515349805e-05, 'start mse': array(81.20259934)}, 'lambda_0.001_tau_0.0001_thresh_0.2_gamma_12': {'SHD': 115, 'TPR': 0.05, 'Time Elapsed': 753.0553665161133, 'F1': 0.09448818897637795, 'diff': 10.835945356095944, 'mse': 36.44354150093772, 'valid': 'yes', 'h_val': 2.8843992515349805e-05, 'start mse': array(81.20259934)}, 'lambda_0.001_tau_0.0001_thresh_0.25_gamma_12': {'SHD': 118, 'TPR': 0.016666666666666666, 'Time Elapsed': 753.0553665161133, 'F1': 0.03278688524590164, 'diff': 10.90571466750326, 'mse': 36.44354150093772, 'valid': 'yes', 'h_val': 2.8843992515349805e-05, 'start mse': array(81.20259934)}, 'lambda_0.001_tau_0.0001_thresh_0.3_gamma_12': {'SHD': 119, 'TPR': 0.008333333333333333, 'Time Elapsed': 753.0553665161133, 'F1': 0.01652892561983471, 'diff': 10.928099045029368, 'mse': 36.44354150093772, 'valid': 'yes', 'h_val': 2.8843992515349805e-05, 'start mse': array(81.20259934)}}\n"
     ]
    }
   ],
   "source": [
    "results = run_model(lambda1 = 1e-3, tau = 1e-4, X = X, device = device, B_true = B_true, gamma = 12, T=6, lr= 0.03)\n",
    "print(results)"
   ]
  },
  {
   "cell_type": "code",
   "execution_count": 19,
   "metadata": {},
   "outputs": [],
   "source": [
    "utils.set_random_seed(0)\n",
    "torch.manual_seed(0)\n",
    "n, d, s0, graph_type, sem_type = 100, 30, 120, 'ER', 'gp' # s0 = expected number of edges\n",
    "B_true = utils.simulate_dag(d, s0, graph_type) # [d, d] binary adj matrix of DAG\n",
    "X = utils.simulate_nonlinear_sem(B_true, n, sem_type) # [n, d] sample matrix\n",
    "results_var_sort_regress = var_sort_regress(X)\n",
    "X = torch.from_numpy(X)"
   ]
  },
  {
   "cell_type": "code",
   "execution_count": 20,
   "metadata": {},
   "outputs": [
    {
     "data": {
      "application/vnd.jupyter.widget-view+json": {
       "model_id": "4780e95256e74dc7b517204aa7af84a8",
       "version_major": 2,
       "version_minor": 0
      },
      "text/plain": [
       "  0%|          | 0/33000.0 [00:00<?, ?it/s]"
      ]
     },
     "metadata": {},
     "output_type": "display_data"
    },
    {
     "name": "stdout",
     "output_type": "stream",
     "text": [
      "{'lambda_0.001_tau_0.0001_thresh_0.005_gamma_12': {'SHD': 125, 'TPR': 0.10833333333333334, 'Time Elapsed': 962.8019144535065, 'F1': 0.17218543046357618, 'diff': 10.92090148941441, 'mse': 21.08564965307828, 'valid': 'no', 'h_val': 4.613701580805549e-06, 'start mse': array(28.4289835)}, 'lambda_0.001_tau_0.0001_thresh_0.01_gamma_12': {'SHD': 125, 'TPR': 0.10833333333333334, 'Time Elapsed': 962.8019144535065, 'F1': 0.17218543046357618, 'diff': 10.92090148941441, 'mse': 21.08564965307828, 'valid': 'no', 'h_val': 4.613701580805549e-06, 'start mse': array(28.4289835)}, 'lambda_0.001_tau_0.0001_thresh_0.05_gamma_12': {'SHD': 167, 'TPR': 0.20833333333333334, 'Time Elapsed': 962.8019144535065, 'F1': 0.21186440677966104, 'diff': 10.716292622956653, 'mse': 21.08564965307828, 'valid': 'yes', 'h_val': 4.613701580805549e-06, 'start mse': array(28.4289835)}, 'lambda_0.001_tau_0.0001_thresh_0.1_gamma_12': {'SHD': 133, 'TPR': 0.14166666666666666, 'Time Elapsed': 962.8019144535065, 'F1': 0.1954022988505747, 'diff': 10.756052304438835, 'mse': 21.08564965307828, 'valid': 'yes', 'h_val': 4.613701580805549e-06, 'start mse': array(28.4289835)}, 'lambda_0.001_tau_0.0001_thresh_0.15_gamma_12': {'SHD': 117, 'TPR': 0.08333333333333333, 'Time Elapsed': 962.8019144535065, 'F1': 0.14492753623188404, 'diff': 10.80830402312987, 'mse': 21.08564965307828, 'valid': 'yes', 'h_val': 4.613701580805549e-06, 'start mse': array(28.4289835)}, 'lambda_0.001_tau_0.0001_thresh_0.2_gamma_12': {'SHD': 120, 'TPR': 0.025, 'Time Elapsed': 962.8019144535065, 'F1': 0.047619047619047616, 'diff': 10.901655523993062, 'mse': 21.08564965307828, 'valid': 'yes', 'h_val': 4.613701580805549e-06, 'start mse': array(28.4289835)}, 'lambda_0.001_tau_0.0001_thresh_0.25_gamma_12': {'SHD': 121, 'TPR': 0.008333333333333333, 'Time Elapsed': 962.8019144535065, 'F1': 0.016260162601626015, 'diff': 10.936172792678493, 'mse': 21.08564965307828, 'valid': 'yes', 'h_val': 4.613701580805549e-06, 'start mse': array(28.4289835)}, 'lambda_0.001_tau_0.0001_thresh_0.3_gamma_12': {'SHD': 119, 'TPR': 0.008333333333333333, 'Time Elapsed': 962.8019144535065, 'F1': 0.01652892561983471, 'diff': 10.929543594663055, 'mse': 21.08564965307828, 'valid': 'yes', 'h_val': 4.613701580805549e-06, 'start mse': array(28.4289835)}}\n"
     ]
    }
   ],
   "source": [
    "results = run_model(lambda1 = 1e-3, tau = 1e-4, X = X, device = device, B_true = B_true, gamma = 12, T=6, lr= 0.03)\n",
    "print(results)"
   ]
  },
  {
   "cell_type": "code",
   "execution_count": 5,
   "metadata": {},
   "outputs": [],
   "source": [
    "utils.set_random_seed(0)\n",
    "torch.manual_seed(0)\n",
    "n, d, s0, graph_type, sem_type = 100, 30, 120, 'ER', 'mlp' # s0 = expected number of edges\n",
    "B_true = utils.simulate_dag(d, s0, graph_type) # [d, d] binary adj matrix of DAG\n",
    "X = utils.simulate_nonlinear_sem(B_true, n, sem_type) # [n, d] sample matrix\n",
    "results_var_sort_regress = var_sort_regress(X)\n",
    "X = torch.from_numpy(X)"
   ]
  },
  {
   "cell_type": "code",
   "execution_count": 6,
   "metadata": {},
   "outputs": [
    {
     "data": {
      "application/vnd.jupyter.widget-view+json": {
       "model_id": "22ec2656232d4e60b05f2f530747e9af",
       "version_major": 2,
       "version_minor": 0
      },
      "text/plain": [
       "  0%|          | 0/33000.0 [00:00<?, ?it/s]"
      ]
     },
     "metadata": {},
     "output_type": "display_data"
    },
    {
     "name": "stdout",
     "output_type": "stream",
     "text": [
      "{'lambda_0.001_tau_0.0001_thresh_0.005_gamma_10': {'SHD': 136, 'TPR': 0.38333333333333336, 'Time Elapsed': 1151.4162907600403, 'F1': 0.3739837398373984, 'diff': 14.821410204881552, 'mse': 337.58798459722254, 'valid': 'no', 'h_val': 0.0003649691711161557, 'start mse': array(1327.67953455)}, 'lambda_0.001_tau_0.0001_thresh_0.01_gamma_10': {'SHD': 136, 'TPR': 0.38333333333333336, 'Time Elapsed': 1151.4162907600403, 'F1': 0.3739837398373984, 'diff': 14.821410204881552, 'mse': 337.58798459722254, 'valid': 'no', 'h_val': 0.0003649691711161557, 'start mse': array(1327.67953455)}, 'lambda_0.001_tau_0.0001_thresh_0.05_gamma_10': {'SHD': 265, 'TPR': 0.19166666666666668, 'Time Elapsed': 1151.4162907600403, 'F1': 0.12777777777777777, 'diff': 11.130906165532679, 'mse': 337.58798459722254, 'valid': 'yes', 'h_val': 0.0003649691711161557, 'start mse': array(1327.67953455)}, 'lambda_0.001_tau_0.0001_thresh_0.1_gamma_10': {'SHD': 194, 'TPR': 0.05, 'Time Elapsed': 1151.4162907600403, 'F1': 0.05263157894736843, 'diff': 11.205000690680192, 'mse': 337.58798459722254, 'valid': 'yes', 'h_val': 0.0003649691711161557, 'start mse': array(1327.67953455)}, 'lambda_0.001_tau_0.0001_thresh_0.15_gamma_10': {'SHD': 163, 'TPR': 0.03333333333333333, 'Time Elapsed': 1151.4162907600403, 'F1': 0.04494382022471911, 'diff': 11.193742672931762, 'mse': 337.58798459722254, 'valid': 'yes', 'h_val': 0.0003649691711161557, 'start mse': array(1327.67953455)}, 'lambda_0.001_tau_0.0001_thresh_0.2_gamma_10': {'SHD': 147, 'TPR': 0.03333333333333333, 'Time Elapsed': 1151.4162907600403, 'F1': 0.049689440993788817, 'diff': 11.17216853000384, 'mse': 337.58798459722254, 'valid': 'yes', 'h_val': 0.0003649691711161557, 'start mse': array(1327.67953455)}, 'lambda_0.001_tau_0.0001_thresh_0.25_gamma_10': {'SHD': 143, 'TPR': 0.03333333333333333, 'Time Elapsed': 1151.4162907600403, 'F1': 0.050955414012738856, 'diff': 11.161694191137338, 'mse': 337.58798459722254, 'valid': 'yes', 'h_val': 0.0003649691711161557, 'start mse': array(1327.67953455)}, 'lambda_0.001_tau_0.0001_thresh_0.3_gamma_10': {'SHD': 134, 'TPR': 0.03333333333333333, 'Time Elapsed': 1151.4162907600403, 'F1': 0.0547945205479452, 'diff': 11.124387372094743, 'mse': 337.58798459722254, 'valid': 'yes', 'h_val': 0.0003649691711161557, 'start mse': array(1327.67953455)}}\n"
     ]
    }
   ],
   "source": [
    "results = run_model(lambda1 = 1e-3, tau = 1e-4, X = X, device = device, B_true = B_true, gamma = 10, T=6, lr= 0.03)\n",
    "print(results)"
   ]
  },
  {
   "cell_type": "code",
   "execution_count": 7,
   "metadata": {},
   "outputs": [
    {
     "data": {
      "application/vnd.jupyter.widget-view+json": {
       "model_id": "f2f26e2ecac844079533f5262077ef32",
       "version_major": 2,
       "version_minor": 0
      },
      "text/plain": [
       "  0%|          | 0/33000.0 [00:00<?, ?it/s]"
      ]
     },
     "metadata": {},
     "output_type": "display_data"
    },
    {
     "name": "stdout",
     "output_type": "stream",
     "text": [
      "{'lambda_0.001_tau_0.0001_thresh_0.005_gamma_12': {'SHD': 136, 'TPR': 0.38333333333333336, 'Time Elapsed': 1789.4837696552277, 'F1': 0.3739837398373984, 'diff': 14.821410204881552, 'mse': 30.10209920164627, 'valid': 'no', 'h_val': -9.619390894943791e-09, 'start mse': array(1327.67953455)}, 'lambda_0.001_tau_0.0001_thresh_0.01_gamma_12': {'SHD': 136, 'TPR': 0.38333333333333336, 'Time Elapsed': 1789.4837696552277, 'F1': 0.3739837398373984, 'diff': 14.821410204881552, 'mse': 30.10209920164627, 'valid': 'no', 'h_val': -9.619390894943791e-09, 'start mse': array(1327.67953455)}, 'lambda_0.001_tau_0.0001_thresh_0.05_gamma_12': {'SHD': 136, 'TPR': 0.38333333333333336, 'Time Elapsed': 1789.4837696552277, 'F1': 0.3739837398373984, 'diff': 14.821410204881552, 'mse': 30.10209920164627, 'valid': 'no', 'h_val': -9.619390894943791e-09, 'start mse': array(1327.67953455)}, 'lambda_0.001_tau_0.0001_thresh_0.1_gamma_12': {'SHD': 136, 'TPR': 0.38333333333333336, 'Time Elapsed': 1789.4837696552277, 'F1': 0.3739837398373984, 'diff': 14.821410204881552, 'mse': 30.10209920164627, 'valid': 'no', 'h_val': -9.619390894943791e-09, 'start mse': array(1327.67953455)}, 'lambda_0.001_tau_0.0001_thresh_0.15_gamma_12': {'SHD': 136, 'TPR': 0.38333333333333336, 'Time Elapsed': 1789.4837696552277, 'F1': 0.3739837398373984, 'diff': 14.821410204881552, 'mse': 30.10209920164627, 'valid': 'no', 'h_val': -9.619390894943791e-09, 'start mse': array(1327.67953455)}, 'lambda_0.001_tau_0.0001_thresh_0.2_gamma_12': {'SHD': 136, 'TPR': 0.38333333333333336, 'Time Elapsed': 1789.4837696552277, 'F1': 0.3739837398373984, 'diff': 14.821410204881552, 'mse': 30.10209920164627, 'valid': 'no', 'h_val': -9.619390894943791e-09, 'start mse': array(1327.67953455)}, 'lambda_0.001_tau_0.0001_thresh_0.25_gamma_12': {'SHD': 136, 'TPR': 0.38333333333333336, 'Time Elapsed': 1789.4837696552277, 'F1': 0.3739837398373984, 'diff': 14.821410204881552, 'mse': 30.10209920164627, 'valid': 'no', 'h_val': -9.619390894943791e-09, 'start mse': array(1327.67953455)}, 'lambda_0.001_tau_0.0001_thresh_0.3_gamma_12': {'SHD': 136, 'TPR': 0.38333333333333336, 'Time Elapsed': 1789.4837696552277, 'F1': 0.3739837398373984, 'diff': 14.821410204881552, 'mse': 30.10209920164627, 'valid': 'no', 'h_val': -9.619390894943791e-09, 'start mse': array(1327.67953455)}}\n"
     ]
    }
   ],
   "source": [
    "results = run_model(lambda1 = 1e-3, tau = 1e-4, X = X, device = device, B_true = B_true, gamma = 12, T=6, lr= 0.03)\n",
    "print(results)"
   ]
  },
  {
   "cell_type": "code",
   "execution_count": 5,
   "metadata": {},
   "outputs": [],
   "source": [
    "utils.set_random_seed(1)\n",
    "torch.manual_seed(1)\n",
    "n, d, s0, graph_type, sem_type = 100, 30, 120, 'ER', 'mlp' # s0 = expected number of edges\n",
    "B_true = utils.simulate_dag(d, s0, graph_type) # [d, d] binary adj matrix of DAG\n",
    "X = utils.simulate_nonlinear_sem(B_true, n, sem_type) # [n, d] sample matrix\n",
    "results_var_sort_regress = var_sort_regress(X)\n",
    "X = torch.from_numpy(X)"
   ]
  },
  {
   "cell_type": "code",
   "execution_count": 6,
   "metadata": {},
   "outputs": [
    {
     "data": {
      "application/vnd.jupyter.widget-view+json": {
       "model_id": "4532b45705ec4ce5bba5c7c6434a5f87",
       "version_major": 2,
       "version_minor": 0
      },
      "text/plain": [
       "  0%|          | 0/33000.0 [00:00<?, ?it/s]"
      ]
     },
     "metadata": {},
     "output_type": "display_data"
    },
    {
     "name": "stdout",
     "output_type": "stream",
     "text": [
      "{'lambda_0.001_tau_0.0001_thresh_0.005_gamma_12': {'SHD': 108, 'TPR': 0.38333333333333336, 'Time Elapsed': 798.5386590957642, 'F1': 0.4360189573459716, 'diff': 13.678161899222934, 'mse': 233.04612817601657, 'valid': 'no', 'h_val': 0.0003850311280564261, 'start mse': array(756.02150328)}, 'lambda_0.001_tau_0.0001_thresh_0.01_gamma_12': {'SHD': 108, 'TPR': 0.38333333333333336, 'Time Elapsed': 798.5386590957642, 'F1': 0.4360189573459716, 'diff': 13.678161899222934, 'mse': 233.04612817601657, 'valid': 'no', 'h_val': 0.0003850311280564261, 'start mse': array(756.02150328)}, 'lambda_0.001_tau_0.0001_thresh_0.05_gamma_12': {'SHD': 108, 'TPR': 0.38333333333333336, 'Time Elapsed': 798.5386590957642, 'F1': 0.4360189573459716, 'diff': 13.678161899222934, 'mse': 233.04612817601657, 'valid': 'no', 'h_val': 0.0003850311280564261, 'start mse': array(756.02150328)}, 'lambda_0.001_tau_0.0001_thresh_0.1_gamma_12': {'SHD': 138, 'TPR': 0.10833333333333334, 'Time Elapsed': 798.5386590957642, 'F1': 0.155688622754491, 'diff': 10.802433305232801, 'mse': 233.04612817601657, 'valid': 'yes', 'h_val': 0.0003850311280564261, 'start mse': array(756.02150328)}, 'lambda_0.001_tau_0.0001_thresh_0.15_gamma_12': {'SHD': 129, 'TPR': 0.05, 'Time Elapsed': 798.5386590957642, 'F1': 0.08391608391608392, 'diff': 10.862660992126427, 'mse': 233.04612817601657, 'valid': 'yes', 'h_val': 0.0003850311280564261, 'start mse': array(756.02150328)}, 'lambda_0.001_tau_0.0001_thresh_0.2_gamma_12': {'SHD': 126, 'TPR': 0.041666666666666664, 'Time Elapsed': 798.5386590957642, 'F1': 0.07246376811594202, 'diff': 10.871338859174635, 'mse': 233.04612817601657, 'valid': 'yes', 'h_val': 0.0003850311280564261, 'start mse': array(756.02150328)}, 'lambda_0.001_tau_0.0001_thresh_0.25_gamma_12': {'SHD': 122, 'TPR': 0.041666666666666664, 'Time Elapsed': 798.5386590957642, 'F1': 0.07462686567164178, 'diff': 10.861736274745262, 'mse': 233.04612817601657, 'valid': 'yes', 'h_val': 0.0003850311280564261, 'start mse': array(756.02150328)}, 'lambda_0.001_tau_0.0001_thresh_0.3_gamma_12': {'SHD': 119, 'TPR': 0.025, 'Time Elapsed': 798.5386590957642, 'F1': 0.047619047619047616, 'diff': 10.884037101072174, 'mse': 233.04612817601657, 'valid': 'yes', 'h_val': 0.0003850311280564261, 'start mse': array(756.02150328)}}\n"
     ]
    }
   ],
   "source": [
    "results = run_model(lambda1 = 1e-3, tau = 1e-4, X = X, device = device, B_true = B_true, gamma = 12, T=6, lr= 0.03)\n",
    "print(results)"
   ]
  },
  {
   "cell_type": "code",
   "execution_count": 7,
   "metadata": {},
   "outputs": [
    {
     "data": {
      "application/vnd.jupyter.widget-view+json": {
       "model_id": "bddd2bccbc7b418bacf997819b7591ac",
       "version_major": 2,
       "version_minor": 0
      },
      "text/plain": [
       "  0%|          | 0/38000.0 [00:00<?, ?it/s]"
      ]
     },
     "metadata": {},
     "output_type": "display_data"
    },
    {
     "name": "stdout",
     "output_type": "stream",
     "text": [
      "{'lambda_0.001_tau_0.0001_thresh_0.005_gamma_12': {'SHD': 108, 'TPR': 0.38333333333333336, 'Time Elapsed': 1084.9773297309875, 'F1': 0.4360189573459716, 'diff': 13.678161899222934, 'mse': 304.99887980854004, 'valid': 'no', 'h_val': 1.86184792041225e-05, 'start mse': array(756.02150328)}, 'lambda_0.001_tau_0.0001_thresh_0.01_gamma_12': {'SHD': 108, 'TPR': 0.38333333333333336, 'Time Elapsed': 1084.9773297309875, 'F1': 0.4360189573459716, 'diff': 13.678161899222934, 'mse': 304.99887980854004, 'valid': 'no', 'h_val': 1.86184792041225e-05, 'start mse': array(756.02150328)}, 'lambda_0.001_tau_0.0001_thresh_0.05_gamma_12': {'SHD': 157, 'TPR': 0.19166666666666668, 'Time Elapsed': 1084.9773297309875, 'F1': 0.21698113207547173, 'diff': 10.734847202099852, 'mse': 304.99887980854004, 'valid': 'yes', 'h_val': 1.86184792041225e-05, 'start mse': array(756.02150328)}, 'lambda_0.001_tau_0.0001_thresh_0.1_gamma_12': {'SHD': 140, 'TPR': 0.125, 'Time Elapsed': 1084.9773297309875, 'F1': 0.17341040462427745, 'diff': 10.774468918390626, 'mse': 304.99887980854004, 'valid': 'yes', 'h_val': 1.86184792041225e-05, 'start mse': array(756.02150328)}, 'lambda_0.001_tau_0.0001_thresh_0.15_gamma_12': {'SHD': 136, 'TPR': 0.09166666666666666, 'Time Elapsed': 1084.9773297309875, 'F1': 0.13664596273291924, 'diff': 10.810608651428124, 'mse': 304.99887980854004, 'valid': 'yes', 'h_val': 1.86184792041225e-05, 'start mse': array(756.02150328)}, 'lambda_0.001_tau_0.0001_thresh_0.2_gamma_12': {'SHD': 129, 'TPR': 0.075, 'Time Elapsed': 1084.9773297309875, 'F1': 0.12080536912751676, 'diff': 10.823751897058996, 'mse': 304.99887980854004, 'valid': 'yes', 'h_val': 1.86184792041225e-05, 'start mse': array(756.02150328)}, 'lambda_0.001_tau_0.0001_thresh_0.25_gamma_12': {'SHD': 126, 'TPR': 0.041666666666666664, 'Time Elapsed': 1084.9773297309875, 'F1': 0.07246376811594202, 'diff': 10.880618475918139, 'mse': 304.99887980854004, 'valid': 'yes', 'h_val': 1.86184792041225e-05, 'start mse': array(756.02150328)}, 'lambda_0.001_tau_0.0001_thresh_0.3_gamma_12': {'SHD': 123, 'TPR': 0.025, 'Time Elapsed': 1084.9773297309875, 'F1': 0.04580152671755725, 'diff': 10.907050959314018, 'mse': 304.99887980854004, 'valid': 'yes', 'h_val': 1.86184792041225e-05, 'start mse': array(756.02150328)}}\n"
     ]
    }
   ],
   "source": [
    "results = run_model(lambda1 = 1e-3, tau = 1e-4, X = X, device = device, B_true = B_true, gamma = 12, T=7, lr= 0.03)\n",
    "print(results)"
   ]
  },
  {
   "cell_type": "code",
   "execution_count": 8,
   "metadata": {},
   "outputs": [
    {
     "data": {
      "application/vnd.jupyter.widget-view+json": {
       "model_id": "6ba357c34dd247389b0e9d6619924725",
       "version_major": 2,
       "version_minor": 0
      },
      "text/plain": [
       "  0%|          | 0/43000.0 [00:00<?, ?it/s]"
      ]
     },
     "metadata": {},
     "output_type": "display_data"
    },
    {
     "name": "stdout",
     "output_type": "stream",
     "text": [
      "{'lambda_0.001_tau_0.0001_thresh_0.005_gamma_12': {'SHD': 108, 'TPR': 0.38333333333333336, 'Time Elapsed': 1272.068335533142, 'F1': 0.4360189573459716, 'diff': 13.678161899222934, 'mse': 336.2413550993686, 'valid': 'no', 'h_val': 7.505914315743252e-07, 'start mse': array(756.02150328)}, 'lambda_0.001_tau_0.0001_thresh_0.01_gamma_12': {'SHD': 108, 'TPR': 0.38333333333333336, 'Time Elapsed': 1272.068335533142, 'F1': 0.4360189573459716, 'diff': 13.678161899222934, 'mse': 336.2413550993686, 'valid': 'no', 'h_val': 7.505914315743252e-07, 'start mse': array(756.02150328)}, 'lambda_0.001_tau_0.0001_thresh_0.05_gamma_12': {'SHD': 163, 'TPR': 0.225, 'Time Elapsed': 1272.068335533142, 'F1': 0.23893805309734517, 'diff': 10.712562816993469, 'mse': 336.2413550993686, 'valid': 'yes', 'h_val': 7.505914315743252e-07, 'start mse': array(756.02150328)}, 'lambda_0.001_tau_0.0001_thresh_0.1_gamma_12': {'SHD': 147, 'TPR': 0.13333333333333333, 'Time Elapsed': 1272.068335533142, 'F1': 0.17297297297297298, 'diff': 10.766329480879245, 'mse': 336.2413550993686, 'valid': 'yes', 'h_val': 7.505914315743252e-07, 'start mse': array(756.02150328)}, 'lambda_0.001_tau_0.0001_thresh_0.15_gamma_12': {'SHD': 136, 'TPR': 0.09166666666666666, 'Time Elapsed': 1272.068335533142, 'F1': 0.13664596273291924, 'diff': 10.80457659307868, 'mse': 336.2413550993686, 'valid': 'yes', 'h_val': 7.505914315743252e-07, 'start mse': array(756.02150328)}, 'lambda_0.001_tau_0.0001_thresh_0.2_gamma_12': {'SHD': 130, 'TPR': 0.075, 'Time Elapsed': 1272.068335533142, 'F1': 0.11920529801324502, 'diff': 10.822292678108841, 'mse': 336.2413550993686, 'valid': 'yes', 'h_val': 7.505914315743252e-07, 'start mse': array(756.02150328)}, 'lambda_0.001_tau_0.0001_thresh_0.25_gamma_12': {'SHD': 125, 'TPR': 0.058333333333333334, 'Time Elapsed': 1272.068335533142, 'F1': 0.09929078014184398, 'diff': 10.841379021165572, 'mse': 336.2413550993686, 'valid': 'yes', 'h_val': 7.505914315743252e-07, 'start mse': array(756.02150328)}, 'lambda_0.001_tau_0.0001_thresh_0.3_gamma_12': {'SHD': 123, 'TPR': 0.025, 'Time Elapsed': 1272.068335533142, 'F1': 0.04580152671755725, 'diff': 10.908017525701258, 'mse': 336.2413550993686, 'valid': 'yes', 'h_val': 7.505914315743252e-07, 'start mse': array(756.02150328)}}\n"
     ]
    }
   ],
   "source": [
    "results = run_model(lambda1 = 1e-3, tau = 1e-4, X = X, device = device, B_true = B_true, gamma = 12, T=8, lr= 0.03)\n",
    "print(results)"
   ]
  }
 ],
 "metadata": {
  "kernelspec": {
   "display_name": "Python 3 (ipykernel)",
   "language": "python",
   "name": "python3"
  },
  "language_info": {
   "codemirror_mode": {
    "name": "ipython",
    "version": 3
   },
   "file_extension": ".py",
   "mimetype": "text/x-python",
   "name": "python",
   "nbconvert_exporter": "python",
   "pygments_lexer": "ipython3",
   "version": "3.10.8"
  }
 },
 "nbformat": 4,
 "nbformat_minor": 4
}
