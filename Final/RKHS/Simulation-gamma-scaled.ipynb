{
 "cells": [
  {
   "cell_type": "code",
   "execution_count": 1,
   "metadata": {},
   "outputs": [
    {
     "name": "stderr",
     "output_type": "stream",
     "text": [
      "Detecting 1 CUDA device(s).\n"
     ]
    }
   ],
   "source": [
    "import utils, RKHS_DAGMA_extractj\n",
    "import torch\n",
    "import time\n",
    "import numpy as np\n",
    "import matplotlib.pyplot as plt\n",
    "from CausalDisco.analytics import r2_sortability, var_sortability\n",
    "from CausalDisco.baselines import r2_sort_regress, var_sort_regress\n",
    "from cdt.metrics import SID, SHD\n",
    "import seaborn as sns\n",
    "import cdt\n",
    "import multiprocessing\n",
    "import threading\n",
    "import json\n",
    "from sklearn.preprocessing import StandardScaler"
   ]
  },
  {
   "cell_type": "code",
   "execution_count": 2,
   "metadata": {},
   "outputs": [],
   "source": [
    "sns.set_context(\"paper\")\n",
    "\n",
    "torch.set_default_dtype(torch.float64)\n",
    "\n",
    "device= torch.device('cuda' if torch.cuda.is_available() else 'cpu')\n",
    "torch.set_default_device(device)\n",
    "\n",
    "# utils.set_random_seed(1)\n",
    "# torch.manual_seed(1)\n",
    "\n",
    "cdt.SETTINGS.rpath= 'C:\\Program Files\\R\\R-4.3.3\\\\bin\\Rscript'\n",
    "\n",
    "num_cores = multiprocessing.cpu_count()\n",
    "\n",
    "# Print the number of CPU cores\n",
    "# print(\"Number of CPU cores:\", num_cores)\n",
    "# print(torch.__version__)"
   ]
  },
  {
   "cell_type": "markdown",
   "metadata": {},
   "source": [
    "# Do RKHS_DAGMA Discovery"
   ]
  },
  {
   "cell_type": "code",
   "execution_count": 3,
   "metadata": {},
   "outputs": [],
   "source": [
    "def run_model(lambda1, tau, X, device, B_true, gamma, T=6, lr = 0.03):\n",
    "    #device = torch.device(\"cuda\" if torch.cuda.is_available() else \"cpu\")\n",
    "    results = {}\n",
    "    \n",
    "    X = X.to(device)\n",
    "    eq_model = RKHS_DAGMA_extractj.DagmaRKHS(X, gamma = gamma).to(device)\n",
    "    model = RKHS_DAGMA_extractj.DagmaRKHS_nonlinear(eq_model)\n",
    "    \n",
    "    x_est_start = eq_model.forward()\n",
    "    start_mse = eq_model.mse(x_est_start).detach().cpu().numpy()\n",
    "    time_start = time.time()\n",
    "    W_est_no_thresh, output = model.fit(X, lambda1=lambda1, tau=tau, T = T, mu_init = 1.0, lr=lr, w_threshold=0.0)\n",
    "    time_end = time.time()\n",
    "\n",
    "    thresh_values = [0.005, 0.01, 0.05, 0.1, 0.15, 0.2, 0.25, 0.3]\n",
    "    for thresh in thresh_values:\n",
    "        try:\n",
    "            W_est_dagma = abs(W_est_no_thresh) * (abs(W_est_no_thresh) > thresh)\n",
    "            acc_dagma = utils.count_accuracy(B_true, W_est_dagma != 0)\n",
    "            valid = \"yes\"\n",
    "        #sid_dagma = SID(B_true, W_est_dagma != 0).item()\n",
    "        except Exception as e:\n",
    "            W_est_dagma = results_var_sort_regress\n",
    "            acc_dagma = utils.count_accuracy(B_true, W_est_dagma != 0)\n",
    "            valid = \"no\"\n",
    "            \n",
    "        diff_dagma = np.linalg.norm(W_est_dagma - abs(B_true))\n",
    "        x_est = eq_model.forward()\n",
    "        mse_dagma = eq_model.mse(x_est).detach().cpu().numpy()\n",
    "        W_est = eq_model.fc1_to_adj()\n",
    "        h_val = eq_model.h_func(W_est, s=1).detach().cpu().numpy()\n",
    "        #parameters = eq_model.get_parameters()\n",
    "        W_est_dagma = W_est_dagma.tolist()\n",
    "        B = B_true.tolist()\n",
    "        key = f'lambda_{lambda1}_tau_{tau}_thresh_{thresh}_gamma_{gamma}'\n",
    "        results[key] = {\n",
    "            'SHD': acc_dagma['shd'],\n",
    "            'TPR': acc_dagma['tpr'],\n",
    "            'Time Elapsed': time_end - time_start,\n",
    "            'F1': acc_dagma['f1'],\n",
    "            'diff': diff_dagma,\n",
    "            'mse': mse_dagma.item(),\n",
    "            'valid': valid,\n",
    "            'h_val': h_val.item(),\n",
    "            'start mse': start_mse,\n",
    "            #'W_est_dagma': W_est_dagma,\n",
    "            #'parameters': parameters,\n",
    "            #'eq_model': eq_model,\n",
    "            #'W_est_no_thresh': W_est_no_thresh,\n",
    "            #'B_true': B\n",
    "        }\n",
    "\n",
    "    torch.cuda.empty_cache()\n",
    "\n",
    "    # filename = f'model_results_lambda_{lambda1}_tau_{tau}.txt'\n",
    "\n",
    "    # with open(filename, 'w') as file:\n",
    "    #     json.dump(results, file, indent=4) \n",
    "\n",
    "    return results"
   ]
  },
  {
   "cell_type": "code",
   "execution_count": 4,
   "metadata": {},
   "outputs": [
    {
     "name": "stdout",
     "output_type": "stream",
     "text": [
      "device: cuda\n"
     ]
    }
   ],
   "source": [
    "device= torch.device('cuda' if torch.cuda.is_available() else 'cpu')\n",
    "#device = 'cpu'\n",
    "print('device:', device)\n",
    "torch.set_default_device(device)"
   ]
  },
  {
   "cell_type": "markdown",
   "metadata": {},
   "source": [
    "## d = 10"
   ]
  },
  {
   "cell_type": "code",
   "execution_count": 5,
   "metadata": {},
   "outputs": [],
   "source": [
    "utils.set_random_seed(0)\n",
    "torch.manual_seed(0)\n",
    "n, d, s0, graph_type, sem_type = 100, 10, 40, 'ER', 'gp-add' # s0 = expected number of edges\n",
    "B_true = utils.simulate_dag(d, s0, graph_type) # [d, d] binary adj matrix of DAG\n",
    "X = utils.simulate_nonlinear_sem(B_true, n, sem_type) # [n, d] sample matrix\n",
    "results_var_sort_regress = var_sort_regress(X)\n",
    "X = torch.from_numpy(X)"
   ]
  },
  {
   "cell_type": "code",
   "execution_count": 6,
   "metadata": {},
   "outputs": [
    {
     "name": "stdout",
     "output_type": "stream",
     "text": [
      "variance:  (10,)\n"
     ]
    },
    {
     "data": {
      "text/plain": [
       "3.178208630818641"
      ]
     },
     "execution_count": 6,
     "metadata": {},
     "output_type": "execute_result"
    }
   ],
   "source": [
    "scaler = StandardScaler()\n",
    "X_scaled = scaler.fit_transform(X)\n",
    "variances = np.var(X_scaled, axis=0, ddof=1)\n",
    "print(\"variance: \", variances.shape)\n",
    "average_variance = np.mean(variances)\n",
    "gamma = 1 / (d * average_variance)\n",
    "gamma = np.sqrt(1/gamma)\n",
    "gamma"
   ]
  },
  {
   "cell_type": "code",
   "execution_count": 7,
   "metadata": {},
   "outputs": [
    {
     "data": {
      "application/vnd.jupyter.widget-view+json": {
       "model_id": "94608b90d6854c46a70642d5e7860157",
       "version_major": 2,
       "version_minor": 0
      },
      "text/plain": [
       "  0%|          | 0/33000.0 [00:00<?, ?it/s]"
      ]
     },
     "metadata": {},
     "output_type": "display_data"
    },
    {
     "name": "stdout",
     "output_type": "stream",
     "text": [
      "{'lambda_0.001_tau_0.0001_thresh_0.005_gamma_3.178208630818641': {'SHD': 10, 'TPR': 0.875, 'Time Elapsed': 111.54160380363464, 'F1': 0.823529411764706, 'diff': 4.788222279912862, 'mse': 5.5314629353657665, 'valid': 'yes', 'h_val': 5.752303225031771e-07, 'start mse': array(25.27285238)}, 'lambda_0.001_tau_0.0001_thresh_0.01_gamma_3.178208630818641': {'SHD': 10, 'TPR': 0.875, 'Time Elapsed': 111.54160380363464, 'F1': 0.823529411764706, 'diff': 4.788222279912862, 'mse': 5.5314629353657665, 'valid': 'yes', 'h_val': 5.752303225031771e-07, 'start mse': array(25.27285238)}, 'lambda_0.001_tau_0.0001_thresh_0.05_gamma_3.178208630818641': {'SHD': 10, 'TPR': 0.875, 'Time Elapsed': 111.54160380363464, 'F1': 0.823529411764706, 'diff': 4.788222279912862, 'mse': 5.5314629353657665, 'valid': 'yes', 'h_val': 5.752303225031771e-07, 'start mse': array(25.27285238)}, 'lambda_0.001_tau_0.0001_thresh_0.1_gamma_3.178208630818641': {'SHD': 15, 'TPR': 0.75, 'Time Elapsed': 111.54160380363464, 'F1': 0.7594936708860759, 'diff': 4.864679419633766, 'mse': 5.5314629353657665, 'valid': 'yes', 'h_val': 5.752303225031771e-07, 'start mse': array(25.27285238)}, 'lambda_0.001_tau_0.0001_thresh_0.15_gamma_3.178208630818641': {'SHD': 17, 'TPR': 0.7, 'Time Elapsed': 111.54160380363464, 'F1': 0.7368421052631577, 'diff': 4.910400681809338, 'mse': 5.5314629353657665, 'valid': 'yes', 'h_val': 5.752303225031771e-07, 'start mse': array(25.27285238)}, 'lambda_0.001_tau_0.0001_thresh_0.2_gamma_3.178208630818641': {'SHD': 21, 'TPR': 0.55, 'Time Elapsed': 111.54160380363464, 'F1': 0.6567164179104479, 'diff': 5.096642946892108, 'mse': 5.5314629353657665, 'valid': 'yes', 'h_val': 5.752303225031771e-07, 'start mse': array(25.27285238)}, 'lambda_0.001_tau_0.0001_thresh_0.25_gamma_3.178208630818641': {'SHD': 23, 'TPR': 0.475, 'Time Elapsed': 111.54160380363464, 'F1': 0.6229508196721311, 'diff': 5.199902967148031, 'mse': 5.5314629353657665, 'valid': 'yes', 'h_val': 5.752303225031771e-07, 'start mse': array(25.27285238)}, 'lambda_0.001_tau_0.0001_thresh_0.3_gamma_3.178208630818641': {'SHD': 24, 'TPR': 0.425, 'Time Elapsed': 111.54160380363464, 'F1': 0.5862068965517241, 'diff': 5.282061564937426, 'mse': 5.5314629353657665, 'valid': 'yes', 'h_val': 5.752303225031771e-07, 'start mse': array(25.27285238)}}\n"
     ]
    }
   ],
   "source": [
    "results = run_model(lambda1 = 1e-3, tau = 1e-4, X = X, device = device, B_true = B_true, gamma = gamma)\n",
    "print(results)"
   ]
  },
  {
   "cell_type": "code",
   "execution_count": 14,
   "metadata": {},
   "outputs": [],
   "source": [
    "utils.set_random_seed(0)\n",
    "torch.manual_seed(0)\n",
    "n, d, s0, graph_type, sem_type = 100, 10, 40, 'ER', 'gp' # s0 = expected number of edges\n",
    "B_true = utils.simulate_dag(d, s0, graph_type) # [d, d] binary adj matrix of DAG\n",
    "X = utils.simulate_nonlinear_sem(B_true, n, sem_type) # [n, d] sample matrix\n",
    "results_var_sort_regress = var_sort_regress(X)\n",
    "X = torch.from_numpy(X)"
   ]
  },
  {
   "cell_type": "code",
   "execution_count": 15,
   "metadata": {},
   "outputs": [
    {
     "name": "stdout",
     "output_type": "stream",
     "text": [
      "variance:  (10,)\n"
     ]
    },
    {
     "data": {
      "text/plain": [
       "3.178208630818641"
      ]
     },
     "execution_count": 15,
     "metadata": {},
     "output_type": "execute_result"
    }
   ],
   "source": [
    "scaler = StandardScaler()\n",
    "X_scaled = scaler.fit_transform(X)\n",
    "variances = np.var(X_scaled, axis=0, ddof=1)\n",
    "print(\"variance: \", variances.shape)\n",
    "average_variance = np.mean(variances)\n",
    "gamma = 1 / (d * average_variance)\n",
    "gamma = np.sqrt(1/gamma)\n",
    "gamma"
   ]
  },
  {
   "cell_type": "code",
   "execution_count": 16,
   "metadata": {},
   "outputs": [
    {
     "data": {
      "application/vnd.jupyter.widget-view+json": {
       "model_id": "ef12af9179664bb4ac4cdcfcd0087213",
       "version_major": 2,
       "version_minor": 0
      },
      "text/plain": [
       "  0%|          | 0/33000.0 [00:00<?, ?it/s]"
      ]
     },
     "metadata": {},
     "output_type": "display_data"
    },
    {
     "name": "stdout",
     "output_type": "stream",
     "text": [
      "{'lambda_0.001_tau_0.0001_thresh_0.005_gamma_3.178208630818641': {'SHD': 12, 'TPR': 0.825, 'Time Elapsed': 116.18225765228271, 'F1': 0.7764705882352941, 'diff': 5.439742479059952, 'mse': 5.196008865737593, 'valid': 'yes', 'h_val': 6.066906434313414e-07, 'start mse': array(8.75967607)}, 'lambda_0.001_tau_0.0001_thresh_0.01_gamma_3.178208630818641': {'SHD': 12, 'TPR': 0.825, 'Time Elapsed': 116.18225765228271, 'F1': 0.7764705882352941, 'diff': 5.439742479059952, 'mse': 5.196008865737593, 'valid': 'yes', 'h_val': 6.066906434313414e-07, 'start mse': array(8.75967607)}, 'lambda_0.001_tau_0.0001_thresh_0.05_gamma_3.178208630818641': {'SHD': 14, 'TPR': 0.775, 'Time Elapsed': 116.18225765228271, 'F1': 0.7654320987654322, 'diff': 5.454810483613001, 'mse': 5.196008865737593, 'valid': 'yes', 'h_val': 6.066906434313414e-07, 'start mse': array(8.75967607)}, 'lambda_0.001_tau_0.0001_thresh_0.1_gamma_3.178208630818641': {'SHD': 16, 'TPR': 0.7, 'Time Elapsed': 116.18225765228271, 'F1': 0.7368421052631577, 'diff': 5.484163319122209, 'mse': 5.196008865737593, 'valid': 'yes', 'h_val': 6.066906434313414e-07, 'start mse': array(8.75967607)}, 'lambda_0.001_tau_0.0001_thresh_0.15_gamma_3.178208630818641': {'SHD': 23, 'TPR': 0.475, 'Time Elapsed': 116.18225765228271, 'F1': 0.5937499999999999, 'diff': 5.662283275325682, 'mse': 5.196008865737593, 'valid': 'yes', 'h_val': 6.066906434313414e-07, 'start mse': array(8.75967607)}, 'lambda_0.001_tau_0.0001_thresh_0.2_gamma_3.178208630818641': {'SHD': 29, 'TPR': 0.3, 'Time Elapsed': 116.18225765228271, 'F1': 0.4363636363636363, 'diff': 5.860905158635097, 'mse': 5.196008865737593, 'valid': 'yes', 'h_val': 6.066906434313414e-07, 'start mse': array(8.75967607)}, 'lambda_0.001_tau_0.0001_thresh_0.25_gamma_3.178208630818641': {'SHD': 34, 'TPR': 0.175, 'Time Elapsed': 116.18225765228271, 'F1': 0.2857142857142857, 'diff': 6.018964241045749, 'mse': 5.196008865737593, 'valid': 'yes', 'h_val': 6.066906434313414e-07, 'start mse': array(8.75967607)}, 'lambda_0.001_tau_0.0001_thresh_0.3_gamma_3.178208630818641': {'SHD': 35, 'TPR': 0.125, 'Time Elapsed': 116.18225765228271, 'F1': 0.2222222222222222, 'diff': 6.087680344373917, 'mse': 5.196008865737593, 'valid': 'yes', 'h_val': 6.066906434313414e-07, 'start mse': array(8.75967607)}}\n"
     ]
    }
   ],
   "source": [
    "results = run_model(lambda1 = 1e-3, tau = 1e-4, X = X, device = device, B_true = B_true, gamma = gamma)\n",
    "print(results)"
   ]
  },
  {
   "cell_type": "code",
   "execution_count": 17,
   "metadata": {},
   "outputs": [],
   "source": [
    "utils.set_random_seed(0)\n",
    "torch.manual_seed(0)\n",
    "n, d, s0, graph_type, sem_type = 100, 10, 40, 'ER', 'mlp' # s0 = expected number of edges\n",
    "B_true = utils.simulate_dag(d, s0, graph_type) # [d, d] binary adj matrix of DAG\n",
    "X = utils.simulate_nonlinear_sem(B_true, n, sem_type) # [n, d] sample matrix\n",
    "results_var_sort_regress = var_sort_regress(X)\n",
    "X = torch.from_numpy(X)"
   ]
  },
  {
   "cell_type": "code",
   "execution_count": 18,
   "metadata": {},
   "outputs": [
    {
     "name": "stdout",
     "output_type": "stream",
     "text": [
      "variance:  (10,)\n"
     ]
    },
    {
     "data": {
      "text/plain": [
       "3.1782086308186415"
      ]
     },
     "execution_count": 18,
     "metadata": {},
     "output_type": "execute_result"
    }
   ],
   "source": [
    "scaler = StandardScaler()\n",
    "X_scaled = scaler.fit_transform(X)\n",
    "variances = np.var(X_scaled, axis=0, ddof=1)\n",
    "print(\"variance: \", variances.shape)\n",
    "average_variance = np.mean(variances)\n",
    "gamma = 1 / (d * average_variance)\n",
    "gamma = np.sqrt(1/gamma)\n",
    "gamma"
   ]
  },
  {
   "cell_type": "code",
   "execution_count": 19,
   "metadata": {},
   "outputs": [
    {
     "data": {
      "application/vnd.jupyter.widget-view+json": {
       "model_id": "a221b8c4ba524fbf9ac67e1ff571447f",
       "version_major": 2,
       "version_minor": 0
      },
      "text/plain": [
       "  0%|          | 0/33000.0 [00:00<?, ?it/s]"
      ]
     },
     "metadata": {},
     "output_type": "display_data"
    },
    {
     "name": "stdout",
     "output_type": "stream",
     "text": [
      "{'lambda_0.001_tau_0.0001_thresh_0.005_gamma_3.1782086308186415': {'SHD': 11, 'TPR': 0.85, 'Time Elapsed': 126.6613118648529, 'F1': 0.7999999999999998, 'diff': 4.728593918590755, 'mse': 15.105515544973583, 'valid': 'yes', 'h_val': 7.562950843365002e-08, 'start mse': array(233.45203392)}, 'lambda_0.001_tau_0.0001_thresh_0.01_gamma_3.1782086308186415': {'SHD': 11, 'TPR': 0.85, 'Time Elapsed': 126.6613118648529, 'F1': 0.7999999999999998, 'diff': 4.728593918590755, 'mse': 15.105515544973583, 'valid': 'yes', 'h_val': 7.562950843365002e-08, 'start mse': array(233.45203392)}, 'lambda_0.001_tau_0.0001_thresh_0.05_gamma_3.1782086308186415': {'SHD': 11, 'TPR': 0.85, 'Time Elapsed': 126.6613118648529, 'F1': 0.7999999999999998, 'diff': 4.728593918590755, 'mse': 15.105515544973583, 'valid': 'yes', 'h_val': 7.562950843365002e-08, 'start mse': array(233.45203392)}, 'lambda_0.001_tau_0.0001_thresh_0.1_gamma_3.1782086308186415': {'SHD': 14, 'TPR': 0.775, 'Time Elapsed': 126.6613118648529, 'F1': 0.7560975609756099, 'diff': 4.768862530114708, 'mse': 15.105515544973583, 'valid': 'yes', 'h_val': 7.562950843365002e-08, 'start mse': array(233.45203392)}, 'lambda_0.001_tau_0.0001_thresh_0.15_gamma_3.1782086308186415': {'SHD': 14, 'TPR': 0.775, 'Time Elapsed': 126.6613118648529, 'F1': 0.7560975609756099, 'diff': 4.768862530114708, 'mse': 15.105515544973583, 'valid': 'yes', 'h_val': 7.562950843365002e-08, 'start mse': array(233.45203392)}, 'lambda_0.001_tau_0.0001_thresh_0.2_gamma_3.1782086308186415': {'SHD': 15, 'TPR': 0.75, 'Time Elapsed': 126.6613118648529, 'F1': 0.7407407407407408, 'diff': 4.802551788459676, 'mse': 15.105515544973583, 'valid': 'yes', 'h_val': 7.562950843365002e-08, 'start mse': array(233.45203392)}, 'lambda_0.001_tau_0.0001_thresh_0.25_gamma_3.1782086308186415': {'SHD': 19, 'TPR': 0.625, 'Time Elapsed': 126.6613118648529, 'F1': 0.6756756756756757, 'diff': 4.994081315837117, 'mse': 15.105515544973583, 'valid': 'yes', 'h_val': 7.562950843365002e-08, 'start mse': array(233.45203392)}, 'lambda_0.001_tau_0.0001_thresh_0.3_gamma_3.1782086308186415': {'SHD': 22, 'TPR': 0.55, 'Time Elapsed': 126.6613118648529, 'F1': 0.619718309859155, 'diff': 5.128296044011384, 'mse': 15.105515544973583, 'valid': 'yes', 'h_val': 7.562950843365002e-08, 'start mse': array(233.45203392)}}\n"
     ]
    }
   ],
   "source": [
    "results = run_model(lambda1 = 1e-3, tau = 1e-4, X = X, device = device, B_true = B_true, gamma = gamma)\n",
    "print(results)"
   ]
  },
  {
   "cell_type": "markdown",
   "metadata": {},
   "source": [
    "## d = 20"
   ]
  },
  {
   "cell_type": "code",
   "execution_count": 11,
   "metadata": {},
   "outputs": [],
   "source": [
    "utils.set_random_seed(0)\n",
    "torch.manual_seed(0)\n",
    "n, d, s0, graph_type, sem_type = 100, 20, 80, 'ER', 'gp-add' # s0 = expected number of edges\n",
    "B_true = utils.simulate_dag(d, s0, graph_type) # [d, d] binary adj matrix of DAG\n",
    "X = utils.simulate_nonlinear_sem(B_true, n, sem_type) # [n, d] sample matrix\n",
    "results_var_sort_regress = var_sort_regress(X)\n",
    "X = torch.from_numpy(X)"
   ]
  },
  {
   "cell_type": "code",
   "execution_count": 12,
   "metadata": {},
   "outputs": [
    {
     "name": "stdout",
     "output_type": "stream",
     "text": [
      "variance:  (20,)\n"
     ]
    },
    {
     "data": {
      "text/plain": [
       "4.494665749754947"
      ]
     },
     "execution_count": 12,
     "metadata": {},
     "output_type": "execute_result"
    }
   ],
   "source": [
    "scaler = StandardScaler()\n",
    "X_scaled = scaler.fit_transform(X)\n",
    "variances = np.var(X_scaled, axis=0, ddof=1)\n",
    "print(\"variance: \", variances.shape)\n",
    "average_variance = np.mean(variances)\n",
    "gamma = 1 / (d * average_variance)\n",
    "gamma = np.sqrt(1/gamma)\n",
    "gamma"
   ]
  },
  {
   "cell_type": "code",
   "execution_count": 13,
   "metadata": {},
   "outputs": [
    {
     "data": {
      "application/vnd.jupyter.widget-view+json": {
       "model_id": "0c0cce2cf0e042d2bea3cad29069ee84",
       "version_major": 2,
       "version_minor": 0
      },
      "text/plain": [
       "  0%|          | 0/33000.0 [00:00<?, ?it/s]"
      ]
     },
     "metadata": {},
     "output_type": "display_data"
    },
    {
     "name": "stdout",
     "output_type": "stream",
     "text": [
      "{'lambda_0.001_tau_0.0001_thresh_0.005_gamma_4.494665749754947': {'SHD': 57, 'TPR': 0.4, 'Time Elapsed': 213.7935333251953, 'F1': 0.512, 'diff': 9.549452203399568, 'mse': 9.070456274509697, 'valid': 'no', 'h_val': 2.6989195856332477e-06, 'start mse': array(45.23177469)}, 'lambda_0.001_tau_0.0001_thresh_0.01_gamma_4.494665749754947': {'SHD': 57, 'TPR': 0.4, 'Time Elapsed': 213.7935333251953, 'F1': 0.512, 'diff': 9.549452203399568, 'mse': 9.070456274509697, 'valid': 'no', 'h_val': 2.6989195856332477e-06, 'start mse': array(45.23177469)}, 'lambda_0.001_tau_0.0001_thresh_0.05_gamma_4.494665749754947': {'SHD': 80, 'TPR': 0.6375, 'Time Elapsed': 213.7935333251953, 'F1': 0.5454545454545454, 'diff': 8.34355358366529, 'mse': 9.070456274509697, 'valid': 'yes', 'h_val': 2.6989195856332477e-06, 'start mse': array(45.23177469)}, 'lambda_0.001_tau_0.0001_thresh_0.1_gamma_4.494665749754947': {'SHD': 82, 'TPR': 0.25, 'Time Elapsed': 213.7935333251953, 'F1': 0.3252032520325203, 'diff': 8.59191405450685, 'mse': 9.070456274509697, 'valid': 'yes', 'h_val': 2.6989195856332477e-06, 'start mse': array(45.23177469)}, 'lambda_0.001_tau_0.0001_thresh_0.15_gamma_4.494665749754947': {'SHD': 83, 'TPR': 0.1875, 'Time Elapsed': 213.7935333251953, 'F1': 0.26548672566371684, 'diff': 8.648950890124482, 'mse': 9.070456274509697, 'valid': 'yes', 'h_val': 2.6989195856332477e-06, 'start mse': array(45.23177469)}, 'lambda_0.001_tau_0.0001_thresh_0.2_gamma_4.494665749754947': {'SHD': 81, 'TPR': 0.1, 'Time Elapsed': 213.7935333251953, 'F1': 0.16494845360824742, 'diff': 8.763094921780194, 'mse': 9.070456274509697, 'valid': 'yes', 'h_val': 2.6989195856332477e-06, 'start mse': array(45.23177469)}, 'lambda_0.001_tau_0.0001_thresh_0.25_gamma_4.494665749754947': {'SHD': 78, 'TPR': 0.0625, 'Time Elapsed': 213.7935333251953, 'F1': 0.11363636363636363, 'diff': 8.808396969506884, 'mse': 9.070456274509697, 'valid': 'yes', 'h_val': 2.6989195856332477e-06, 'start mse': array(45.23177469)}, 'lambda_0.001_tau_0.0001_thresh_0.3_gamma_4.494665749754947': {'SHD': 76, 'TPR': 0.05, 'Time Elapsed': 213.7935333251953, 'F1': 0.09523809523809523, 'diff': 8.823610807932358, 'mse': 9.070456274509697, 'valid': 'yes', 'h_val': 2.6989195856332477e-06, 'start mse': array(45.23177469)}}\n"
     ]
    }
   ],
   "source": [
    "results = run_model(lambda1 = 1e-3, tau = 1e-4, X = X, device = device, B_true = B_true, gamma = gamma)\n",
    "print(results)"
   ]
  },
  {
   "cell_type": "code",
   "execution_count": 20,
   "metadata": {},
   "outputs": [],
   "source": [
    "utils.set_random_seed(0)\n",
    "torch.manual_seed(0)\n",
    "n, d, s0, graph_type, sem_type = 100, 20, 80, 'ER', 'gp' # s0 = expected number of edges\n",
    "B_true = utils.simulate_dag(d, s0, graph_type) # [d, d] binary adj matrix of DAG\n",
    "X = utils.simulate_nonlinear_sem(B_true, n, sem_type) # [n, d] sample matrix\n",
    "results_var_sort_regress = var_sort_regress(X)\n",
    "X = torch.from_numpy(X)"
   ]
  },
  {
   "cell_type": "code",
   "execution_count": 21,
   "metadata": {},
   "outputs": [
    {
     "name": "stdout",
     "output_type": "stream",
     "text": [
      "variance:  (20,)\n"
     ]
    },
    {
     "data": {
      "text/plain": [
       "4.494665749754947"
      ]
     },
     "execution_count": 21,
     "metadata": {},
     "output_type": "execute_result"
    }
   ],
   "source": [
    "scaler = StandardScaler()\n",
    "X_scaled = scaler.fit_transform(X)\n",
    "variances = np.var(X_scaled, axis=0, ddof=1)\n",
    "print(\"variance: \", variances.shape)\n",
    "average_variance = np.mean(variances)\n",
    "gamma = 1 / (d * average_variance)\n",
    "gamma = np.sqrt(1/gamma)\n",
    "gamma"
   ]
  },
  {
   "cell_type": "code",
   "execution_count": 22,
   "metadata": {},
   "outputs": [
    {
     "data": {
      "application/vnd.jupyter.widget-view+json": {
       "model_id": "815f376881f442c9b64b7d0581a07c22",
       "version_major": 2,
       "version_minor": 0
      },
      "text/plain": [
       "  0%|          | 0/33000.0 [00:00<?, ?it/s]"
      ]
     },
     "metadata": {},
     "output_type": "display_data"
    },
    {
     "name": "stdout",
     "output_type": "stream",
     "text": [
      "{'lambda_0.001_tau_0.0001_thresh_0.005_gamma_4.494665749754947': {'SHD': 77, 'TPR': 0.0625, 'Time Elapsed': 259.99971771240234, 'F1': 0.11494252873563218, 'diff': 8.979311720307308, 'mse': 8.762290217358036, 'valid': 'no', 'h_val': 2.933543130921039e-06, 'start mse': array(16.65709448)}, 'lambda_0.001_tau_0.0001_thresh_0.01_gamma_4.494665749754947': {'SHD': 77, 'TPR': 0.0625, 'Time Elapsed': 259.99971771240234, 'F1': 0.11494252873563218, 'diff': 8.979311720307308, 'mse': 8.762290217358036, 'valid': 'no', 'h_val': 2.933543130921039e-06, 'start mse': array(16.65709448)}, 'lambda_0.001_tau_0.0001_thresh_0.05_gamma_4.494665749754947': {'SHD': 90, 'TPR': 0.35, 'Time Elapsed': 259.99971771240234, 'F1': 0.3544303797468354, 'diff': 8.714333146792647, 'mse': 8.762290217358036, 'valid': 'yes', 'h_val': 2.933543130921039e-06, 'start mse': array(16.65709448)}, 'lambda_0.001_tau_0.0001_thresh_0.1_gamma_4.494665749754947': {'SHD': 78, 'TPR': 0.075, 'Time Elapsed': 259.99971771240234, 'F1': 0.13043478260869565, 'diff': 8.861746829502133, 'mse': 8.762290217358036, 'valid': 'yes', 'h_val': 2.933543130921039e-06, 'start mse': array(16.65709448)}, 'lambda_0.001_tau_0.0001_thresh_0.15_gamma_4.494665749754947': {'SHD': 79, 'TPR': 0.025, 'Time Elapsed': 259.99971771240234, 'F1': 0.047619047619047616, 'diff': 8.910545367858658, 'mse': 8.762290217358036, 'valid': 'yes', 'h_val': 2.933543130921039e-06, 'start mse': array(16.65709448)}, 'lambda_0.001_tau_0.0001_thresh_0.2_gamma_4.494665749754947': {'SHD': 79, 'TPR': 0.0125, 'Time Elapsed': 259.99971771240234, 'F1': 0.02469135802469136, 'diff': 8.923915357023509, 'mse': 8.762290217358036, 'valid': 'yes', 'h_val': 2.933543130921039e-06, 'start mse': array(16.65709448)}, 'lambda_0.001_tau_0.0001_thresh_0.25_gamma_4.494665749754947': {'SHD': 80, 'TPR': 0.0, 'Time Elapsed': 259.99971771240234, 'F1': 0.0, 'diff': 8.94427190999916, 'mse': 8.762290217358036, 'valid': 'yes', 'h_val': 2.933543130921039e-06, 'start mse': array(16.65709448)}, 'lambda_0.001_tau_0.0001_thresh_0.3_gamma_4.494665749754947': {'SHD': 80, 'TPR': 0.0, 'Time Elapsed': 259.99971771240234, 'F1': 0.0, 'diff': 8.94427190999916, 'mse': 8.762290217358036, 'valid': 'yes', 'h_val': 2.933543130921039e-06, 'start mse': array(16.65709448)}}\n"
     ]
    }
   ],
   "source": [
    "results = run_model(lambda1 = 1e-3, tau = 1e-4, X = X, device = device, B_true = B_true, gamma = gamma)\n",
    "print(results)"
   ]
  },
  {
   "cell_type": "code",
   "execution_count": 23,
   "metadata": {},
   "outputs": [],
   "source": [
    "utils.set_random_seed(0)\n",
    "torch.manual_seed(0)\n",
    "n, d, s0, graph_type, sem_type = 100, 20, 80, 'ER', 'mlp' # s0 = expected number of edges\n",
    "B_true = utils.simulate_dag(d, s0, graph_type) # [d, d] binary adj matrix of DAG\n",
    "X = utils.simulate_nonlinear_sem(B_true, n, sem_type) # [n, d] sample matrix\n",
    "results_var_sort_regress = var_sort_regress(X)\n",
    "X = torch.from_numpy(X)"
   ]
  },
  {
   "cell_type": "code",
   "execution_count": 24,
   "metadata": {},
   "outputs": [
    {
     "name": "stdout",
     "output_type": "stream",
     "text": [
      "variance:  (20,)\n"
     ]
    },
    {
     "data": {
      "text/plain": [
       "4.494665749754947"
      ]
     },
     "execution_count": 24,
     "metadata": {},
     "output_type": "execute_result"
    }
   ],
   "source": [
    "scaler = StandardScaler()\n",
    "X_scaled = scaler.fit_transform(X)\n",
    "variances = np.var(X_scaled, axis=0, ddof=1)\n",
    "print(\"variance: \", variances.shape)\n",
    "average_variance = np.mean(variances)\n",
    "gamma = 1 / (d * average_variance)\n",
    "gamma = np.sqrt(1/gamma)\n",
    "gamma"
   ]
  },
  {
   "cell_type": "code",
   "execution_count": 25,
   "metadata": {},
   "outputs": [
    {
     "data": {
      "application/vnd.jupyter.widget-view+json": {
       "model_id": "c571f56a0e954b3594b079f76b677ee7",
       "version_major": 2,
       "version_minor": 0
      },
      "text/plain": [
       "  0%|          | 0/33000.0 [00:00<?, ?it/s]"
      ]
     },
     "metadata": {},
     "output_type": "display_data"
    },
    {
     "name": "stdout",
     "output_type": "stream",
     "text": [
      "{'lambda_0.001_tau_0.0001_thresh_0.005_gamma_4.494665749754947': {'SHD': 89, 'TPR': 0.3125, 'Time Elapsed': 201.7218062877655, 'F1': 0.32258064516129037, 'diff': 11.573401030471501, 'mse': 56.189253245633864, 'valid': 'no', 'h_val': 3.308850372527302e-06, 'start mse': array(566.18164828)}, 'lambda_0.001_tau_0.0001_thresh_0.01_gamma_4.494665749754947': {'SHD': 89, 'TPR': 0.3125, 'Time Elapsed': 201.7218062877655, 'F1': 0.32258064516129037, 'diff': 11.573401030471501, 'mse': 56.189253245633864, 'valid': 'no', 'h_val': 3.308850372527302e-06, 'start mse': array(566.18164828)}, 'lambda_0.001_tau_0.0001_thresh_0.05_gamma_4.494665749754947': {'SHD': 134, 'TPR': 0.325, 'Time Elapsed': 201.7218062877655, 'F1': 0.23318385650224208, 'diff': 8.832931582726905, 'mse': 56.189253245633864, 'valid': 'yes', 'h_val': 3.308850372527302e-06, 'start mse': array(566.18164828)}, 'lambda_0.001_tau_0.0001_thresh_0.1_gamma_4.494665749754947': {'SHD': 120, 'TPR': 0.15, 'Time Elapsed': 201.7218062877655, 'F1': 0.13636363636363635, 'diff': 8.927727604546481, 'mse': 56.189253245633864, 'valid': 'yes', 'h_val': 3.308850372527302e-06, 'start mse': array(566.18164828)}, 'lambda_0.001_tau_0.0001_thresh_0.15_gamma_4.494665749754947': {'SHD': 99, 'TPR': 0.1, 'Time Elapsed': 201.7218062877655, 'F1': 0.12213740458015268, 'diff': 8.94778637104109, 'mse': 56.189253245633864, 'valid': 'yes', 'h_val': 3.308850372527302e-06, 'start mse': array(566.18164828)}, 'lambda_0.001_tau_0.0001_thresh_0.2_gamma_4.494665749754947': {'SHD': 92, 'TPR': 0.0875, 'Time Elapsed': 201.7218062877655, 'F1': 0.1238938053097345, 'diff': 8.938513589614887, 'mse': 56.189253245633864, 'valid': 'yes', 'h_val': 3.308850372527302e-06, 'start mse': array(566.18164828)}, 'lambda_0.001_tau_0.0001_thresh_0.25_gamma_4.494665749754947': {'SHD': 88, 'TPR': 0.05, 'Time Elapsed': 201.7218062877655, 'F1': 0.0784313725490196, 'diff': 8.981227943888873, 'mse': 56.189253245633864, 'valid': 'yes', 'h_val': 3.308850372527302e-06, 'start mse': array(566.18164828)}, 'lambda_0.001_tau_0.0001_thresh_0.3_gamma_4.494665749754947': {'SHD': 88, 'TPR': 0.0125, 'Time Elapsed': 201.7218062877655, 'F1': 0.021052631578947368, 'diff': 9.042658925017511, 'mse': 56.189253245633864, 'valid': 'yes', 'h_val': 3.308850372527302e-06, 'start mse': array(566.18164828)}}\n"
     ]
    }
   ],
   "source": [
    "results = run_model(lambda1 = 1e-3, tau = 1e-4, X = X, device = device, B_true = B_true, gamma = gamma)\n",
    "print(results)"
   ]
  },
  {
   "cell_type": "markdown",
   "metadata": {},
   "source": [
    "## d = 30"
   ]
  },
  {
   "cell_type": "code",
   "execution_count": 8,
   "metadata": {},
   "outputs": [],
   "source": [
    "utils.set_random_seed(0)\n",
    "torch.manual_seed(0)\n",
    "n, d, s0, graph_type, sem_type = 100, 30, 120, 'ER', 'gp-add' # s0 = expected number of edges\n",
    "B_true = utils.simulate_dag(d, s0, graph_type) # [d, d] binary adj matrix of DAG\n",
    "X = utils.simulate_nonlinear_sem(B_true, n, sem_type) # [n, d] sample matrix\n",
    "results_var_sort_regress = var_sort_regress(X)\n",
    "X = torch.from_numpy(X)"
   ]
  },
  {
   "cell_type": "code",
   "execution_count": 9,
   "metadata": {},
   "outputs": [
    {
     "name": "stdout",
     "output_type": "stream",
     "text": [
      "variance:  (30,)\n"
     ]
    },
    {
     "data": {
      "text/plain": [
       "5.504818825631803"
      ]
     },
     "execution_count": 9,
     "metadata": {},
     "output_type": "execute_result"
    }
   ],
   "source": [
    "scaler = StandardScaler()\n",
    "X_scaled = scaler.fit_transform(X)\n",
    "variances = np.var(X_scaled, axis=0, ddof=1)\n",
    "print(\"variance: \", variances.shape)\n",
    "average_variance = np.mean(variances)\n",
    "gamma = 1 / (d * average_variance)\n",
    "gamma = np.sqrt(1/gamma)\n",
    "gamma"
   ]
  },
  {
   "cell_type": "code",
   "execution_count": 10,
   "metadata": {},
   "outputs": [
    {
     "data": {
      "application/vnd.jupyter.widget-view+json": {
       "model_id": "cd27ccbdf70840f383f7a13a9030adbb",
       "version_major": 2,
       "version_minor": 0
      },
      "text/plain": [
       "  0%|          | 0/33000.0 [00:00<?, ?it/s]"
      ]
     },
     "metadata": {},
     "output_type": "display_data"
    },
    {
     "name": "stdout",
     "output_type": "stream",
     "text": [
      "{'lambda_0.001_tau_0.0001_thresh_0.005_gamma_5.504818825631803': {'SHD': 100, 'TPR': 0.31666666666666665, 'Time Elapsed': 657.9865639209747, 'F1': 0.4153005464480874, 'diff': 11.061193522749809, 'mse': 11.910339478139663, 'valid': 'no', 'h_val': 8.758266565100176e-06, 'start mse': array(82.66305331)}, 'lambda_0.001_tau_0.0001_thresh_0.01_gamma_5.504818825631803': {'SHD': 100, 'TPR': 0.31666666666666665, 'Time Elapsed': 657.9865639209747, 'F1': 0.4153005464480874, 'diff': 11.061193522749809, 'mse': 11.910339478139663, 'valid': 'no', 'h_val': 8.758266565100176e-06, 'start mse': array(82.66305331)}, 'lambda_0.001_tau_0.0001_thresh_0.05_gamma_5.504818825631803': {'SHD': 152, 'TPR': 0.16666666666666666, 'Time Elapsed': 657.9865639209747, 'F1': 0.2, 'diff': 10.815765689591244, 'mse': 11.910339478139663, 'valid': 'yes', 'h_val': 8.758266565100176e-06, 'start mse': array(82.66305331)}, 'lambda_0.001_tau_0.0001_thresh_0.1_gamma_5.504818825631803': {'SHD': 137, 'TPR': 0.08333333333333333, 'Time Elapsed': 657.9865639209747, 'F1': 0.12269938650306748, 'diff': 10.876129829199469, 'mse': 11.910339478139663, 'valid': 'yes', 'h_val': 8.758266565100176e-06, 'start mse': array(82.66305331)}, 'lambda_0.001_tau_0.0001_thresh_0.15_gamma_5.504818825631803': {'SHD': 125, 'TPR': 0.008333333333333333, 'Time Elapsed': 657.9865639209747, 'F1': 0.015384615384615385, 'diff': 10.951491190253549, 'mse': 11.910339478139663, 'valid': 'yes', 'h_val': 8.758266565100176e-06, 'start mse': array(82.66305331)}, 'lambda_0.001_tau_0.0001_thresh_0.2_gamma_5.504818825631803': {'SHD': 120, 'TPR': 0.0, 'Time Elapsed': 657.9865639209747, 'F1': 0.0, 'diff': 10.954451150103322, 'mse': 11.910339478139663, 'valid': 'yes', 'h_val': 8.758266565100176e-06, 'start mse': array(82.66305331)}, 'lambda_0.001_tau_0.0001_thresh_0.25_gamma_5.504818825631803': {'SHD': 120, 'TPR': 0.0, 'Time Elapsed': 657.9865639209747, 'F1': 0.0, 'diff': 10.954451150103322, 'mse': 11.910339478139663, 'valid': 'yes', 'h_val': 8.758266565100176e-06, 'start mse': array(82.66305331)}, 'lambda_0.001_tau_0.0001_thresh_0.3_gamma_5.504818825631803': {'SHD': 120, 'TPR': 0.0, 'Time Elapsed': 657.9865639209747, 'F1': 0.0, 'diff': 10.954451150103322, 'mse': 11.910339478139663, 'valid': 'yes', 'h_val': 8.758266565100176e-06, 'start mse': array(82.66305331)}}\n"
     ]
    }
   ],
   "source": [
    "results = run_model(lambda1 = 1e-3, tau = 1e-4, X = X, device = device, B_true = B_true, gamma = gamma)\n",
    "print(results)"
   ]
  },
  {
   "cell_type": "code",
   "execution_count": 26,
   "metadata": {},
   "outputs": [],
   "source": [
    "utils.set_random_seed(0)\n",
    "torch.manual_seed(0)\n",
    "n, d, s0, graph_type, sem_type = 100, 30, 120, 'ER', 'gp' # s0 = expected number of edges\n",
    "B_true = utils.simulate_dag(d, s0, graph_type) # [d, d] binary adj matrix of DAG\n",
    "X = utils.simulate_nonlinear_sem(B_true, n, sem_type) # [n, d] sample matrix\n",
    "results_var_sort_regress = var_sort_regress(X)\n",
    "X = torch.from_numpy(X)"
   ]
  },
  {
   "cell_type": "code",
   "execution_count": 27,
   "metadata": {},
   "outputs": [
    {
     "name": "stdout",
     "output_type": "stream",
     "text": [
      "variance:  (30,)\n"
     ]
    },
    {
     "data": {
      "text/plain": [
       "5.504818825631802"
      ]
     },
     "execution_count": 27,
     "metadata": {},
     "output_type": "execute_result"
    }
   ],
   "source": [
    "scaler = StandardScaler()\n",
    "X_scaled = scaler.fit_transform(X)\n",
    "variances = np.var(X_scaled, axis=0, ddof=1)\n",
    "print(\"variance: \", variances.shape)\n",
    "average_variance = np.mean(variances)\n",
    "gamma = 1 / (d * average_variance)\n",
    "gamma = np.sqrt(1/gamma)\n",
    "gamma"
   ]
  },
  {
   "cell_type": "code",
   "execution_count": 28,
   "metadata": {},
   "outputs": [
    {
     "data": {
      "application/vnd.jupyter.widget-view+json": {
       "model_id": "480183c358b84524a65ce304a38c788f",
       "version_major": 2,
       "version_minor": 0
      },
      "text/plain": [
       "  0%|          | 0/33000.0 [00:00<?, ?it/s]"
      ]
     },
     "metadata": {},
     "output_type": "display_data"
    },
    {
     "name": "stdout",
     "output_type": "stream",
     "text": [
      "{'lambda_0.001_tau_0.0001_thresh_0.005_gamma_5.504818825631802': {'SHD': 120, 'TPR': 0.11666666666666667, 'Time Elapsed': 623.3074667453766, 'F1': 0.18918918918918917, 'diff': 10.92158351096266, 'mse': 10.81834864435269, 'valid': 'no', 'h_val': 9.963814463609275e-06, 'start mse': array(28.51419061)}, 'lambda_0.001_tau_0.0001_thresh_0.01_gamma_5.504818825631802': {'SHD': 120, 'TPR': 0.11666666666666667, 'Time Elapsed': 623.3074667453766, 'F1': 0.18918918918918917, 'diff': 10.92158351096266, 'mse': 10.81834864435269, 'valid': 'no', 'h_val': 9.963814463609275e-06, 'start mse': array(28.51419061)}, 'lambda_0.001_tau_0.0001_thresh_0.05_gamma_5.504818825631802': {'SHD': 146, 'TPR': 0.10833333333333334, 'Time Elapsed': 623.3074667453766, 'F1': 0.143646408839779, 'diff': 10.87873481406377, 'mse': 10.81834864435269, 'valid': 'yes', 'h_val': 9.963814463609275e-06, 'start mse': array(28.51419061)}, 'lambda_0.001_tau_0.0001_thresh_0.1_gamma_5.504818825631802': {'SHD': 120, 'TPR': 0.016666666666666666, 'Time Elapsed': 623.3074667453766, 'F1': 0.03225806451612903, 'diff': 10.93556319320797, 'mse': 10.81834864435269, 'valid': 'yes', 'h_val': 9.963814463609275e-06, 'start mse': array(28.51419061)}, 'lambda_0.001_tau_0.0001_thresh_0.15_gamma_5.504818825631802': {'SHD': 120, 'TPR': 0.0, 'Time Elapsed': 623.3074667453766, 'F1': 0.0, 'diff': 10.954451150103322, 'mse': 10.81834864435269, 'valid': 'yes', 'h_val': 9.963814463609275e-06, 'start mse': array(28.51419061)}, 'lambda_0.001_tau_0.0001_thresh_0.2_gamma_5.504818825631802': {'SHD': 120, 'TPR': 0.0, 'Time Elapsed': 623.3074667453766, 'F1': 0.0, 'diff': 10.954451150103322, 'mse': 10.81834864435269, 'valid': 'yes', 'h_val': 9.963814463609275e-06, 'start mse': array(28.51419061)}, 'lambda_0.001_tau_0.0001_thresh_0.25_gamma_5.504818825631802': {'SHD': 120, 'TPR': 0.0, 'Time Elapsed': 623.3074667453766, 'F1': 0.0, 'diff': 10.954451150103322, 'mse': 10.81834864435269, 'valid': 'yes', 'h_val': 9.963814463609275e-06, 'start mse': array(28.51419061)}, 'lambda_0.001_tau_0.0001_thresh_0.3_gamma_5.504818825631802': {'SHD': 120, 'TPR': 0.0, 'Time Elapsed': 623.3074667453766, 'F1': 0.0, 'diff': 10.954451150103322, 'mse': 10.81834864435269, 'valid': 'yes', 'h_val': 9.963814463609275e-06, 'start mse': array(28.51419061)}}\n"
     ]
    }
   ],
   "source": [
    "results = run_model(lambda1 = 1e-3, tau = 1e-4, X = X, device = device, B_true = B_true, gamma = gamma)\n",
    "print(results)"
   ]
  },
  {
   "cell_type": "code",
   "execution_count": 29,
   "metadata": {},
   "outputs": [],
   "source": [
    "utils.set_random_seed(0)\n",
    "torch.manual_seed(0)\n",
    "n, d, s0, graph_type, sem_type = 100, 30, 120, 'ER', 'mlp' # s0 = expected number of edges\n",
    "B_true = utils.simulate_dag(d, s0, graph_type) # [d, d] binary adj matrix of DAG\n",
    "X = utils.simulate_nonlinear_sem(B_true, n, sem_type) # [n, d] sample matrix\n",
    "results_var_sort_regress = var_sort_regress(X)\n",
    "X = torch.from_numpy(X)"
   ]
  },
  {
   "cell_type": "code",
   "execution_count": 30,
   "metadata": {},
   "outputs": [
    {
     "name": "stdout",
     "output_type": "stream",
     "text": [
      "variance:  (30,)\n"
     ]
    },
    {
     "data": {
      "text/plain": [
       "5.504818825631803"
      ]
     },
     "execution_count": 30,
     "metadata": {},
     "output_type": "execute_result"
    }
   ],
   "source": [
    "scaler = StandardScaler()\n",
    "X_scaled = scaler.fit_transform(X)\n",
    "variances = np.var(X_scaled, axis=0, ddof=1)\n",
    "print(\"variance: \", variances.shape)\n",
    "average_variance = np.mean(variances)\n",
    "gamma = 1 / (d * average_variance)\n",
    "gamma = np.sqrt(1/gamma)\n",
    "gamma"
   ]
  },
  {
   "cell_type": "code",
   "execution_count": 31,
   "metadata": {},
   "outputs": [
    {
     "data": {
      "application/vnd.jupyter.widget-view+json": {
       "model_id": "4999e26c8f02430cabff021bc6febfea",
       "version_major": 2,
       "version_minor": 0
      },
      "text/plain": [
       "  0%|          | 0/33000.0 [00:00<?, ?it/s]"
      ]
     },
     "metadata": {},
     "output_type": "display_data"
    },
    {
     "name": "stdout",
     "output_type": "stream",
     "text": [
      "{'lambda_0.001_tau_0.0001_thresh_0.005_gamma_5.504818825631803': {'SHD': 136, 'TPR': 0.38333333333333336, 'Time Elapsed': 658.035590171814, 'F1': 0.3739837398373984, 'diff': 14.821410204881557, 'mse': 133.10486720750913, 'valid': 'no', 'h_val': 1.89771960400576e-05, 'start mse': array(1327.67953455)}, 'lambda_0.001_tau_0.0001_thresh_0.01_gamma_5.504818825631803': {'SHD': 136, 'TPR': 0.38333333333333336, 'Time Elapsed': 658.035590171814, 'F1': 0.3739837398373984, 'diff': 14.821410204881557, 'mse': 133.10486720750913, 'valid': 'no', 'h_val': 1.89771960400576e-05, 'start mse': array(1327.67953455)}, 'lambda_0.001_tau_0.0001_thresh_0.05_gamma_5.504818825631803': {'SHD': 270, 'TPR': 0.19166666666666668, 'Time Elapsed': 658.035590171814, 'F1': 0.12885154061624654, 'diff': 10.918137717658894, 'mse': 133.10486720750913, 'valid': 'yes', 'h_val': 1.89771960400576e-05, 'start mse': array(1327.67953455)}, 'lambda_0.001_tau_0.0001_thresh_0.1_gamma_5.504818825631803': {'SHD': 198, 'TPR': 0.058333333333333334, 'Time Elapsed': 658.035590171814, 'F1': 0.05982905982905982, 'diff': 10.99107191483402, 'mse': 133.10486720750913, 'valid': 'yes', 'h_val': 1.89771960400576e-05, 'start mse': array(1327.67953455)}, 'lambda_0.001_tau_0.0001_thresh_0.15_gamma_5.504818825631803': {'SHD': 156, 'TPR': 0.03333333333333333, 'Time Elapsed': 658.035590171814, 'F1': 0.04571428571428572, 'diff': 10.984923670662301, 'mse': 133.10486720750913, 'valid': 'yes', 'h_val': 1.89771960400576e-05, 'start mse': array(1327.67953455)}, 'lambda_0.001_tau_0.0001_thresh_0.2_gamma_5.504818825631803': {'SHD': 136, 'TPR': 0.025, 'Time Elapsed': 658.035590171814, 'F1': 0.04054054054054054, 'diff': 10.96664993496374, 'mse': 133.10486720750913, 'valid': 'yes', 'h_val': 1.89771960400576e-05, 'start mse': array(1327.67953455)}, 'lambda_0.001_tau_0.0001_thresh_0.25_gamma_5.504818825631803': {'SHD': 127, 'TPR': 0.025, 'Time Elapsed': 658.035590171814, 'F1': 0.043795620437956206, 'diff': 10.944390311917452, 'mse': 133.10486720750913, 'valid': 'yes', 'h_val': 1.89771960400576e-05, 'start mse': array(1327.67953455)}, 'lambda_0.001_tau_0.0001_thresh_0.3_gamma_5.504818825631803': {'SHD': 123, 'TPR': 0.0, 'Time Elapsed': 658.035590171814, 'F1': 0.0, 'diff': 10.97891476400576, 'mse': 133.10486720750913, 'valid': 'yes', 'h_val': 1.89771960400576e-05, 'start mse': array(1327.67953455)}}\n"
     ]
    }
   ],
   "source": [
    "results = run_model(lambda1 = 1e-3, tau = 1e-4, X = X, device = device, B_true = B_true, gamma = gamma)\n",
    "print(results)"
   ]
  },
  {
   "cell_type": "code",
   "execution_count": 32,
   "metadata": {},
   "outputs": [
    {
     "data": {
      "application/vnd.jupyter.widget-view+json": {
       "model_id": "180a4d177e974c96b0f934b371b7bac7",
       "version_major": 2,
       "version_minor": 0
      },
      "text/plain": [
       "  0%|          | 0/38000.0 [00:00<?, ?it/s]"
      ]
     },
     "metadata": {},
     "output_type": "display_data"
    },
    {
     "name": "stdout",
     "output_type": "stream",
     "text": [
      "{'lambda_0.001_tau_0.0001_thresh_0.005_gamma_5.504818825631803': {'SHD': 136, 'TPR': 0.38333333333333336, 'Time Elapsed': 761.8567404747009, 'F1': 0.3739837398373984, 'diff': 14.821410204881557, 'mse': 133.55946718635593, 'valid': 'no', 'h_val': 2.6893091759744644e-07, 'start mse': array(1327.67953455)}, 'lambda_0.001_tau_0.0001_thresh_0.01_gamma_5.504818825631803': {'SHD': 136, 'TPR': 0.38333333333333336, 'Time Elapsed': 761.8567404747009, 'F1': 0.3739837398373984, 'diff': 14.821410204881557, 'mse': 133.55946718635593, 'valid': 'no', 'h_val': 2.6893091759744644e-07, 'start mse': array(1327.67953455)}, 'lambda_0.001_tau_0.0001_thresh_0.05_gamma_5.504818825631803': {'SHD': 278, 'TPR': 0.19166666666666668, 'Time Elapsed': 761.8567404747009, 'F1': 0.1253405994550409, 'diff': 10.918919402254616, 'mse': 133.55946718635593, 'valid': 'yes', 'h_val': 2.6893091759744644e-07, 'start mse': array(1327.67953455)}, 'lambda_0.001_tau_0.0001_thresh_0.1_gamma_5.504818825631803': {'SHD': 200, 'TPR': 0.06666666666666667, 'Time Elapsed': 761.8567404747009, 'F1': 0.06722689075630255, 'diff': 10.985157270755654, 'mse': 133.55946718635593, 'valid': 'yes', 'h_val': 2.6893091759744644e-07, 'start mse': array(1327.67953455)}, 'lambda_0.001_tau_0.0001_thresh_0.15_gamma_5.504818825631803': {'SHD': 157, 'TPR': 0.03333333333333333, 'Time Elapsed': 761.8567404747009, 'F1': 0.04545454545454545, 'diff': 10.986706531925655, 'mse': 133.55946718635593, 'valid': 'yes', 'h_val': 2.6893091759744644e-07, 'start mse': array(1327.67953455)}, 'lambda_0.001_tau_0.0001_thresh_0.2_gamma_5.504818825631803': {'SHD': 136, 'TPR': 0.025, 'Time Elapsed': 761.8567404747009, 'F1': 0.04054054054054054, 'diff': 10.96693319014986, 'mse': 133.55946718635593, 'valid': 'yes', 'h_val': 2.6893091759744644e-07, 'start mse': array(1327.67953455)}, 'lambda_0.001_tau_0.0001_thresh_0.25_gamma_5.504818825631803': {'SHD': 127, 'TPR': 0.025, 'Time Elapsed': 761.8567404747009, 'F1': 0.043795620437956206, 'diff': 10.944438829451949, 'mse': 133.55946718635593, 'valid': 'yes', 'h_val': 2.6893091759744644e-07, 'start mse': array(1327.67953455)}, 'lambda_0.001_tau_0.0001_thresh_0.3_gamma_5.504818825631803': {'SHD': 123, 'TPR': 0.0, 'Time Elapsed': 761.8567404747009, 'F1': 0.0, 'diff': 10.978989776740171, 'mse': 133.55946718635593, 'valid': 'yes', 'h_val': 2.6893091759744644e-07, 'start mse': array(1327.67953455)}}\n"
     ]
    }
   ],
   "source": [
    "results = run_model(lambda1 = 1e-3, tau = 1e-4, X = X, device = device, B_true = B_true, gamma = gamma, T = 7)\n",
    "print(results)"
   ]
  },
  {
   "cell_type": "code",
   "execution_count": null,
   "metadata": {},
   "outputs": [],
   "source": []
  }
 ],
 "metadata": {
  "kernelspec": {
   "display_name": "Python 3 (ipykernel)",
   "language": "python",
   "name": "python3"
  },
  "language_info": {
   "codemirror_mode": {
    "name": "ipython",
    "version": 3
   },
   "file_extension": ".py",
   "mimetype": "text/x-python",
   "name": "python",
   "nbconvert_exporter": "python",
   "pygments_lexer": "ipython3",
   "version": "3.10.8"
  }
 },
 "nbformat": 4,
 "nbformat_minor": 4
}
