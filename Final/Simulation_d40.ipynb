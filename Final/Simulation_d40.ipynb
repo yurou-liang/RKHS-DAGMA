{
 "cells": [
  {
   "cell_type": "code",
   "execution_count": 1,
   "id": "7dc98a09-54d1-4181-ba51-a8a407d9029a",
   "metadata": {},
   "outputs": [
    {
     "name": "stderr",
     "output_type": "stream",
     "text": [
      "Detecting 1 CUDA device(s).\n"
     ]
    }
   ],
   "source": [
    "import utils, RKHS_DAGMA_extractj\n",
    "import torch\n",
    "import time\n",
    "import numpy as np\n",
    "import matplotlib.pyplot as plt\n",
    "from CausalDisco.analytics import r2_sortability, var_sortability\n",
    "from CausalDisco.baselines import r2_sort_regress, var_sort_regress\n",
    "from cdt.metrics import SID, SHD\n",
    "import seaborn as sns\n",
    "import cdt\n",
    "import multiprocessing\n",
    "import threading\n",
    "import json"
   ]
  },
  {
   "cell_type": "code",
   "execution_count": 2,
   "id": "638b7c3c-50cb-459a-8029-5c534d72496c",
   "metadata": {},
   "outputs": [],
   "source": [
    "sns.set_context(\"paper\")\n",
    "\n",
    "torch.set_default_dtype(torch.float64)\n",
    "\n",
    "device= torch.device('cuda' if torch.cuda.is_available() else 'cpu')\n",
    "torch.set_default_device(device)\n",
    "\n",
    "# utils.set_random_seed(1)\n",
    "# torch.manual_seed(1)\n",
    "\n",
    "cdt.SETTINGS.rpath= 'C:\\Program Files\\R\\R-4.3.3\\\\bin\\Rscript'\n",
    "\n",
    "num_cores = multiprocessing.cpu_count()"
   ]
  },
  {
   "cell_type": "markdown",
   "id": "aeff2947-d73d-4c75-8a9d-a415457ac120",
   "metadata": {},
   "source": [
    "# Do RKHS_DAGMA Discovery"
   ]
  },
  {
   "cell_type": "code",
   "execution_count": 3,
   "id": "0dfc7ab3-aebb-477c-824f-cbab87ae4b45",
   "metadata": {},
   "outputs": [],
   "source": [
    "def run_model(lambda1, tau, X, device, B_true, gamma, T=5, lr = 0.03):\n",
    "    #device = torch.device(\"cuda\" if torch.cuda.is_available() else \"cpu\")\n",
    "    results = {}\n",
    "    \n",
    "    X = X.to(device)\n",
    "    eq_model = RKHS_DAGMA_extractj.DagmaRKHS(X, gamma = gamma).to(device)\n",
    "    model = RKHS_DAGMA_extractj.DagmaRKHS_nonlinear(eq_model)\n",
    "    \n",
    "    x_est_start = eq_model.forward()\n",
    "    start_mse = eq_model.mse(x_est_start).detach().cpu().numpy()\n",
    "    time_start = time.time()\n",
    "    W_est_no_thresh, output = model.fit(X, lambda1=lambda1, tau=tau, T = T, mu_init = 1.0, lr=lr, w_threshold=0.0)\n",
    "    time_end = time.time()\n",
    "\n",
    "    thresh_values = [0.005, 0.01, 0.05, 0.1, 0.15, 0.2, 0.25, 0.3]\n",
    "    for thresh in thresh_values:\n",
    "        try:\n",
    "            W_est_dagma = abs(W_est_no_thresh) * (abs(W_est_no_thresh) > thresh)\n",
    "            acc_dagma = utils.count_accuracy(B_true, W_est_dagma != 0)\n",
    "            valid = \"yes\"\n",
    "        #sid_dagma = SID(B_true, W_est_dagma != 0).item()\n",
    "        except Exception as e:\n",
    "            W_est_dagma = results_var_sort_regress\n",
    "            acc_dagma = utils.count_accuracy(B_true, W_est_dagma != 0)\n",
    "            valid = \"no\"\n",
    "            \n",
    "        diff_dagma = np.linalg.norm(W_est_dagma - abs(B_true))\n",
    "        x_est = eq_model.forward()\n",
    "        mse_dagma = eq_model.mse(x_est).detach().cpu().numpy()\n",
    "        W_est = eq_model.fc1_to_adj()\n",
    "        h_val = eq_model.h_func(W_est, s=1).detach().cpu().numpy()\n",
    "        parameters = eq_model.get_parameters()\n",
    "        W_est_dagma = W_est_dagma.tolist()\n",
    "        B = B_true.tolist()\n",
    "        key = f'lambda_{lambda1}_tau_{tau}_thresh_{thresh}_gamma_{gamma}'\n",
    "        results[key] = {\n",
    "            'SHD': acc_dagma['shd'],\n",
    "            'TPR': acc_dagma['tpr'],\n",
    "            'Time Elapsed': time_end - time_start,\n",
    "            'F1': acc_dagma['f1'],\n",
    "            'diff': diff_dagma,\n",
    "            'mse': mse_dagma.item(),\n",
    "            'valid': valid,\n",
    "            'h_val': h_val.item(),\n",
    "            'start mse': start_mse.item(),\n",
    "            #'W_est_dagma': W_est_dagma,\n",
    "            #'parameters': parameters,\n",
    "            #'eq_model': eq_model,\n",
    "            #'W_est_no_thresh': W_est_no_thresh,\n",
    "            #'B_true': B\n",
    "        }\n",
    "\n",
    "    torch.cuda.empty_cache()\n",
    "\n",
    "    # filename = f'model_results_lambda_{lambda1}_tau_{tau}_gamma_{gamma}.txt'\n",
    "\n",
    "    # with open(filename, 'w') as file:\n",
    "    #     json.dump(results, file, indent=4) \n",
    "\n",
    "    return results"
   ]
  },
  {
   "cell_type": "code",
   "execution_count": 4,
   "id": "6ee9dba2-0986-45d2-aef4-53abc8968ac5",
   "metadata": {},
   "outputs": [
    {
     "name": "stdout",
     "output_type": "stream",
     "text": [
      "device: cuda\n"
     ]
    }
   ],
   "source": [
    "device= torch.device('cuda' if torch.cuda.is_available() else 'cpu')\n",
    "#device = 'cpu'\n",
    "print('device:', device)\n",
    "torch.set_default_device(device)"
   ]
  },
  {
   "cell_type": "markdown",
   "id": "f014067f-08d0-47bf-9cac-feefcc260b22",
   "metadata": {},
   "source": [
    "## d = 40"
   ]
  },
  {
   "cell_type": "code",
   "execution_count": 5,
   "id": "338061b1-0cb9-40a5-bc43-f1948122790b",
   "metadata": {},
   "outputs": [],
   "source": [
    "utils.set_random_seed(0)\n",
    "torch.manual_seed(0)\n",
    "n, d, s0, graph_type, sem_type = 100, 40, 160, 'ER', 'gp-add' # s0 = expected number of edges\n",
    "B_true = utils.simulate_dag(d, s0, graph_type) # [d, d] binary adj matrix of DAG\n",
    "X = utils.simulate_nonlinear_sem(B_true, n, sem_type) # [n, d] sample matrix\n",
    "results_var_sort_regress = var_sort_regress(X)\n",
    "X = torch.from_numpy(X)"
   ]
  },
  {
   "cell_type": "code",
   "execution_count": 6,
   "id": "8b164ba0-67f3-47b0-ab4b-5db580d888ea",
   "metadata": {},
   "outputs": [
    {
     "data": {
      "application/vnd.jupyter.widget-view+json": {
       "model_id": "775ea702e3e044e8898b9361fc97493f",
       "version_major": 2,
       "version_minor": 0
      },
      "text/plain": [
       "  0%|          | 0/33000.0 [00:00<?, ?it/s]"
      ]
     },
     "metadata": {},
     "output_type": "display_data"
    },
    {
     "name": "stdout",
     "output_type": "stream",
     "text": [
      "{'lambda_0.001_tau_0.0001_thresh_0.005_gamma_16': {'SHD': 144, 'TPR': 0.38125, 'Time Elapsed': 2419.8881788253784, 'F1': 0.4535315985130111, 'diff': 13.827468670889223, 'mse': 51.38136997431348, 'valid': 'no', 'h_val': 4.870244527114279e-05, 'start mse': 124.6053332243056}, 'lambda_0.001_tau_0.0001_thresh_0.01_gamma_16': {'SHD': 144, 'TPR': 0.38125, 'Time Elapsed': 2419.8881788253784, 'F1': 0.4535315985130111, 'diff': 13.827468670889223, 'mse': 51.38136997431348, 'valid': 'no', 'h_val': 4.870244527114279e-05, 'start mse': 124.6053332243056}, 'lambda_0.001_tau_0.0001_thresh_0.05_gamma_16': {'SHD': 176, 'TPR': 0.40625, 'Time Elapsed': 2419.8881788253784, 'F1': 0.40880503144654085, 'diff': 12.131661318435935, 'mse': 51.38136997431348, 'valid': 'yes', 'h_val': 4.870244527114279e-05, 'start mse': 124.6053332243056}, 'lambda_0.001_tau_0.0001_thresh_0.1_gamma_16': {'SHD': 145, 'TPR': 0.19375, 'Time Elapsed': 2419.8881788253784, 'F1': 0.29523809523809524, 'diff': 12.314893379426465, 'mse': 51.38136997431348, 'valid': 'yes', 'h_val': 4.870244527114279e-05, 'start mse': 124.6053332243056}, 'lambda_0.001_tau_0.0001_thresh_0.15_gamma_16': {'SHD': 151, 'TPR': 0.075, 'Time Elapsed': 2419.8881788253784, 'F1': 0.13714285714285715, 'diff': 12.481615485917594, 'mse': 51.38136997431348, 'valid': 'yes', 'h_val': 4.870244527114279e-05, 'start mse': 124.6053332243056}, 'lambda_0.001_tau_0.0001_thresh_0.2_gamma_16': {'SHD': 156, 'TPR': 0.025, 'Time Elapsed': 2419.8881788253784, 'F1': 0.04878048780487806, 'diff': 12.580934247434753, 'mse': 51.38136997431348, 'valid': 'yes', 'h_val': 4.870244527114279e-05, 'start mse': 124.6053332243056}, 'lambda_0.001_tau_0.0001_thresh_0.25_gamma_16': {'SHD': 158, 'TPR': 0.0125, 'Time Elapsed': 2419.8881788253784, 'F1': 0.02469135802469136, 'diff': 12.613048855387243, 'mse': 51.38136997431348, 'valid': 'yes', 'h_val': 4.870244527114279e-05, 'start mse': 124.6053332243056}, 'lambda_0.001_tau_0.0001_thresh_0.3_gamma_16': {'SHD': 160, 'TPR': 0.0, 'Time Elapsed': 2419.8881788253784, 'F1': 0.0, 'diff': 12.649110640673518, 'mse': 51.38136997431348, 'valid': 'yes', 'h_val': 4.870244527114279e-05, 'start mse': 124.6053332243056}}\n"
     ]
    }
   ],
   "source": [
    "results = run_model(lambda1 = 1e-3, tau = 1e-4, X = X, device = device, B_true = B_true, gamma = 16, T=6, lr= 0.03)\n",
    "print(results)"
   ]
  },
  {
   "cell_type": "code",
   "execution_count": 5,
   "id": "cb652f92-b905-4e72-84ef-ab3af337acd7",
   "metadata": {},
   "outputs": [],
   "source": [
    "utils.set_random_seed(0)\n",
    "torch.manual_seed(0)\n",
    "n, d, s0, graph_type, sem_type = 100, 40, 160, 'ER', 'gp' # s0 = expected number of edges\n",
    "B_true = utils.simulate_dag(d, s0, graph_type) # [d, d] binary adj matrix of DAG\n",
    "X = utils.simulate_nonlinear_sem(B_true, n, sem_type) # [n, d] sample matrix\n",
    "results_var_sort_regress = var_sort_regress(X)\n",
    "X = torch.from_numpy(X)"
   ]
  },
  {
   "cell_type": "code",
   "execution_count": 8,
   "id": "27da87d3-5801-4227-9139-600d8ef2e1aa",
   "metadata": {},
   "outputs": [
    {
     "data": {
      "application/vnd.jupyter.widget-view+json": {
       "model_id": "4838b33655884757b4fc75e071262020",
       "version_major": 2,
       "version_minor": 0
      },
      "text/plain": [
       "  0%|          | 0/33000.0 [00:00<?, ?it/s]"
      ]
     },
     "metadata": {},
     "output_type": "display_data"
    },
    {
     "name": "stdout",
     "output_type": "stream",
     "text": [
      "{'lambda_0.001_tau_0.0001_thresh_0.005_gamma_16': {'SHD': 162, 'TPR': 0.04375, 'Time Elapsed': 3079.360290288925, 'F1': 0.07734806629834254, 'diff': 12.621631656561732, 'mse': 28.620857185472133, 'valid': 'no', 'h_val': 5.29215299455607e-06, 'start mse': 37.04060189095214}, 'lambda_0.001_tau_0.0001_thresh_0.01_gamma_16': {'SHD': 162, 'TPR': 0.04375, 'Time Elapsed': 3079.360290288925, 'F1': 0.07734806629834254, 'diff': 12.621631656561732, 'mse': 28.620857185472133, 'valid': 'no', 'h_val': 5.29215299455607e-06, 'start mse': 37.04060189095214}, 'lambda_0.001_tau_0.0001_thresh_0.05_gamma_16': {'SHD': 162, 'TPR': 0.04375, 'Time Elapsed': 3079.360290288925, 'F1': 0.07734806629834254, 'diff': 12.621631656561732, 'mse': 28.620857185472133, 'valid': 'no', 'h_val': 5.29215299455607e-06, 'start mse': 37.04060189095214}, 'lambda_0.001_tau_0.0001_thresh_0.1_gamma_16': {'SHD': 167, 'TPR': 0.04375, 'Time Elapsed': 3079.360290288925, 'F1': 0.0748663101604278, 'diff': 12.585532995259692, 'mse': 28.620857185472133, 'valid': 'yes', 'h_val': 5.29215299455607e-06, 'start mse': 37.04060189095214}, 'lambda_0.001_tau_0.0001_thresh_0.15_gamma_16': {'SHD': 158, 'TPR': 0.01875, 'Time Elapsed': 3079.360290288925, 'F1': 0.03614457831325301, 'diff': 12.612793106642654, 'mse': 28.620857185472133, 'valid': 'yes', 'h_val': 5.29215299455607e-06, 'start mse': 37.04060189095214}, 'lambda_0.001_tau_0.0001_thresh_0.2_gamma_16': {'SHD': 159, 'TPR': 0.00625, 'Time Elapsed': 3079.360290288925, 'F1': 0.01234567901234568, 'diff': 12.634456133708456, 'mse': 28.620857185472133, 'valid': 'yes', 'h_val': 5.29215299455607e-06, 'start mse': 37.04060189095214}, 'lambda_0.001_tau_0.0001_thresh_0.25_gamma_16': {'SHD': 160, 'TPR': 0.0, 'Time Elapsed': 3079.360290288925, 'F1': 0.0, 'diff': 12.649110640673518, 'mse': 28.620857185472133, 'valid': 'yes', 'h_val': 5.29215299455607e-06, 'start mse': 37.04060189095214}, 'lambda_0.001_tau_0.0001_thresh_0.3_gamma_16': {'SHD': 160, 'TPR': 0.0, 'Time Elapsed': 3079.360290288925, 'F1': 0.0, 'diff': 12.649110640673518, 'mse': 28.620857185472133, 'valid': 'yes', 'h_val': 5.29215299455607e-06, 'start mse': 37.04060189095214}}\n"
     ]
    }
   ],
   "source": [
    "results = run_model(lambda1 = 1e-3, tau = 1e-4, X = X, device = device, B_true = B_true, gamma = 16, T=6, lr= 0.03)\n",
    "print(results)"
   ]
  },
  {
   "cell_type": "code",
   "execution_count": 6,
   "id": "425acd2c-030a-4723-9467-1154abad0bb0",
   "metadata": {},
   "outputs": [
    {
     "data": {
      "application/vnd.jupyter.widget-view+json": {
       "model_id": "691f9009db5540438676412efc566903",
       "version_major": 2,
       "version_minor": 0
      },
      "text/plain": [
       "  0%|          | 0/38000.0 [00:00<?, ?it/s]"
      ]
     },
     "metadata": {},
     "output_type": "display_data"
    },
    {
     "name": "stdout",
     "output_type": "stream",
     "text": [
      "{'lambda_0.001_tau_0.0001_thresh_0.005_gamma_16': {'SHD': 162, 'TPR': 0.04375, 'Time Elapsed': 3864.0099194049835, 'F1': 0.07734806629834254, 'diff': 12.621631656561732, 'mse': 29.98038585187362, 'valid': 'no', 'h_val': 4.051712796272634e-07, 'start mse': 37.04060189095214}, 'lambda_0.001_tau_0.0001_thresh_0.01_gamma_16': {'SHD': 162, 'TPR': 0.04375, 'Time Elapsed': 3864.0099194049835, 'F1': 0.07734806629834254, 'diff': 12.621631656561732, 'mse': 29.98038585187362, 'valid': 'no', 'h_val': 4.051712796272634e-07, 'start mse': 37.04060189095214}, 'lambda_0.001_tau_0.0001_thresh_0.05_gamma_16': {'SHD': 232, 'TPR': 0.18125, 'Time Elapsed': 3864.0099194049835, 'F1': 0.19141914191419143, 'diff': 12.486368093483742, 'mse': 29.98038585187362, 'valid': 'yes', 'h_val': 4.051712796272634e-07, 'start mse': 37.04060189095214}, 'lambda_0.001_tau_0.0001_thresh_0.1_gamma_16': {'SHD': 167, 'TPR': 0.04375, 'Time Elapsed': 3864.0099194049835, 'F1': 0.07526881720430108, 'diff': 12.587399705630412, 'mse': 29.98038585187362, 'valid': 'yes', 'h_val': 4.051712796272634e-07, 'start mse': 37.04060189095214}, 'lambda_0.001_tau_0.0001_thresh_0.15_gamma_16': {'SHD': 158, 'TPR': 0.01875, 'Time Elapsed': 3864.0099194049835, 'F1': 0.03636363636363636, 'diff': 12.61297888116982, 'mse': 29.98038585187362, 'valid': 'yes', 'h_val': 4.051712796272634e-07, 'start mse': 37.04060189095214}, 'lambda_0.001_tau_0.0001_thresh_0.2_gamma_16': {'SHD': 160, 'TPR': 0.00625, 'Time Elapsed': 3864.0099194049835, 'F1': 0.01226993865030675, 'diff': 12.636583327301457, 'mse': 29.98038585187362, 'valid': 'yes', 'h_val': 4.051712796272634e-07, 'start mse': 37.04060189095214}, 'lambda_0.001_tau_0.0001_thresh_0.25_gamma_16': {'SHD': 160, 'TPR': 0.0, 'Time Elapsed': 3864.0099194049835, 'F1': 0.0, 'diff': 12.652068088049663, 'mse': 29.98038585187362, 'valid': 'yes', 'h_val': 4.051712796272634e-07, 'start mse': 37.04060189095214}, 'lambda_0.001_tau_0.0001_thresh_0.3_gamma_16': {'SHD': 160, 'TPR': 0.0, 'Time Elapsed': 3864.0099194049835, 'F1': 0.0, 'diff': 12.649110640673518, 'mse': 29.98038585187362, 'valid': 'yes', 'h_val': 4.051712796272634e-07, 'start mse': 37.04060189095214}}\n"
     ]
    }
   ],
   "source": [
    "results = run_model(lambda1 = 1e-3, tau = 1e-4, X = X, device = device, B_true = B_true, gamma = 16, T=7, lr= 0.03)\n",
    "print(results)"
   ]
  },
  {
   "cell_type": "code",
   "execution_count": 11,
   "id": "f018f599-14c1-4e2e-823a-ace10829617e",
   "metadata": {},
   "outputs": [],
   "source": [
    "utils.set_random_seed(1)\n",
    "torch.manual_seed(1)\n",
    "n, d, s0, graph_type, sem_type = 100, 40, 160, 'ER', 'gp' # s0 = expected number of edges\n",
    "B_true = utils.simulate_dag(d, s0, graph_type) # [d, d] binary adj matrix of DAG\n",
    "X = utils.simulate_nonlinear_sem(B_true, n, sem_type) # [n, d] sample matrix\n",
    "results_var_sort_regress = var_sort_regress(X)\n",
    "X = torch.from_numpy(X)"
   ]
  },
  {
   "cell_type": "code",
   "execution_count": 12,
   "id": "2b460108-e274-47d2-9f2e-1b350a71e4c4",
   "metadata": {},
   "outputs": [
    {
     "data": {
      "application/vnd.jupyter.widget-view+json": {
       "model_id": "34dc781345f54c14958f8ef885d20d8c",
       "version_major": 2,
       "version_minor": 0
      },
      "text/plain": [
       "  0%|          | 0/33000.0 [00:00<?, ?it/s]"
      ]
     },
     "metadata": {},
     "output_type": "display_data"
    },
    {
     "name": "stdout",
     "output_type": "stream",
     "text": [
      "{'lambda_0.001_tau_0.0001_thresh_0.005_gamma_16': {'SHD': 157, 'TPR': 0.1125, 'Time Elapsed': 3297.2519915103912, 'F1': 0.18367346938775508, 'diff': 12.526856337014774, 'mse': 28.336569124081006, 'valid': 'no', 'h_val': 5.357851334662559e-06, 'start mse': 36.19370792903379}, 'lambda_0.001_tau_0.0001_thresh_0.01_gamma_16': {'SHD': 157, 'TPR': 0.1125, 'Time Elapsed': 3297.2519915103912, 'F1': 0.18367346938775508, 'diff': 12.526856337014774, 'mse': 28.336569124081006, 'valid': 'no', 'h_val': 5.357851334662559e-06, 'start mse': 36.19370792903379}, 'lambda_0.001_tau_0.0001_thresh_0.05_gamma_16': {'SHD': 157, 'TPR': 0.1125, 'Time Elapsed': 3297.2519915103912, 'F1': 0.18367346938775508, 'diff': 12.526856337014774, 'mse': 28.336569124081006, 'valid': 'no', 'h_val': 5.357851334662559e-06, 'start mse': 36.19370792903379}, 'lambda_0.001_tau_0.0001_thresh_0.1_gamma_16': {'SHD': 171, 'TPR': 0.0625, 'Time Elapsed': 3297.2519915103912, 'F1': 0.10256410256410256, 'diff': 12.548830287230937, 'mse': 28.336569124081006, 'valid': 'yes', 'h_val': 5.357851334662559e-06, 'start mse': 36.19370792903379}, 'lambda_0.001_tau_0.0001_thresh_0.15_gamma_16': {'SHD': 156, 'TPR': 0.03125, 'Time Elapsed': 3297.2519915103912, 'F1': 0.060240963855421686, 'diff': 12.580260379622581, 'mse': 28.336569124081006, 'valid': 'yes', 'h_val': 5.357851334662559e-06, 'start mse': 36.19370792903379}, 'lambda_0.001_tau_0.0001_thresh_0.2_gamma_16': {'SHD': 158, 'TPR': 0.0125, 'Time Elapsed': 3297.2519915103912, 'F1': 0.02469135802469136, 'diff': 12.617592815943864, 'mse': 28.336569124081006, 'valid': 'yes', 'h_val': 5.357851334662559e-06, 'start mse': 36.19370792903379}, 'lambda_0.001_tau_0.0001_thresh_0.25_gamma_16': {'SHD': 160, 'TPR': 0.0, 'Time Elapsed': 3297.2519915103912, 'F1': 0.0, 'diff': 12.649110640673518, 'mse': 28.336569124081006, 'valid': 'yes', 'h_val': 5.357851334662559e-06, 'start mse': 36.19370792903379}, 'lambda_0.001_tau_0.0001_thresh_0.3_gamma_16': {'SHD': 160, 'TPR': 0.0, 'Time Elapsed': 3297.2519915103912, 'F1': 0.0, 'diff': 12.649110640673518, 'mse': 28.336569124081006, 'valid': 'yes', 'h_val': 5.357851334662559e-06, 'start mse': 36.19370792903379}}\n"
     ]
    }
   ],
   "source": [
    "results = run_model(lambda1 = 1e-3, tau = 1e-4, X = X, device = device, B_true = B_true, gamma = 16, T=6, lr= 0.03)\n",
    "print(results)"
   ]
  },
  {
   "cell_type": "code",
   "execution_count": 7,
   "id": "555e34bd-018e-4ea2-8c58-4865933cb91c",
   "metadata": {},
   "outputs": [],
   "source": [
    "utils.set_random_seed(0)\n",
    "torch.manual_seed(0)\n",
    "n, d, s0, graph_type, sem_type = 100, 40, 160, 'ER', 'mlp' # s0 = expected number of edges\n",
    "B_true = utils.simulate_dag(d, s0, graph_type) # [d, d] binary adj matrix of DAG\n",
    "X = utils.simulate_nonlinear_sem(B_true, n, sem_type) # [n, d] sample matrix\n",
    "results_var_sort_regress = var_sort_regress(X)\n",
    "X = torch.from_numpy(X)"
   ]
  },
  {
   "cell_type": "code",
   "execution_count": 10,
   "id": "3b0b1d7f-a3ea-4906-a95f-0061fce7452e",
   "metadata": {},
   "outputs": [
    {
     "data": {
      "application/vnd.jupyter.widget-view+json": {
       "model_id": "7106daf7e5e942e88c7012111fcd4640",
       "version_major": 2,
       "version_minor": 0
      },
      "text/plain": [
       "  0%|          | 0/33000.0 [00:00<?, ?it/s]"
      ]
     },
     "metadata": {},
     "output_type": "display_data"
    },
    {
     "name": "stdout",
     "output_type": "stream",
     "text": [
      "{'lambda_0.001_tau_0.0001_thresh_0.005_gamma_16': {'SHD': 204, 'TPR': 0.29375, 'Time Elapsed': 2637.6562778949738, 'F1': 0.2883435582822086, 'diff': 14.586934967975731, 'mse': 411.5820018463442, 'valid': 'no', 'h_val': 0.0013344427467220782, 'start mse': 1608.782437108537}, 'lambda_0.001_tau_0.0001_thresh_0.01_gamma_16': {'SHD': 204, 'TPR': 0.29375, 'Time Elapsed': 2637.6562778949738, 'F1': 0.2883435582822086, 'diff': 14.586934967975731, 'mse': 411.5820018463442, 'valid': 'no', 'h_val': 0.0013344427467220782, 'start mse': 1608.782437108537}, 'lambda_0.001_tau_0.0001_thresh_0.05_gamma_16': {'SHD': 204, 'TPR': 0.29375, 'Time Elapsed': 2637.6562778949738, 'F1': 0.2883435582822086, 'diff': 14.586934967975731, 'mse': 411.5820018463442, 'valid': 'no', 'h_val': 0.0013344427467220782, 'start mse': 1608.782437108537}, 'lambda_0.001_tau_0.0001_thresh_0.1_gamma_16': {'SHD': 209, 'TPR': 0.0375, 'Time Elapsed': 2637.6562778949738, 'F1': 0.051063829787234026, 'diff': 12.65570140137631, 'mse': 411.5820018463442, 'valid': 'yes', 'h_val': 0.0013344427467220782, 'start mse': 1608.782437108537}, 'lambda_0.001_tau_0.0001_thresh_0.15_gamma_16': {'SHD': 177, 'TPR': 0.00625, 'Time Elapsed': 2637.6562778949738, 'F1': 0.010989010989010988, 'diff': 12.669792744775107, 'mse': 411.5820018463442, 'valid': 'yes', 'h_val': 0.0013344427467220782, 'start mse': 1608.782437108537}, 'lambda_0.001_tau_0.0001_thresh_0.2_gamma_16': {'SHD': 168, 'TPR': 0.00625, 'Time Elapsed': 2637.6562778949738, 'F1': 0.011764705882352941, 'diff': 12.65455697847302, 'mse': 411.5820018463442, 'valid': 'yes', 'h_val': 0.0013344427467220782, 'start mse': 1608.782437108537}, 'lambda_0.001_tau_0.0001_thresh_0.25_gamma_16': {'SHD': 162, 'TPR': 0.0, 'Time Elapsed': 2637.6562778949738, 'F1': 0.0, 'diff': 12.655112656704707, 'mse': 411.5820018463442, 'valid': 'yes', 'h_val': 0.0013344427467220782, 'start mse': 1608.782437108537}, 'lambda_0.001_tau_0.0001_thresh_0.3_gamma_16': {'SHD': 160, 'TPR': 0.0, 'Time Elapsed': 2637.6562778949738, 'F1': 0.0, 'diff': 12.649110640673518, 'mse': 411.5820018463442, 'valid': 'yes', 'h_val': 0.0013344427467220782, 'start mse': 1608.782437108537}}\n"
     ]
    }
   ],
   "source": [
    "results = run_model(lambda1 = 1e-3, tau = 1e-4, X = X, device = device, B_true = B_true, gamma = 16, T=6, lr= 0.03)\n",
    "print(results)"
   ]
  },
  {
   "cell_type": "code",
   "execution_count": 8,
   "id": "25a6d9bb-dd31-4e0e-9903-388d137d3276",
   "metadata": {},
   "outputs": [
    {
     "data": {
      "application/vnd.jupyter.widget-view+json": {
       "model_id": "8d9c120a716c42bfab12cce58f841b00",
       "version_major": 2,
       "version_minor": 0
      },
      "text/plain": [
       "  0%|          | 0/38000.0 [00:00<?, ?it/s]"
      ]
     },
     "metadata": {},
     "output_type": "display_data"
    },
    {
     "name": "stdout",
     "output_type": "stream",
     "text": [
      "{'lambda_0.001_tau_0.0001_thresh_0.005_gamma_16': {'SHD': 204, 'TPR': 0.29375, 'Time Elapsed': 3416.2624838352203, 'F1': 0.2883435582822086, 'diff': 14.586934967975731, 'mse': 697.3262170204313, 'valid': 'no', 'h_val': 8.645324390456802e-05, 'start mse': 1608.782437108537}, 'lambda_0.001_tau_0.0001_thresh_0.01_gamma_16': {'SHD': 204, 'TPR': 0.29375, 'Time Elapsed': 3416.2624838352203, 'F1': 0.2883435582822086, 'diff': 14.586934967975731, 'mse': 697.3262170204313, 'valid': 'no', 'h_val': 8.645324390456802e-05, 'start mse': 1608.782437108537}, 'lambda_0.001_tau_0.0001_thresh_0.05_gamma_16': {'SHD': 250, 'TPR': 0.08125, 'Time Elapsed': 3416.2624838352203, 'F1': 0.087248322147651, 'diff': 12.660664810661958, 'mse': 697.3262170204313, 'valid': 'yes', 'h_val': 8.645324390456802e-05, 'start mse': 1608.782437108537}, 'lambda_0.001_tau_0.0001_thresh_0.1_gamma_16': {'SHD': 198, 'TPR': 0.00625, 'Time Elapsed': 3416.2624838352203, 'F1': 0.009615384615384621, 'diff': 12.707480076635907, 'mse': 697.3262170204313, 'valid': 'yes', 'h_val': 8.645324390456802e-05, 'start mse': 1608.782437108537}, 'lambda_0.001_tau_0.0001_thresh_0.15_gamma_16': {'SHD': 184, 'TPR': 0.00625, 'Time Elapsed': 3416.2624838352203, 'F1': 0.010471204188481674, 'diff': 12.696518635665704, 'mse': 697.3262170204313, 'valid': 'yes', 'h_val': 8.645324390456802e-05, 'start mse': 1608.782437108537}, 'lambda_0.001_tau_0.0001_thresh_0.2_gamma_16': {'SHD': 176, 'TPR': 0.00625, 'Time Elapsed': 3416.2624838352203, 'F1': 0.011111111111111113, 'diff': 12.683244973898487, 'mse': 697.3262170204313, 'valid': 'yes', 'h_val': 8.645324390456802e-05, 'start mse': 1608.782437108537}, 'lambda_0.001_tau_0.0001_thresh_0.25_gamma_16': {'SHD': 169, 'TPR': 0.00625, 'Time Elapsed': 3416.2624838352203, 'F1': 0.011695906432748537, 'diff': 12.664318489572247, 'mse': 697.3262170204313, 'valid': 'yes', 'h_val': 8.645324390456802e-05, 'start mse': 1608.782437108537}, 'lambda_0.001_tau_0.0001_thresh_0.3_gamma_16': {'SHD': 162, 'TPR': 0.0, 'Time Elapsed': 3416.2624838352203, 'F1': 0.0, 'diff': 12.658113198596405, 'mse': 697.3262170204313, 'valid': 'yes', 'h_val': 8.645324390456802e-05, 'start mse': 1608.782437108537}}\n"
     ]
    }
   ],
   "source": [
    "results = run_model(lambda1 = 1e-3, tau = 1e-4, X = X, device = device, B_true = B_true, gamma = 16, T=7, lr= 0.03)\n",
    "print(results)"
   ]
  },
  {
   "cell_type": "markdown",
   "id": "c187b5a1-7f0c-4d03-a5e3-b4eb52c1dec4",
   "metadata": {
    "jp-MarkdownHeadingCollapsed": true
   },
   "source": [
    "## d = 40 (other test)"
   ]
  },
  {
   "cell_type": "code",
   "execution_count": 5,
   "id": "5397fb97-7950-4a82-b8ff-5e3fead452b1",
   "metadata": {},
   "outputs": [],
   "source": [
    "utils.set_random_seed(0)\n",
    "torch.manual_seed(0)\n",
    "n, d, s0, graph_type, sem_type = 100, 40, 160, 'ER', 'gp-add' # s0 = expected number of edges\n",
    "B_true_40 = utils.simulate_dag(d, s0, graph_type) # [d, d] binary adj matrix of DAG\n",
    "X_40 = utils.simulate_nonlinear_sem(B_true_40, n, sem_type) # [n, d] sample matrix\n",
    "results_var_sort_regress = var_sort_regress(X_40)\n",
    "X_40 = torch.from_numpy(X_40)"
   ]
  },
  {
   "cell_type": "code",
   "execution_count": 6,
   "id": "cf4108e4-0074-46a2-b8a3-b1f309b2615c",
   "metadata": {},
   "outputs": [
    {
     "data": {
      "application/vnd.jupyter.widget-view+json": {
       "model_id": "7038410149e74867b156a8d4c7c241f8",
       "version_major": 2,
       "version_minor": 0
      },
      "text/plain": [
       "  0%|          | 0/33000.0 [00:00<?, ?it/s]"
      ]
     },
     "metadata": {},
     "output_type": "display_data"
    },
    {
     "name": "stdout",
     "output_type": "stream",
     "text": [
      "{'lambda_0.001_tau_0.0001_thresh_0.005_gamma_5': {'SHD': 144, 'TPR': 0.38125, 'Time Elapsed': 1763.4229617118835, 'F1': 0.4535315985130111, 'diff': 13.827468670889223, 'mse': 13.235900923376636, 'valid': 'no', 'h_val': 9.408637880365182e-07, 'start mse': 124.6053332243056}, 'lambda_0.001_tau_0.0001_thresh_0.01_gamma_5': {'SHD': 144, 'TPR': 0.38125, 'Time Elapsed': 1763.4229617118835, 'F1': 0.4535315985130111, 'diff': 13.827468670889223, 'mse': 13.235900923376636, 'valid': 'no', 'h_val': 9.408637880365182e-07, 'start mse': 124.6053332243056}, 'lambda_0.001_tau_0.0001_thresh_0.05_gamma_5': {'SHD': 160, 'TPR': 0.0, 'Time Elapsed': 1763.4229617118835, 'F1': 0.0, 'diff': 12.649110640673518, 'mse': 13.235900923376636, 'valid': 'yes', 'h_val': 9.408637880365182e-07, 'start mse': 124.6053332243056}, 'lambda_0.001_tau_0.0001_thresh_0.1_gamma_5': {'SHD': 160, 'TPR': 0.0, 'Time Elapsed': 1763.4229617118835, 'F1': 0.0, 'diff': 12.649110640673518, 'mse': 13.235900923376636, 'valid': 'yes', 'h_val': 9.408637880365182e-07, 'start mse': 124.6053332243056}, 'lambda_0.001_tau_0.0001_thresh_0.15_gamma_5': {'SHD': 160, 'TPR': 0.0, 'Time Elapsed': 1763.4229617118835, 'F1': 0.0, 'diff': 12.649110640673518, 'mse': 13.235900923376636, 'valid': 'yes', 'h_val': 9.408637880365182e-07, 'start mse': 124.6053332243056}, 'lambda_0.001_tau_0.0001_thresh_0.2_gamma_5': {'SHD': 160, 'TPR': 0.0, 'Time Elapsed': 1763.4229617118835, 'F1': 0.0, 'diff': 12.649110640673518, 'mse': 13.235900923376636, 'valid': 'yes', 'h_val': 9.408637880365182e-07, 'start mse': 124.6053332243056}, 'lambda_0.001_tau_0.0001_thresh_0.25_gamma_5': {'SHD': 160, 'TPR': 0.0, 'Time Elapsed': 1763.4229617118835, 'F1': 0.0, 'diff': 12.649110640673518, 'mse': 13.235900923376636, 'valid': 'yes', 'h_val': 9.408637880365182e-07, 'start mse': 124.6053332243056}, 'lambda_0.001_tau_0.0001_thresh_0.3_gamma_5': {'SHD': 160, 'TPR': 0.0, 'Time Elapsed': 1763.4229617118835, 'F1': 0.0, 'diff': 12.649110640673518, 'mse': 13.235900923376636, 'valid': 'yes', 'h_val': 9.408637880365182e-07, 'start mse': 124.6053332243056}}\n"
     ]
    }
   ],
   "source": [
    "result_40 = run_model(lambda1 = 1e-3, tau = 1e-4, X = X_40, device = device, B_true = B_true_40, gamma = 5, T=6, lr= 0.03)\n",
    "print(result_40)"
   ]
  },
  {
   "cell_type": "code",
   "execution_count": 6,
   "id": "2496564f-3030-48e4-8254-d62dcb7c77b8",
   "metadata": {},
   "outputs": [
    {
     "data": {
      "application/vnd.jupyter.widget-view+json": {
       "model_id": "16989b762f0247f580fd0521781b94b0",
       "version_major": 2,
       "version_minor": 0
      },
      "text/plain": [
       "  0%|          | 0/33000.0 [00:00<?, ?it/s]"
      ]
     },
     "metadata": {},
     "output_type": "display_data"
    },
    {
     "name": "stdout",
     "output_type": "stream",
     "text": [
      "{'lambda_0.001_tau_0.0001_thresh_0.005_gamma_15': {'SHD': 144, 'TPR': 0.38125, 'Time Elapsed': 2314.790427684784, 'F1': 0.4535315985130111, 'diff': 13.827468670889223, 'mse': 51.11033842013492, 'valid': 'no', 'h_val': 5.1950516501837694e-05, 'start mse': 124.6053332243056}, 'lambda_0.001_tau_0.0001_thresh_0.01_gamma_15': {'SHD': 144, 'TPR': 0.38125, 'Time Elapsed': 2314.790427684784, 'F1': 0.4535315985130111, 'diff': 13.827468670889223, 'mse': 51.11033842013492, 'valid': 'no', 'h_val': 5.1950516501837694e-05, 'start mse': 124.6053332243056}, 'lambda_0.001_tau_0.0001_thresh_0.05_gamma_15': {'SHD': 175, 'TPR': 0.39375, 'Time Elapsed': 2314.790427684784, 'F1': 0.4064516129032259, 'diff': 12.15993615139483, 'mse': 51.11033842013492, 'valid': 'yes', 'h_val': 5.1950516501837694e-05, 'start mse': 124.6053332243056}, 'lambda_0.001_tau_0.0001_thresh_0.1_gamma_15': {'SHD': 146, 'TPR': 0.19375, 'Time Elapsed': 2314.790427684784, 'F1': 0.29523809523809524, 'diff': 12.32744396162458, 'mse': 51.11033842013492, 'valid': 'yes', 'h_val': 5.1950516501837694e-05, 'start mse': 124.6053332243056}, 'lambda_0.001_tau_0.0001_thresh_0.15_gamma_15': {'SHD': 151, 'TPR': 0.075, 'Time Elapsed': 2314.790427684784, 'F1': 0.13714285714285715, 'diff': 12.487912598487897, 'mse': 51.11033842013492, 'valid': 'yes', 'h_val': 5.1950516501837694e-05, 'start mse': 124.6053332243056}, 'lambda_0.001_tau_0.0001_thresh_0.2_gamma_15': {'SHD': 156, 'TPR': 0.025, 'Time Elapsed': 2314.790427684784, 'F1': 0.04878048780487806, 'diff': 12.583188407716614, 'mse': 51.11033842013492, 'valid': 'yes', 'h_val': 5.1950516501837694e-05, 'start mse': 124.6053332243056}, 'lambda_0.001_tau_0.0001_thresh_0.25_gamma_15': {'SHD': 159, 'TPR': 0.00625, 'Time Elapsed': 2314.790427684784, 'F1': 0.012422360248447204, 'diff': 12.631674693857848, 'mse': 51.11033842013492, 'valid': 'yes', 'h_val': 5.1950516501837694e-05, 'start mse': 124.6053332243056}, 'lambda_0.001_tau_0.0001_thresh_0.3_gamma_15': {'SHD': 160, 'TPR': 0.0, 'Time Elapsed': 2314.790427684784, 'F1': 0.0, 'diff': 12.649110640673518, 'mse': 51.11033842013492, 'valid': 'yes', 'h_val': 5.1950516501837694e-05, 'start mse': 124.6053332243056}}\n"
     ]
    }
   ],
   "source": [
    "result_40 = run_model(lambda1 = 1e-3, tau = 1e-4, X = X_40, device = device, B_true = B_true_40, gamma = 15, T=6, lr= 0.03)\n",
    "print(result_40)"
   ]
  },
  {
   "cell_type": "code",
   "execution_count": 8,
   "id": "18e2a2c0-bde5-4f04-b86b-a0e7e2bc86a6",
   "metadata": {},
   "outputs": [
    {
     "data": {
      "application/vnd.jupyter.widget-view+json": {
       "model_id": "a9ec2bfc3aaa497f981ad69b65739c30",
       "version_major": 2,
       "version_minor": 0
      },
      "text/plain": [
       "  0%|          | 0/33000.0 [00:00<?, ?it/s]"
      ]
     },
     "metadata": {},
     "output_type": "display_data"
    },
    {
     "name": "stdout",
     "output_type": "stream",
     "text": [
      "{'lambda_0.001_tau_0.0001_thresh_0.005_gamma_20': {'SHD': 144, 'TPR': 0.38125, 'Time Elapsed': 3085.1008954048157, 'F1': 0.4535315985130111, 'diff': 13.827468670889223, 'mse': 52.898395498180946, 'valid': 'no', 'h_val': 3.431714412942995e-05, 'start mse': 124.6053332243056}, 'lambda_0.001_tau_0.0001_thresh_0.01_gamma_20': {'SHD': 144, 'TPR': 0.38125, 'Time Elapsed': 3085.1008954048157, 'F1': 0.4535315985130111, 'diff': 13.827468670889223, 'mse': 52.898395498180946, 'valid': 'no', 'h_val': 3.431714412942995e-05, 'start mse': 124.6053332243056}, 'lambda_0.001_tau_0.0001_thresh_0.05_gamma_20': {'SHD': 185, 'TPR': 0.40625, 'Time Elapsed': 3085.1008954048157, 'F1': 0.393939393939394, 'diff': 12.141875467122972, 'mse': 52.898395498180946, 'valid': 'yes', 'h_val': 3.431714412942995e-05, 'start mse': 124.6053332243056}, 'lambda_0.001_tau_0.0001_thresh_0.1_gamma_20': {'SHD': 148, 'TPR': 0.20625, 'Time Elapsed': 3085.1008954048157, 'F1': 0.3013698630136986, 'diff': 12.305376604218946, 'mse': 52.898395498180946, 'valid': 'yes', 'h_val': 3.431714412942995e-05, 'start mse': 124.6053332243056}, 'lambda_0.001_tau_0.0001_thresh_0.15_gamma_20': {'SHD': 154, 'TPR': 0.08125, 'Time Elapsed': 3085.1008954048157, 'F1': 0.14285714285714285, 'diff': 12.480230192250431, 'mse': 52.898395498180946, 'valid': 'yes', 'h_val': 3.431714412942995e-05, 'start mse': 124.6053332243056}, 'lambda_0.001_tau_0.0001_thresh_0.2_gamma_20': {'SHD': 157, 'TPR': 0.01875, 'Time Elapsed': 3085.1008954048157, 'F1': 0.03680981595092024, 'diff': 12.596644339107648, 'mse': 52.898395498180946, 'valid': 'yes', 'h_val': 3.431714412942995e-05, 'start mse': 124.6053332243056}, 'lambda_0.001_tau_0.0001_thresh_0.25_gamma_20': {'SHD': 159, 'TPR': 0.00625, 'Time Elapsed': 3085.1008954048157, 'F1': 0.012422360248447204, 'diff': 12.62971295570237, 'mse': 52.898395498180946, 'valid': 'yes', 'h_val': 3.431714412942995e-05, 'start mse': 124.6053332243056}, 'lambda_0.001_tau_0.0001_thresh_0.3_gamma_20': {'SHD': 160, 'TPR': 0.0, 'Time Elapsed': 3085.1008954048157, 'F1': 0.0, 'diff': 12.649110640673518, 'mse': 52.898395498180946, 'valid': 'yes', 'h_val': 3.431714412942995e-05, 'start mse': 124.6053332243056}}\n"
     ]
    }
   ],
   "source": [
    "result_40 = run_model(lambda1 = 1e-3, tau = 1e-4, X = X_40, device = device, B_true = B_true_40, gamma = 20, T=6, lr= 0.03)\n",
    "print(result_40)"
   ]
  },
  {
   "cell_type": "code",
   "execution_count": 6,
   "id": "b9a55edc-ab72-4fe1-9db0-c8e5efcbe0ec",
   "metadata": {},
   "outputs": [],
   "source": [
    "utils.set_random_seed(0)\n",
    "torch.manual_seed(0)\n",
    "n, d, s0, graph_type, sem_type = 100, 40, 160, 'ER', 'gp' # s0 = expected number of edges\n",
    "B_true_40 = utils.simulate_dag(d, s0, graph_type) # [d, d] binary adj matrix of DAG\n",
    "X_40 = utils.simulate_nonlinear_sem(B_true_40, n, sem_type) # [n, d] sample matrix\n",
    "results_var_sort_regress = var_sort_regress(X_40)\n",
    "X_40 = torch.from_numpy(X_40)"
   ]
  },
  {
   "cell_type": "code",
   "execution_count": 7,
   "id": "79626ea8-f43e-48d8-ab04-f0cc02019d9f",
   "metadata": {},
   "outputs": [
    {
     "data": {
      "application/vnd.jupyter.widget-view+json": {
       "model_id": "b51de62356f240e090bbe65f8f1837c9",
       "version_major": 2,
       "version_minor": 0
      },
      "text/plain": [
       "  0%|          | 0/33000.0 [00:00<?, ?it/s]"
      ]
     },
     "metadata": {},
     "output_type": "display_data"
    },
    {
     "name": "stdout",
     "output_type": "stream",
     "text": [
      "{'lambda_0.001_tau_0.0001_thresh_0.005_gamma_15': {'SHD': 162, 'TPR': 0.04375, 'Time Elapsed': 3081.624889612198, 'F1': 0.07734806629834254, 'diff': 12.621631656561732, 'mse': 28.196594407773702, 'valid': 'no', 'h_val': 5.817910550851333e-06, 'start mse': 37.04060189095214}, 'lambda_0.001_tau_0.0001_thresh_0.01_gamma_15': {'SHD': 162, 'TPR': 0.04375, 'Time Elapsed': 3081.624889612198, 'F1': 0.07734806629834254, 'diff': 12.621631656561732, 'mse': 28.196594407773702, 'valid': 'no', 'h_val': 5.817910550851333e-06, 'start mse': 37.04060189095214}, 'lambda_0.001_tau_0.0001_thresh_0.05_gamma_15': {'SHD': 258, 'TPR': 0.1875, 'Time Elapsed': 3081.624889612198, 'F1': 0.17441860465116277, 'diff': 12.457318004375743, 'mse': 28.196594407773702, 'valid': 'yes', 'h_val': 5.817910550851333e-06, 'start mse': 37.04060189095214}, 'lambda_0.001_tau_0.0001_thresh_0.1_gamma_15': {'SHD': 166, 'TPR': 0.05625, 'Time Elapsed': 3081.624889612198, 'F1': 0.09473684210526316, 'diff': 12.551448615451518, 'mse': 28.196594407773702, 'valid': 'yes', 'h_val': 5.817910550851333e-06, 'start mse': 37.04060189095214}, 'lambda_0.001_tau_0.0001_thresh_0.15_gamma_15': {'SHD': 158, 'TPR': 0.025, 'Time Elapsed': 3081.624889612198, 'F1': 0.04790419161676646, 'diff': 12.587550350340877, 'mse': 28.196594407773702, 'valid': 'yes', 'h_val': 5.817910550851333e-06, 'start mse': 37.04060189095214}, 'lambda_0.001_tau_0.0001_thresh_0.2_gamma_15': {'SHD': 158, 'TPR': 0.0125, 'Time Elapsed': 3081.624889612198, 'F1': 0.02469135802469136, 'diff': 12.608673076895567, 'mse': 28.196594407773702, 'valid': 'yes', 'h_val': 5.817910550851333e-06, 'start mse': 37.04060189095214}, 'lambda_0.001_tau_0.0001_thresh_0.25_gamma_15': {'SHD': 158, 'TPR': 0.0125, 'Time Elapsed': 3081.624889612198, 'F1': 0.02469135802469136, 'diff': 12.608673076895567, 'mse': 28.196594407773702, 'valid': 'yes', 'h_val': 5.817910550851333e-06, 'start mse': 37.04060189095214}, 'lambda_0.001_tau_0.0001_thresh_0.3_gamma_15': {'SHD': 159, 'TPR': 0.00625, 'Time Elapsed': 3081.624889612198, 'F1': 0.012422360248447204, 'diff': 12.626310087335222, 'mse': 28.196594407773702, 'valid': 'yes', 'h_val': 5.817910550851333e-06, 'start mse': 37.04060189095214}}\n"
     ]
    }
   ],
   "source": [
    "result_40 = run_model(lambda1 = 1e-3, tau = 1e-4, X = X_40, device = device, B_true = B_true_40, gamma = 15, T=6, lr= 0.03)\n",
    "print(result_40)"
   ]
  },
  {
   "cell_type": "code",
   "execution_count": 8,
   "id": "63e55ab3-aaef-479b-9efd-eb22fffb5a3a",
   "metadata": {},
   "outputs": [],
   "source": [
    "utils.set_random_seed(0)\n",
    "torch.manual_seed(0)\n",
    "n, d, s0, graph_type, sem_type = 100, 40, 160, 'ER', 'mlp' # s0 = expected number of edges\n",
    "B_true_40 = utils.simulate_dag(d, s0, graph_type) # [d, d] binary adj matrix of DAG\n",
    "X_40 = utils.simulate_nonlinear_sem(B_true_40, n, sem_type) # [n, d] sample matrix\n",
    "results_var_sort_regress = var_sort_regress(X_40)\n",
    "X_40 = torch.from_numpy(X_40)"
   ]
  },
  {
   "cell_type": "code",
   "execution_count": 9,
   "id": "f00ad9d9-766e-45fc-ab16-e51693e3bb7a",
   "metadata": {},
   "outputs": [
    {
     "data": {
      "application/vnd.jupyter.widget-view+json": {
       "model_id": "626b8118c0b94734a975e7bb95cd608a",
       "version_major": 2,
       "version_minor": 0
      },
      "text/plain": [
       "  0%|          | 0/33000.0 [00:00<?, ?it/s]"
      ]
     },
     "metadata": {},
     "output_type": "display_data"
    },
    {
     "name": "stdout",
     "output_type": "stream",
     "text": [
      "{'lambda_0.001_tau_0.0001_thresh_0.005_gamma_15': {'SHD': 204, 'TPR': 0.29375, 'Time Elapsed': 2639.4664521217346, 'F1': 0.2883435582822086, 'diff': 14.586934967975731, 'mse': 450.6736743203465, 'valid': 'no', 'h_val': 0.0012789279337924034, 'start mse': 1608.782437108537}, 'lambda_0.001_tau_0.0001_thresh_0.01_gamma_15': {'SHD': 204, 'TPR': 0.29375, 'Time Elapsed': 2639.4664521217346, 'F1': 0.2883435582822086, 'diff': 14.586934967975731, 'mse': 450.6736743203465, 'valid': 'no', 'h_val': 0.0012789279337924034, 'start mse': 1608.782437108537}, 'lambda_0.001_tau_0.0001_thresh_0.05_gamma_15': {'SHD': 204, 'TPR': 0.29375, 'Time Elapsed': 2639.4664521217346, 'F1': 0.2883435582822086, 'diff': 14.586934967975731, 'mse': 450.6736743203465, 'valid': 'no', 'h_val': 0.0012789279337924034, 'start mse': 1608.782437108537}, 'lambda_0.001_tau_0.0001_thresh_0.1_gamma_15': {'SHD': 211, 'TPR': 0.0375, 'Time Elapsed': 2639.4664521217346, 'F1': 0.05084745762711865, 'diff': 12.663227923719894, 'mse': 450.6736743203465, 'valid': 'yes', 'h_val': 0.0012789279337924034, 'start mse': 1608.782437108537}, 'lambda_0.001_tau_0.0001_thresh_0.15_gamma_15': {'SHD': 182, 'TPR': 0.00625, 'Time Elapsed': 2639.4664521217346, 'F1': 0.010638297872340425, 'diff': 12.680471011120684, 'mse': 450.6736743203465, 'valid': 'yes', 'h_val': 0.0012789279337924034, 'start mse': 1608.782437108537}, 'lambda_0.001_tau_0.0001_thresh_0.2_gamma_15': {'SHD': 171, 'TPR': 0.00625, 'Time Elapsed': 2639.4664521217346, 'F1': 0.011428571428571429, 'diff': 12.66536805467418, 'mse': 450.6736743203465, 'valid': 'yes', 'h_val': 0.0012789279337924034, 'start mse': 1608.782437108537}, 'lambda_0.001_tau_0.0001_thresh_0.25_gamma_15': {'SHD': 165, 'TPR': 0.0, 'Time Elapsed': 2639.4664521217346, 'F1': 0.0, 'diff': 12.663631060496282, 'mse': 450.6736743203465, 'valid': 'yes', 'h_val': 0.0012789279337924034, 'start mse': 1608.782437108537}, 'lambda_0.001_tau_0.0001_thresh_0.3_gamma_15': {'SHD': 161, 'TPR': 0.0, 'Time Elapsed': 2639.4664521217346, 'F1': 0.0, 'diff': 12.652789162148755, 'mse': 450.6736743203465, 'valid': 'yes', 'h_val': 0.0012789279337924034, 'start mse': 1608.782437108537}}\n"
     ]
    }
   ],
   "source": [
    "result_40 = run_model(lambda1 = 1e-3, tau = 1e-4, X = X_40, device = device, B_true = B_true_40, gamma = 15, T=6, lr= 0.03)\n",
    "print(result_40)"
   ]
  },
  {
   "cell_type": "code",
   "execution_count": null,
   "id": "25957f93-6ec2-445c-a669-c17f04f96906",
   "metadata": {},
   "outputs": [],
   "source": []
  }
 ],
 "metadata": {
  "kernelspec": {
   "display_name": "Python 3 (ipykernel)",
   "language": "python",
   "name": "python3"
  },
  "language_info": {
   "codemirror_mode": {
    "name": "ipython",
    "version": 3
   },
   "file_extension": ".py",
   "mimetype": "text/x-python",
   "name": "python",
   "nbconvert_exporter": "python",
   "pygments_lexer": "ipython3",
   "version": "3.10.8"
  }
 },
 "nbformat": 4,
 "nbformat_minor": 5
}
