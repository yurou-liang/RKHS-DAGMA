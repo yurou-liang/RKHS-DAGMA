{
 "cells": [
  {
   "cell_type": "code",
   "execution_count": 2,
   "metadata": {},
   "outputs": [],
   "source": [
    "import requests\n",
    "from io import StringIO\n",
    "import numpy as np\n",
    "import pandas as pd\n",
    "from bs4 import BeautifulSoup\n",
    "import re"
   ]
  },
  {
   "cell_type": "code",
   "execution_count": 3,
   "metadata": {},
   "outputs": [
    {
     "name": "stdout",
     "output_type": "stream",
     "text": [
      "86 This shouldn't happen\n",
      "88 This shouldn't happen\n"
     ]
    }
   ],
   "source": [
    "index_values = []\n",
    "expected_values = []\n",
    "url_values = []\n",
    "for index in range(1,109):\n",
    "    url = 'https://webdav.tuebingen.mpg.de/cause-effect/pair' + str(index).zfill(4) + '.txt'\n",
    "    des_url = 'https://webdav.tuebingen.mpg.de/cause-effect/pair' + str(index).zfill(4) + '_des.txt'\n",
    "    response = requests.get(des_url)\n",
    "    if response.status_code == 200:\n",
    "        # Read the content of the file\n",
    "        description = ''.join(response.text.split())\n",
    "        if re.search(r'>[Yy]|[Yy]<', description):\n",
    "            expected = 0\n",
    "        elif re.search(r'>[Xx]|[Xx]<', description):\n",
    "            expected = 1\n",
    "        else:\n",
    "            print(f\"{index} This shouldn't happen\")\n",
    "        index_values.append(index)\n",
    "        expected_values.append(expected)\n",
    "        url_values.append(url)\n",
    "    else:\n",
    "        raise ValueError(f'Failed to retrieve the file: Status code {response.status_code}')\n",
    "    "
   ]
  },
  {
   "cell_type": "code",
   "execution_count": 17,
   "metadata": {
    "vscode": {
     "languageId": "javascript"
    }
   },
   "outputs": [],
   "source": [
    "causality_df = pd.DataFrame({\n",
    "    'index': index_values,\n",
    "    'causality': expected_values,\n",
    "    'URL': url_values\n",
    "})"
   ]
  },
  {
   "cell_type": "code",
   "execution_count": 18,
   "metadata": {},
   "outputs": [],
   "source": [
    "causality_df.to_csv(\"causality_df.csv\")"
   ]
  },
  {
   "cell_type": "code",
   "execution_count": null,
   "metadata": {},
   "outputs": [],
   "source": []
  }
 ],
 "metadata": {
  "kernelspec": {
   "display_name": "RKHS",
   "language": "python",
   "name": "python3"
  },
  "language_info": {
   "codemirror_mode": {
    "name": "ipython",
    "version": 3
   },
   "file_extension": ".py",
   "mimetype": "text/x-python",
   "name": "python",
   "nbconvert_exporter": "python",
   "pygments_lexer": "ipython3",
   "version": "3.11.5"
  }
 },
 "nbformat": 4,
 "nbformat_minor": 2
}
