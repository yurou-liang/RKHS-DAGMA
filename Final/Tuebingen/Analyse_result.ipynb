{
 "cells": [
  {
   "cell_type": "code",
   "execution_count": 1,
   "metadata": {},
   "outputs": [
    {
     "name": "stderr",
     "output_type": "stream",
     "text": [
      "Detecting 1 CUDA device(s).\n"
     ]
    }
   ],
   "source": [
    "import os\n",
    "import glob\n",
    "import json\n",
    "import numpy as np\n",
    "import matplotlib.pyplot as plt\n",
    "import pandas as pd\n",
    "import seaborn as sns\n",
    "from cdt.metrics import SID"
   ]
  },
  {
   "cell_type": "code",
   "execution_count": 4,
   "metadata": {},
   "outputs": [
    {
     "name": "stdout",
     "output_type": "stream",
     "text": [
      "Accuracy is 0.0\n"
     ]
    }
   ],
   "source": [
    "n_data = 0\n",
    "correct = 0\n",
    "files = glob.glob('*th_data_NOTEARS_MLP_results.txt')\n",
    "for filename in files:\n",
    "    n_data += 1\n",
    "    with open(filename, 'r') as file:\n",
    "        data = json.load(file)\n",
    "        result = data[\"estimation\"]\n",
    "        if result == \"correct\":\n",
    "            print(f\"correct result in {filename}.\")\n",
    "            correct += 1\n",
    "acc = correct/n_data\n",
    "print(f\"Accuracy is {acc}\")"
   ]
  },
  {
   "cell_type": "code",
   "execution_count": 5,
   "metadata": {},
   "outputs": [
    {
     "name": "stdout",
     "output_type": "stream",
     "text": [
      "correct result in 100th_data_RKHS_results.txt.\n",
      "correct result in 106th_data_RKHS_results.txt.\n",
      "correct result in 107th_data_RKHS_results.txt.\n",
      "correct result in 10th_data_RKHS_results.txt.\n",
      "correct result in 11th_data_RKHS_results.txt.\n",
      "correct result in 12th_data_RKHS_results.txt.\n",
      "correct result in 13th_data_RKHS_results.txt.\n",
      "correct result in 15th_data_RKHS_results.txt.\n",
      "correct result in 18th_data_RKHS_results.txt.\n",
      "correct result in 19th_data_RKHS_results.txt.\n",
      "correct result in 22th_data_RKHS_results.txt.\n",
      "correct result in 23th_data_RKHS_results.txt.\n",
      "correct result in 24th_data_RKHS_results.txt.\n",
      "correct result in 25th_data_RKHS_results.txt.\n",
      "correct result in 26th_data_RKHS_results.txt.\n",
      "correct result in 28th_data_RKHS_results.txt.\n",
      "correct result in 29th_data_RKHS_results.txt.\n",
      "correct result in 2th_data_RKHS_results.txt.\n",
      "correct result in 30th_data_RKHS_results.txt.\n",
      "correct result in 32th_data_RKHS_results.txt.\n",
      "correct result in 33th_data_RKHS_results.txt.\n",
      "correct result in 34th_data_RKHS_results.txt.\n",
      "correct result in 38th_data_RKHS_results.txt.\n",
      "correct result in 39th_data_RKHS_results.txt.\n",
      "correct result in 40th_data_RKHS_results.txt.\n",
      "correct result in 41th_data_RKHS_results.txt.\n",
      "correct result in 5th_data_RKHS_results.txt.\n",
      "correct result in 6th_data_RKHS_results.txt.\n",
      "correct result in 72th_data_RKHS_results.txt.\n",
      "correct result in 78th_data_RKHS_results.txt.\n",
      "correct result in 7th_data_RKHS_results.txt.\n",
      "correct result in 80th_data_RKHS_results.txt.\n",
      "correct result in 95th_data_RKHS_results.txt.\n",
      "correct result in 97th_data_RKHS_results.txt.\n",
      "correct result in 98th_data_RKHS_results.txt.\n",
      "correct result in 99th_data_RKHS_results.txt.\n",
      "correct result in 9th_data_RKHS_results.txt.\n",
      "Accuracy is 0.6271186440677966\n"
     ]
    }
   ],
   "source": [
    "n_data = 0\n",
    "correct = 0\n",
    "files = glob.glob('*th_data_RKHS_results.txt')\n",
    "for filename in files:\n",
    "    n_data += 1\n",
    "    with open(filename, 'r') as file:\n",
    "        data = json.load(file)\n",
    "        result = data[\"threshold_0.1\"][\"estimation\"]\n",
    "        if result == \"correct\":\n",
    "            print(f\"correct result in {filename}.\")\n",
    "            correct += 1\n",
    "acc = correct/n_data\n",
    "print(f\"Accuracy is {acc}\")"
   ]
  },
  {
   "cell_type": "code",
   "execution_count": 21,
   "metadata": {},
   "outputs": [
    {
     "name": "stdout",
     "output_type": "stream",
     "text": [
      "correct result in 100th_data_NOTEARS_SOB_results.txt.\n",
      "correct result in 107th_data_NOTEARS_SOB_results.txt.\n",
      "correct result in 10th_data_NOTEARS_SOB_results.txt.\n",
      "correct result in 11th_data_NOTEARS_SOB_results.txt.\n",
      "correct result in 16th_data_NOTEARS_SOB_results.txt.\n",
      "correct result in 25th_data_NOTEARS_SOB_results.txt.\n",
      "correct result in 28th_data_NOTEARS_SOB_results.txt.\n",
      "correct result in 29th_data_NOTEARS_SOB_results.txt.\n",
      "correct result in 2th_data_NOTEARS_SOB_results.txt.\n",
      "correct result in 32th_data_NOTEARS_SOB_results.txt.\n",
      "correct result in 33th_data_NOTEARS_SOB_results.txt.\n",
      "correct result in 3th_data_NOTEARS_SOB_results.txt.\n",
      "correct result in 40th_data_NOTEARS_SOB_results.txt.\n",
      "correct result in 5th_data_NOTEARS_SOB_results.txt.\n",
      "correct result in 6th_data_NOTEARS_SOB_results.txt.\n",
      "correct result in 78th_data_NOTEARS_SOB_results.txt.\n",
      "correct result in 79th_data_NOTEARS_SOB_results.txt.\n",
      "correct result in 7th_data_NOTEARS_SOB_results.txt.\n",
      "correct result in 80th_data_NOTEARS_SOB_results.txt.\n",
      "correct result in 8th_data_NOTEARS_SOB_results.txt.\n",
      "correct result in 9th_data_NOTEARS_SOB_results.txt.\n",
      "Accuracy is 0.3559322033898305\n"
     ]
    }
   ],
   "source": [
    "n_data = 0\n",
    "correct = 0\n",
    "files = glob.glob('*th_data_NOTEARS_SOB_results.txt')\n",
    "for filename in files:\n",
    "    n_data += 1\n",
    "    with open(filename, 'r') as file:\n",
    "        data = json.load(file)\n",
    "        result = data[\"estimation\"]\n",
    "        if result == \"correct\":\n",
    "            print(f\"correct result in {filename}.\")\n",
    "            correct += 1\n",
    "acc = correct/n_data\n",
    "print(f\"Accuracy is {acc}\")"
   ]
  },
  {
   "cell_type": "code",
   "execution_count": 22,
   "metadata": {},
   "outputs": [
    {
     "data": {
      "text/plain": [
       "59"
      ]
     },
     "execution_count": 22,
     "metadata": {},
     "output_type": "execute_result"
    }
   ],
   "source": [
    "n_data"
   ]
  },
  {
   "cell_type": "code",
   "execution_count": null,
   "metadata": {},
   "outputs": [],
   "source": []
  }
 ],
 "metadata": {
  "kernelspec": {
   "display_name": "RKHS",
   "language": "python",
   "name": "python3"
  },
  "language_info": {
   "codemirror_mode": {
    "name": "ipython",
    "version": 3
   },
   "file_extension": ".py",
   "mimetype": "text/x-python",
   "name": "python",
   "nbconvert_exporter": "python",
   "pygments_lexer": "ipython3",
   "version": "3.11.5"
  }
 },
 "nbformat": 4,
 "nbformat_minor": 2
}
